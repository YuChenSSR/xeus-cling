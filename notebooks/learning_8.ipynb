{
 "cells": [
  {
   "cell_type": "markdown",
   "metadata": {},
   "source": [
    "# 字符串和指针"
   ]
  },
  {
   "cell_type": "markdown",
   "metadata": {},
   "source": [
    "## 字符串和指针"
   ]
  },
  {
   "cell_type": "code",
   "execution_count": 128,
   "metadata": {
    "vscode": {
     "languageId": "cpp"
    }
   },
   "outputs": [],
   "source": [
    "#include <iostream>\n",
    "#include <typeinfo>\n",
    "\n",
    "using namespace std;"
   ]
  },
  {
   "cell_type": "code",
   "execution_count": 129,
   "metadata": {
    "vscode": {
     "languageId": "cpp"
    }
   },
   "outputs": [
    {
     "name": "stdout",
     "output_type": "stream",
     "text": [
      "字符串字面量\"ABC\"\n",
      "  类型：A4_c  大小：4\n",
      "\n",
      "字符串字面量\"\"\n",
      "  类型：A1_c  大小：1\n",
      "\n",
      "字符串字面量\"ABC\\0DEF\"\n",
      "  类型：A8_c  大小：8\n"
     ]
    },
    {
     "data": {
      "text/plain": [
       "0"
      ]
     },
     "execution_count": 129,
     "metadata": {},
     "output_type": "execute_result"
    }
   ],
   "source": [
    "// 显示字符串字面量的类型和大小\n",
    "\n",
    "// 显示字符串字面量的类型和大小\n",
    "\n",
    "\n",
    "\n",
    "int main()\n",
    "{\n",
    "\tcout << \"字符串字面量\\\"ABC\\\"\\n\";\n",
    "\tcout << \"  类型：\"     << typeid(\"ABC\").name()\n",
    "\t\t << \"  大小：\" << sizeof(\"ABC\") << \"\\n\\n\";\n",
    "\n",
    "\tcout << \"字符串字面量\\\"\\\"\\n\";\n",
    "\tcout << \"  类型：\"     << typeid(\"\").name()\n",
    "\t\t << \"  大小：\" << sizeof(\"\") << \"\\n\\n\";\n",
    "\n",
    "\tcout << \"字符串字面量\\\"ABC\\\\0DEF\\\"\\n\";\n",
    "\tcout << \"  类型：\"     << typeid(\"ABC\\0DEF\").name()\n",
    "\t\t << \"  大小：\" << sizeof(\"ABC\\0DEF\") << \"\\n\";\n",
    "}\n",
    "\n",
    "main()\n"
   ]
  },
  {
   "cell_type": "code",
   "execution_count": 130,
   "metadata": {
    "vscode": {
     "languageId": "cpp"
    }
   },
   "outputs": [
    {
     "name": "stdout",
     "output_type": "stream",
     "text": [
      "ABC\n",
      "A\n",
      "B\n",
      "C\n",
      "\u0000\n",
      "\u0000\n",
      "\u0000\n"
     ]
    },
    {
     "data": {
      "text/plain": [
       "@0x7a91c4544de0"
      ]
     },
     "execution_count": 130,
     "metadata": {},
     "output_type": "execute_result"
    }
   ],
   "source": [
    "const char* p = \"ABC\";\n",
    "cout << p << \"\\n\";\n",
    "cout << p[0] << \"\\n\";\n",
    "cout << p[1] << \"\\n\";\n",
    "cout << p[2] << \"\\n\";\n",
    "cout << p[3] << \"\\n\";\n",
    "cout << oct << p[3] << \"\\n\"; // 8进制\n",
    "cout << dec << p[3] << \"\\n\"; // 10进制"
   ]
  },
  {
   "cell_type": "code",
   "execution_count": 131,
   "metadata": {
    "vscode": {
     "languageId": "cpp"
    }
   },
   "outputs": [
    {
     "name": "stdout",
     "output_type": "stream",
     "text": [
      "ABC\n",
      "6\n"
     ]
    },
    {
     "data": {
      "text/plain": [
       "@0x7a91c4544de0"
      ]
     },
     "execution_count": 131,
     "metadata": {},
     "output_type": "execute_result"
    }
   ],
   "source": [
    "char s[6] = {'A', 'B', 'C', '\\0', 'D', 'E'};\n",
    "\n",
    "cout << s << \"\\n\"; // s 输出时终止在第一个 '\\0' 字符处\n",
    "cout << sizeof(s) << \"\\n\"; // "
   ]
  },
  {
   "cell_type": "code",
   "execution_count": 132,
   "metadata": {
    "vscode": {
     "languageId": "cpp"
    }
   },
   "outputs": [
    {
     "name": "stdout",
     "output_type": "stream",
     "text": [
      "1\n"
     ]
    },
    {
     "data": {
      "text/plain": [
       "@0x7a91c4544de0"
      ]
     },
     "execution_count": 132,
     "metadata": {},
     "output_type": "execute_result"
    }
   ],
   "source": [
    "char n[] = \"\";\n",
    "cout << sizeof(n) << \"\\n\"; // 1, 空字符串的大小为1，因为它包含一个终止字符 '\\0'"
   ]
  },
  {
   "cell_type": "code",
   "execution_count": 133,
   "metadata": {
    "vscode": {
     "languageId": "cpp"
    }
   },
   "outputs": [
    {
     "name": "stdout",
     "output_type": "stream",
     "text": [
      "\n",
      "6\n"
     ]
    },
    {
     "data": {
      "text/plain": [
       "@0x7a91c4544de0"
      ]
     },
     "execution_count": 133,
     "metadata": {},
     "output_type": "execute_result"
    }
   ],
   "source": [
    "//字符串 s 变为空字符串\n",
    "\n",
    "s[0] = '\\0';\n",
    "cout << s << \"\\n\"; // 输出为空字符串\n",
    "cout << sizeof(s) << \"\\n\"; // "
   ]
  },
  {
   "cell_type": "code",
   "execution_count": 134,
   "metadata": {
    "vscode": {
     "languageId": "cpp"
    }
   },
   "outputs": [],
   "source": [
    "// 显示接收的字符串\n",
    "\n",
    "//--- 显示字符串 s ---//\n",
    "void put_string(const char s[])\n",
    "{\n",
    "    // for (int i = 0; s[i] != '\\0'; i++)\n",
    "    for (int i = 0; s[i]; i++)\n",
    "        cout << s[i];\n",
    "}"
   ]
  },
  {
   "cell_type": "code",
   "execution_count": 135,
   "metadata": {
    "vscode": {
     "languageId": "cpp"
    }
   },
   "outputs": [
    {
     "name": "stdout",
     "output_type": "stream",
     "text": [
      "ABCD"
     ]
    }
   ],
   "source": [
    "put_string(\"ABCD\\0ADS\");"
   ]
  },
  {
   "cell_type": "code",
   "execution_count": 136,
   "metadata": {
    "vscode": {
     "languageId": "cpp"
    }
   },
   "outputs": [],
   "source": [
    "//--- 显示字符串 s（把小写字母转换为大写字母） ---//\n",
    "#include <cctype>\n",
    "\n",
    "void put_string_upper(const char s[])\n",
    "{\n",
    "    for (int i = 0; s[i]; i++)\n",
    "        cout << static_cast<char>(toupper(s[i]));\n",
    "        // cout << (toupper(s[i])) << \"\\n\";\n",
    "}"
   ]
  },
  {
   "cell_type": "code",
   "execution_count": 137,
   "metadata": {
    "vscode": {
     "languageId": "cpp"
    }
   },
   "outputs": [
    {
     "name": "stdout",
     "output_type": "stream",
     "text": [
      "ABCD"
     ]
    }
   ],
   "source": [
    "put_string_upper(\"abcD\\0ADS\");"
   ]
  },
  {
   "cell_type": "code",
   "execution_count": 138,
   "metadata": {
    "vscode": {
     "languageId": "cpp"
    }
   },
   "outputs": [],
   "source": [
    "// int main()\n",
    "// {\n",
    "// \tchar str[36];\n",
    "\n",
    "// \tcout << \"字符串：\";\n",
    "// \t// cin >> str; // 读入字符串, 不能输入空格\n",
    "// \tcin.getline(str, sizeof(str), '\\n'); // 读入字符串, 可以输入空格\n",
    "\n",
    "// \tput_string_upper(str);\n",
    "// \tcout << '\\n';\n",
    "// }\n",
    "\n",
    "// main()"
   ]
  },
  {
   "cell_type": "code",
   "execution_count": 139,
   "metadata": {
    "vscode": {
     "languageId": "cpp"
    }
   },
   "outputs": [
    {
     "name": "stdout",
     "output_type": "stream",
     "text": [
      "花姑娘巴嘎花姑娘巴嘎"
     ]
    }
   ],
   "source": [
    "put_string_upper(\"花姑娘巴嘎\"); // 看看是否能正确处理中文字符\n",
    "put_string(\"花姑娘巴嘎\"); // 看看是否能正确处理中文字符"
   ]
  },
  {
   "cell_type": "code",
   "execution_count": 140,
   "metadata": {
    "vscode": {
     "languageId": "cpp"
    }
   },
   "outputs": [
    {
     "name": "stdout",
     "output_type": "stream",
     "text": [
      "ABC\n"
     ]
    }
   ],
   "source": [
    "// 字符数组和字符串指针\n",
    "\n",
    "char s[] = \"ABC\"; // 字符数组\n",
    "// char* p = \"ABC\"; // 字符串指针 warning:ISO C++11 does not allow conversion from string literal to 'char *' [-Wwritable-strings]\n",
    "const char* p = \"ABC\";  //正确声明p为指向const char的指针\n",
    "cout << p << \"\\n\";"
   ]
  },
  {
   "cell_type": "code",
   "execution_count": 141,
   "metadata": {
    "vscode": {
     "languageId": "cpp"
    }
   },
   "outputs": [
    {
     "data": {
      "text/plain": [
       "8"
      ]
     },
     "execution_count": 141,
     "metadata": {},
     "output_type": "execute_result"
    }
   ],
   "source": [
    "sizeof(char*)"
   ]
  },
  {
   "cell_type": "code",
   "execution_count": 142,
   "metadata": {
    "vscode": {
     "languageId": "cpp"
    }
   },
   "outputs": [
    {
     "data": {
      "text/plain": [
       "4"
      ]
     },
     "execution_count": 142,
     "metadata": {},
     "output_type": "execute_result"
    }
   ],
   "source": [
    "sizeof(\"123\")"
   ]
  },
  {
   "cell_type": "code",
   "execution_count": 143,
   "metadata": {
    "vscode": {
     "languageId": "cpp"
    }
   },
   "outputs": [
    {
     "name": "stdout",
     "output_type": "stream",
     "text": [
      "p = \"ABC\"\n",
      "p = \"XYZ\"\n"
     ]
    }
   ],
   "source": [
    "const char* p = \"ABC\";\n",
    "\n",
    "cout << \"p = \\\"\" << p << \"\\\"\\n\";\n",
    "\n",
    "p = \"XYZ\";\t\t\t// OK\n",
    "\n",
    "cout << \"p = \\\"\" << p << \"\\\"\\n\";"
   ]
  },
  {
   "cell_type": "code",
   "execution_count": 144,
   "metadata": {
    "vscode": {
     "languageId": "cpp"
    }
   },
   "outputs": [
    {
     "name": "stdout",
     "output_type": "stream",
     "text": [
      "a[0] = \"LISP\"\n",
      "a[1] = \"C\"\n",
      "a[2] = \"Ada\"\n",
      "p[0] = \"PAUL\"\n",
      "p[1] = \"X\"\n",
      "p[2] = \"MAC\"\n"
     ]
    },
    {
     "data": {
      "text/plain": [
       "0"
      ]
     },
     "execution_count": 144,
     "metadata": {},
     "output_type": "execute_result"
    }
   ],
   "source": [
    "int main()\n",
    "{\n",
    "\tchar a[][5] = {\"LISP\", \"C\", \"Ada\"};\t\t// 字符数组的数组\n",
    "\tconst char* p[]   = {\"PAUL\", \"X\", \"MAC\"};\t\t// 字符串指针的数组 不保证字符串的存放顺序及连续性\n",
    "\n",
    "\tfor (int i = 0; i < 3; i++)\n",
    "\t\tcout << \"a[\" << i << \"] = \\\"\" << a[i] << \"\\\"\\n\";\n",
    "\n",
    "\tfor (int i = 0; i < 3; i++)\n",
    "\t\tcout << \"p[\" << i << \"] = \\\"\" << p[i] << \"\\\"\\n\";\n",
    "}\n",
    "\n",
    "main()"
   ]
  },
  {
   "cell_type": "markdown",
   "metadata": {
    "vscode": {
     "languageId": "cpp"
    }
   },
   "source": [
    "## cstring 库"
   ]
  },
  {
   "cell_type": "code",
   "execution_count": 145,
   "metadata": {
    "vscode": {
     "languageId": "cpp"
    }
   },
   "outputs": [],
   "source": [
    "#include <cstring>"
   ]
  },
  {
   "cell_type": "code",
   "execution_count": 146,
   "metadata": {
    "vscode": {
     "languageId": "cpp"
    }
   },
   "outputs": [
    {
     "data": {
      "text/plain": [
       "3"
      ]
     },
     "execution_count": 146,
     "metadata": {},
     "output_type": "execute_result"
    }
   ],
   "source": [
    "strlen(\"ABC\") // 3 （不包含空字符）"
   ]
  },
  {
   "cell_type": "code",
   "execution_count": 147,
   "metadata": {
    "vscode": {
     "languageId": "cpp"
    }
   },
   "outputs": [
    {
     "data": {
      "text/plain": [
       "4"
      ]
     },
     "execution_count": 147,
     "metadata": {},
     "output_type": "execute_result"
    }
   ],
   "source": [
    "sizeof(\"ABC\") // 4"
   ]
  },
  {
   "cell_type": "code",
   "execution_count": 148,
   "metadata": {
    "vscode": {
     "languageId": "cpp"
    }
   },
   "outputs": [],
   "source": [
    "// size_t strlen(const char* s)\n",
    "// {\n",
    "// \tsize_t len = 0;\t\t// 长度\n",
    "\n",
    "// \twhile (*s++) // *s++ means *(s++), 先取s的值，然后s自增: *s; s++;   s++表示 s = s + 1\n",
    "// \t\tlen++;\n",
    "// \treturn len;\n",
    "// }"
   ]
  },
  {
   "cell_type": "code",
   "execution_count": 149,
   "metadata": {
    "vscode": {
     "languageId": "cpp"
    }
   },
   "outputs": [
    {
     "name": "stdout",
     "output_type": "stream",
     "text": [
      "strlen(s1)         = 0\n",
      "strlen(s2)         = 3\n",
      "strlen(&s2[1])     = 2\n",
      "strlen(s3)         = 2\n",
      "strlen(\"XYZ\")      = 3\n",
      "strlen(&\"XYZ\"[1])  = 2\n",
      "strlen(\"ABC\\0DEF\") = 3\n",
      "sizeof(\"ABC\\0DEF\") = 8\n"
     ]
    },
    {
     "data": {
      "text/plain": [
       "0"
      ]
     },
     "execution_count": 149,
     "metadata": {},
     "output_type": "execute_result"
    }
   ],
   "source": [
    "int main(void)\n",
    "{\n",
    "\tchar s1[8] = \"\";\n",
    "\tchar s2[8] = \"ABC\";\n",
    "\tchar s3[8] = \"AB\\0CDEF\";\n",
    "\n",
    "\tcout << \"strlen(s1)         = \"    << strlen(s1)         << '\\n';\n",
    "\tcout << \"strlen(s2)         = \"    << strlen(s2)         << '\\n';\n",
    "\tcout << \"strlen(&s2[1])     = \"    << strlen(&s2[1])     << '\\n';\n",
    "\tcout << \"strlen(s3)         = \"    << strlen(s3)         << '\\n';\n",
    "\tcout << \"strlen(\\\"XYZ\\\")      = \"  << strlen(\"XYZ\")      << '\\n';\n",
    "\tcout << \"strlen(&\\\"XYZ\\\"[1])  = \"  << strlen(&\"XYZ\"[1])  << '\\n';\n",
    "\tcout << \"strlen(\\\"ABC\\\\0DEF\\\") = \" << strlen(\"ABC\\0DEF\") << '\\n';\n",
    "\tcout << \"sizeof(\\\"ABC\\\\0DEF\\\") = \" << sizeof(\"ABC\\0DEF\") << '\\n';\n",
    "}\n",
    "\n",
    "main()"
   ]
  },
  {
   "cell_type": "code",
   "execution_count": 150,
   "metadata": {
    "vscode": {
     "languageId": "cpp"
    }
   },
   "outputs": [
    {
     "name": "stdout",
     "output_type": "stream",
     "text": [
      "8"
     ]
    },
    {
     "data": {
      "text/plain": [
       "@0x7a91c4544de0"
      ]
     },
     "execution_count": 150,
     "metadata": {},
     "output_type": "execute_result"
    }
   ],
   "source": [
    "cout << sizeof(\"ABC\\0DEF\");  //为什么得到10? 那是因为cout << oct 导致后面的输出都是8进制\n"
   ]
  },
  {
   "cell_type": "markdown",
   "metadata": {},
   "source": [
    "在 strncpy 函数中，当提到源字符串 src 的长度时，通常指的是字符串的字符数直到但不包括末尾的空字符 '\\0'。因此，当 src 的长度小于 n 时，这个长度是不包括末尾的空字符的"
   ]
  },
  {
   "cell_type": "code",
   "execution_count": 151,
   "metadata": {
    "vscode": {
     "languageId": "cpp"
    }
   },
   "outputs": [
    {
     "name": "stdout",
     "output_type": "stream",
     "text": [
      "请输入字符串：s3 = 123XXXXXX\n",
      "s3 = 123\n",
      "s3[0] = 1\n",
      "s3[1] = 2\n",
      "s3[2] = 3\n",
      "s3[3] = \u0000\n",
      "s3[4] = \u0000\n",
      "s3[5] = X\n",
      "s3[6] = X\n",
      "s3[7] = X\n",
      "s3[8] = X\n",
      "s3[9] = \u0000\n",
      "s3 = 12345XXXX\n",
      "s3 = 12345\n",
      "s3 = 12345\n",
      "s3 = 123456789\n"
     ]
    },
    {
     "data": {
      "text/plain": [
       "0"
      ]
     },
     "execution_count": 151,
     "metadata": {},
     "output_type": "execute_result"
    }
   ],
   "source": [
    "// // strcpy 函数和 strncpy 函数的使用\n",
    "int main(void)\n",
    "{\n",
    "\tchar tmp[16];\n",
    "\tchar s1[16], s2[16], s3[16];\n",
    "\n",
    "\tcout << \"请输入字符串：\";\n",
    "\t// cin >> tmp;\n",
    "\n",
    "\t// strcpy(s1, strcpy(s2, tmp));\t// 把字符串复制到s1和s2\n",
    "\n",
    "\t// cout << \"字符串s1为\\\"\" << s1 << \"\\\"。\\n\";\n",
    "\t// cout << \"字符串s2为\\\"\" << s2 << \"\\\"。\\n\";\n",
    "\t// cout << \"字符串s3为\\\"\" << strcpy(s3, tmp) << \"\\\"。\\n\";\n",
    "\n",
    "\tconst char* x = \"XXXXXXXXX\";\t\t\t// 9个'X'和1个空字符\n",
    "\n",
    "\tstrcpy(s3, x); strncpy(s3, \"12345\", 3);\t\t cout << \"s3 = \" << s3 << '\\n';\n",
    "\tstrcpy(s3, x); strncpy(s3, \"123\\0A45\", 5);\t\t cout << \"s3 = \" << s3 << '\\n';\n",
    "    for (int i = 0; i < 10; i++)\n",
    "    {\n",
    "        cout << \"s3[\" << i << \"] = \" << s3[i] << '\\n';\n",
    "    }\n",
    "    strcpy(s3, x); strncpy(s3, \"12345\", 5);\t\t cout << \"s3 = \" << s3 << '\\n';\n",
    "\tstrcpy(s3, x); strncpy(s3, \"12345\", 6);\t\t cout << \"s3 = \" << s3 << '\\n';\n",
    "\tstrcpy(s3, x); strncpy(s3, \"12345\", 7);\t\t cout << \"s3 = \" << s3 << '\\n';\n",
    "\tstrcpy(s3, x); strncpy(s3, \"1234567890\", 9); cout << \"s3 = \" << s3 << '\\n';\n",
    "}\n",
    "\n",
    "main()\n",
    "\n",
    "\n",
    "// 请输入字符串：\n",
    "// 字符串s1为\"dsfg\"。\n",
    "// 字符串s2为\"dsfg\"。\n",
    "// 字符串s3为\"dsfg\"。\n",
    "// s3 = 123XXXXXX\n",
    "// s3 = 123 // 123 后面的字符被截断\n",
    "// s3 = 12345XXXX\n",
    "// s3 = 12345\n",
    "// s3 = 12345\n",
    "// s3 = 123456789"
   ]
  },
  {
   "cell_type": "code",
   "execution_count": 152,
   "metadata": {
    "vscode": {
     "languageId": "cpp"
    }
   },
   "outputs": [
    {
     "name": "stdout",
     "output_type": "stream",
     "text": [
      "Copied string: Hello World\n"
     ]
    },
    {
     "data": {
      "text/plain": [
       "0"
      ]
     },
     "execution_count": 152,
     "metadata": {},
     "output_type": "execute_result"
    }
   ],
   "source": [
    "int main() {\n",
    "    char src[] = \"Hello World\";\n",
    "    char dest[20];\n",
    "\n",
    "    // 复制最多11个字符到dest\n",
    "    strncpy(dest, src, 11);\n",
    "\n",
    "    // 确保字符串以空字符结尾\n",
    "    dest[11] = '\\0';\n",
    "\n",
    "    std::cout << \"Copied string: \" << dest << std::endl;\n",
    "\n",
    "    return 0;\n",
    "}\n",
    "\n",
    "main()"
   ]
  },
  {
   "cell_type": "code",
   "execution_count": 153,
   "metadata": {
    "vscode": {
     "languageId": "cpp"
    }
   },
   "outputs": [
    {
     "name": "stdout",
     "output_type": "stream",
     "text": [
      "s = QWERTY\n",
      "s = ABC1\n",
      "s = ABC123\n",
      "s = ABC123\n",
      "s = ABC12345\n",
      "s = ABC12345\n"
     ]
    },
    {
     "data": {
      "text/plain": [
       "0"
      ]
     },
     "execution_count": 153,
     "metadata": {},
     "output_type": "execute_result"
    }
   ],
   "source": [
    "// strcat 函数和 strncat 函数的使用\n",
    "\n",
    "int main(void)\n",
    "{\n",
    "\tchar s[10];\n",
    "\tconst char* x = \"ABC\";\n",
    "\n",
    "\tstrcpy(s, \"QWE\");\t// s变为\"QWE\"\n",
    "\tstrcat(s, \"RTY\");\t// s变为\"QWERTY\"\n",
    "\tcout << \"s = \" << s << '\\n';\n",
    "\n",
    "\tstrcpy(s, x);\tstrncat(s, \"123\", 1);\t\tcout << \"s = \" << s << '\\n';\n",
    "\n",
    "\tstrcpy(s, x);\tstrncat(s, \"123\", 3);\t\tcout << \"s = \" << s << '\\n';\n",
    "\n",
    "\tstrcpy(s, x);\tstrncat(s, \"123\", 5);\t\tcout << \"s = \" << s << '\\n';\n",
    "\n",
    "\tstrcpy(s, x);\tstrncat(s, \"12345\", 5);\t\tcout << \"s = \" << s << '\\n';\n",
    "\n",
    "\tstrcpy(s, x);\tstrncat(s, \"123456789\", 5);\tcout << \"s = \" << s << '\\n';\n",
    "}\n",
    "\n",
    "main()"
   ]
  },
  {
   "cell_type": "code",
   "execution_count": 154,
   "metadata": {
    "vscode": {
     "languageId": "cpp"
    }
   },
   "outputs": [
    {
     "name": "stdout",
     "output_type": "stream",
     "text": [
      "与\"ABCDE\"进行比较。\n",
      "以\"XXXXX\"结束。\n",
      "\n",
      "字符串st：XXXXX\n"
     ]
    },
    {
     "data": {
      "text/plain": [
       "0"
      ]
     },
     "execution_count": 154,
     "metadata": {},
     "output_type": "execute_result"
    }
   ],
   "source": [
    "// strcmp函数和strncmp函数的使用\n",
    "\n",
    "int main(void)\n",
    "{\n",
    "    char st[128];\n",
    "\n",
    "    cout << \"与\\\"ABCDE\\\"进行比较。\\n\";\n",
    "    cout << \"以\\\"XXXXX\\\"结束。\\n\";\n",
    "\n",
    "    while (1) {\n",
    "        cout << \"\\n字符串st：\";\n",
    "        cin >> st;\n",
    "        cout << st << '\\n';\n",
    "\n",
    "        if (strcmp(st, \"XXXXX\") == 0)\n",
    "            break;\n",
    "        cout << \"strcmp( \\\"ABCDE\\\", st)    = \" << strcmp( \"ABCDE\", st) << '\\n';\n",
    "        cout << \"strncmp(\\\"ABCDE\\\", st, 3) = \" << strncmp(\"ABCDE\", st, 3) << '\\n';\n",
    "    }\n",
    "}\n",
    "\n",
    "main()"
   ]
  },
  {
   "cell_type": "markdown",
   "metadata": {},
   "source": [
    "## 总结"
   ]
  },
  {
   "cell_type": "code",
   "execution_count": 160,
   "metadata": {
    "vscode": {
     "languageId": "cpp"
    }
   },
   "outputs": [
    {
     "name": "stdout",
     "output_type": "stream",
     "text": [
      "a = CIA\n",
      "p = FBI\n",
      "sizeof(a2) = 15\n",
      "sizeof(a2[0]) = 5\n",
      "a2[0] = LISP\n",
      "a2[1] = C\n",
      "a2[2] = Ada\n",
      "sizeof(p2) = 24\n",
      "sizeof(p2[0]) = 8\n",
      "p2[0] = PAUL\n",
      "p2[1] = X\n",
      "p2[2] = MAC\n"
     ]
    },
    {
     "data": {
      "text/plain": [
       "0"
      ]
     },
     "execution_count": 160,
     "metadata": {},
     "output_type": "execute_result"
    }
   ],
   "source": [
    "int main()\n",
    "{\n",
    "\tchar a[] = \"CIA\";\t// 字符数组\n",
    "\tconst char* p  = \"FBI\";\t// 字符串指针\n",
    "\tchar a2[][5] = {\"LISP\", \"C\", \"Ada\"};\t// 字符数组的数组\n",
    "\tconst char* p2[]   = {\"PAUL\", \"X\", \"MAC\"};\t// 字符串指针的数组\n",
    "\n",
    "\tcout << \"a = \";  put_string(a);  cout << '\\n';\n",
    "\tcout << \"p = \";  put_string(p);  cout << '\\n';\n",
    "\n",
    "\tcout << \"sizeof(a2) = \" << sizeof(a2) << '\\n';\n",
    "\tcout << \"sizeof(a2[0]) = \" << sizeof(a2[0]) << '\\n';\n",
    "\tfor (int i = 0; i < sizeof(a2) / sizeof(a2[0]); i++) {\n",
    "\t\tcout << \"a2[\" << i << \"] = \";   put_string(a2[i]);   cout << '\\n';\n",
    "\t}\n",
    "\n",
    "\tcout << \"sizeof(p2) = \" << sizeof(p2) << '\\n';\n",
    "\tcout << \"sizeof(p2[0]) = \" << sizeof(p2[0]) << '\\n';\n",
    "\tfor (int i = 0; i < sizeof(p2) / sizeof(p2[0]); i++) {\n",
    "\t\tcout << \"p2[\" << i << \"] = \";   put_string(p2[i]);   cout << '\\n';\n",
    "\t}\n",
    "}\n",
    "\n",
    "main()"
   ]
  },
  {
   "cell_type": "code",
   "execution_count": null,
   "metadata": {
    "vscode": {
     "languageId": "cpp"
    }
   },
   "outputs": [],
   "source": []
  }
 ],
 "metadata": {
  "kernelspec": {
   "display_name": "C++17",
   "language": "C++17",
   "name": "xcpp17"
  },
  "language_info": {
   "codemirror_mode": "text/x-c++src",
   "file_extension": ".cpp",
   "mimetype": "text/x-c++src",
   "name": "C++17",
   "version": "17"
  }
 },
 "nbformat": 4,
 "nbformat_minor": 2
}
