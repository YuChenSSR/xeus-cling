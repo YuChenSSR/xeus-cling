{
 "cells": [
  {
   "cell_type": "markdown",
   "metadata": {},
   "source": [
    "# 静态成员"
   ]
  },
  {
   "cell_type": "markdown",
   "metadata": {},
   "source": [
    "## 静态数据成员"
   ]
  },
  {
   "cell_type": "code",
   "execution_count": 11,
   "metadata": {
    "vscode": {
     "languageId": "cpp"
    }
   },
   "outputs": [],
   "source": [
    "// class IdNo{\n",
    "//     static int counter;\n",
    "//     int id_no;\n",
    "// public:\n",
    "//     IdNo() : id_no(++counter) {}\n",
    "//     int id() const { return id_no; }\n",
    "// };\n",
    "\n",
    "// //  in IdNo.h"
   ]
  },
  {
   "cell_type": "code",
   "execution_count": 3,
   "metadata": {
    "vscode": {
     "languageId": "cpp"
    }
   },
   "outputs": [],
   "source": [
    "#include <iostream>\n",
    "#include \"IdNo.h\"\n",
    "\n"
   ]
  },
  {
   "cell_type": "code",
   "execution_count": 4,
   "metadata": {
    "vscode": {
     "languageId": "cpp"
    }
   },
   "outputs": [
    {
     "name": "stderr",
     "output_type": "stream",
     "text": [
      "input_line_11:2:12: error: definition or redeclaration of 'counter' not allowed inside a function\n",
      " int IdNo::counter = 0;\n",
      "     ~~~~~~^\n",
      "input_line_11:3:11: error: function definition is not allowed here\n",
      "int main(){\n",
      "          ^\n"
     ]
    },
    {
     "ename": "Interpreter Error",
     "evalue": "",
     "output_type": "error",
     "traceback": [
      "Interpreter Error: "
     ]
    }
   ],
   "source": [
    "// int IdNo::counter = 0;\n",
    "\n",
    "// int main(){\n",
    "//     IdNo a;\n",
    "//     IdNo b;\n",
    "//     IdNo c;\n",
    "\n",
    "//     std::cout << \"aの識別番号:\" << a.id() << std::endl;\n",
    "//     std::cout << \"bの識別番号:\" << b.id() << std::endl;\n",
    "//     std::cout << \"cの識別番号:\" << c.id() << std::endl;\n",
    "// }"
   ]
  },
  {
   "cell_type": "markdown",
   "metadata": {},
   "source": [
    "## 静态成员函数"
   ]
  },
  {
   "cell_type": "code",
   "execution_count": null,
   "metadata": {
    "vscode": {
     "languageId": "cpp"
    }
   },
   "outputs": [],
   "source": []
  }
 ],
 "metadata": {
  "kernelspec": {
   "display_name": "C++17",
   "language": "C++17",
   "name": "xcpp17"
  },
  "language_info": {
   "codemirror_mode": "text/x-c++src",
   "file_extension": ".cpp",
   "mimetype": "text/x-c++src",
   "name": "C++17",
   "version": "17"
  }
 },
 "nbformat": 4,
 "nbformat_minor": 2
}
