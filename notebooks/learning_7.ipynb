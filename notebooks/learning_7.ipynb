{
 "cells": [
  {
   "cell_type": "markdown",
   "metadata": {},
   "source": [
    "# 指针"
   ]
  },
  {
   "cell_type": "markdown",
   "metadata": {},
   "source": [
    "## 指针和数组"
   ]
  },
  {
   "cell_type": "code",
   "execution_count": 1,
   "metadata": {
    "metadata": {},
    "vscode": {
     "languageId": "cpp"
    }
   },
   "outputs": [],
   "source": [
    "#include <iostream>"
   ]
  },
  {
   "cell_type": "code",
   "execution_count": 2,
   "metadata": {
    "metadata": {},
    "vscode": {
     "languageId": "cpp"
    }
   },
   "outputs": [],
   "source": [
    "using namespace std;"
   ]
  },
  {
   "cell_type": "code",
   "execution_count": 3,
   "metadata": {
    "metadata": {},
    "vscode": {
     "languageId": "cpp"
    }
   },
   "outputs": [],
   "source": [
    "// // int a[5];\n",
    "\n",
    "// int a[5] =  {0, 1, 2, 3, 4};\n",
    "\n",
    "// int* p = a;\n",
    "\n",
    "// cout << sizeof(int) << endl; // \n",
    "// cout << sizeof(a) << endl; //\n",
    "// cout << sizeof(p) << endl; //\n",
    "// cout << sizeof(*p) << endl; //   *p is not an array, it's an int"
   ]
  },
  {
   "cell_type": "code",
   "execution_count": 4,
   "metadata": {
    "metadata": {},
    "vscode": {
     "languageId": "cpp"
    }
   },
   "outputs": [],
   "source": [
    "// cout << *p << endl; "
   ]
  },
  {
   "cell_type": "code",
   "execution_count": 5,
   "metadata": {
    "metadata": {},
    "vscode": {
     "languageId": "cpp"
    }
   },
   "outputs": [],
   "source": [
    "// p = &a[2];\n",
    "\n",
    "// cout << *p << endl; "
   ]
  },
  {
   "cell_type": "markdown",
   "metadata": {},
   "source": [
    "p+1 表示 后面一个的数组元素"
   ]
  },
  {
   "cell_type": "code",
   "execution_count": 6,
   "metadata": {
    "metadata": {},
    "vscode": {
     "languageId": "cpp"
    }
   },
   "outputs": [],
   "source": [
    "// cout << *(p+1) << endl;"
   ]
  },
  {
   "cell_type": "code",
   "execution_count": 7,
   "metadata": {
    "metadata": {},
    "vscode": {
     "languageId": "cpp"
    }
   },
   "outputs": [],
   "source": [
    "// & 数组名”是指向数组整体的指针，而不是指向“指向第一个元素的指针”的指针。\n",
    "\n",
    "// 数组名是一个指向数组首元素的常量指针，不能改变数组名的值，即不能改变数组名指向的地址。\n",
    "\n"
   ]
  },
  {
   "cell_type": "code",
   "execution_count": 8,
   "metadata": {
    "metadata": {},
    "vscode": {
     "languageId": "cpp"
    }
   },
   "outputs": [
    {
     "name": "stdout",
     "output_type": "stream",
     "text": [
      "0x7feea7ad2030\n",
      "0x7feea7ad2034\n",
      "0x7feea7ad2038\n",
      "0x7feea7ad203c\n",
      "0x7feea7ad2040\n",
      "0x7feea7ad2030\n",
      "0x7feea7ad2034\n",
      "0x7feea7ad2038\n",
      "0x7feea7ad203c\n",
      "0x7feea7ad2040\n",
      "0x7feea7ad2030\n",
      "0x7feea7ad2034\n",
      "0x7feea7ad2038\n",
      "0x7feea7ad203c\n",
      "0x7feea7ad2040\n"
     ]
    }
   ],
   "source": [
    "// 显示数组元素的地址\n",
    "int a[5] = {0, 1, 2, 3, 4};\n",
    "int* p = a;\n",
    "\n",
    "for (int i = 0; i < 5; i++)\n",
    "{\n",
    "    cout << &a[i] << endl;\n",
    "    // cout << a[i] << endl;\n",
    "}\n",
    "\n",
    "for (int i = 0; i < 5; i++)\n",
    "{\n",
    "    cout << (a + i) << endl;\n",
    "}\n",
    "\n",
    "for (int i = 0; i < 5; i++)\n",
    "{\n",
    "    cout << (p + i) << endl;\n",
    "}"
   ]
  },
  {
   "cell_type": "code",
   "execution_count": 9,
   "metadata": {
    "metadata": {},
    "vscode": {
     "languageId": "cpp"
    }
   },
   "outputs": [
    {
     "name": "stdout",
     "output_type": "stream",
     "text": [
      "0\n",
      "1\n",
      "2\n",
      "3\n",
      "4\n"
     ]
    }
   ],
   "source": [
    "for (int i = 0; i < 5; i++)\n",
    "{\n",
    "    cout << p[i] << endl;\n",
    "}"
   ]
  },
  {
   "cell_type": "code",
   "execution_count": 10,
   "metadata": {
    "metadata": {},
    "vscode": {
     "languageId": "cpp"
    }
   },
   "outputs": [
    {
     "data": {
      "text/plain": [
       "4"
      ]
     },
     "execution_count": 10,
     "metadata": {},
     "output_type": "execute_result"
    }
   ],
   "source": [
    "p = &a[2];\n",
    "\n",
    "// p[1]\n",
    "2[p] // 2[p] = p[2] = *(p+2) = *(2+p) = 2[a] = a[2]"
   ]
  },
  {
   "cell_type": "code",
   "execution_count": 11,
   "metadata": {
    "metadata": {},
    "vscode": {
     "languageId": "cpp"
    }
   },
   "outputs": [],
   "source": [
    "// int b[5];\n",
    "// a = b; // error  a 被解释为指向数组第一个元素的指针，但是它的值不可以修改。"
   ]
  },
  {
   "cell_type": "code",
   "execution_count": 12,
   "metadata": {
    "metadata": {},
    "vscode": {
     "languageId": "cpp"
    }
   },
   "outputs": [
    {
     "name": "stdout",
     "output_type": "stream",
     "text": [
      "A5_i\n",
      "Pi\n"
     ]
    },
    {
     "data": {
      "text/plain": [
       "@0x7feea7cd0de0"
      ]
     },
     "execution_count": 12,
     "metadata": {},
     "output_type": "execute_result"
    }
   ],
   "source": [
    "cout << typeid(a).name() << endl; // int [5]\n",
    "cout <<  typeid(p).name() << endl; // int *"
   ]
  },
  {
   "cell_type": "code",
   "execution_count": 13,
   "metadata": {
    "metadata": {},
    "vscode": {
     "languageId": "cpp"
    }
   },
   "outputs": [],
   "source": [
    "// void fill(int (*a)[3], int n, int v)\n",
    "// {\n",
    "// \tfor (int i = 0; i < n; i++)\n",
    "// \t\tfor (int j = 0; j < 3; j++)\n",
    "// \t\t\ta[i][j] = v;\n",
    "// }\n",
    "\n",
    "void fill(int a[][3], int n, int v)\n",
    "{\n",
    "\tfor (int i = 0; i < n; i++)\n",
    "\t\tfor (int j = 0; j < 3; j++)\n",
    "\t\t\ta[i][j] = i + j;\n",
    "\n",
    "\tcout << *(a[0] + 2) << endl;  //  show the value of a[0][2]\n",
    "\tcout << *(*(a+1)) << endl;  //  show the value of a[1][0]\n",
    "}"
   ]
  },
  {
   "cell_type": "code",
   "execution_count": 14,
   "metadata": {
    "metadata": {},
    "vscode": {
     "languageId": "cpp"
    }
   },
   "outputs": [],
   "source": [
    "#include <iomanip>"
   ]
  },
  {
   "cell_type": "code",
   "execution_count": 15,
   "metadata": {
    "metadata": {},
    "vscode": {
     "languageId": "cpp"
    }
   },
   "outputs": [
    {
     "name": "stdout",
     "output_type": "stream",
     "text": [
      "赋给所有构成元素的值：2\n",
      "1\n",
      "2\n",
      "1\n",
      "--- x ---\n",
      "  0  1  2\n",
      "  1  2  3\n",
      "--- y ---\n",
      "  0  1  2\n",
      "  1  2  3\n",
      "  2  3  4\n",
      "  3  4  5\n"
     ]
    },
    {
     "data": {
      "text/plain": [
       "0"
      ]
     },
     "execution_count": 15,
     "metadata": {},
     "output_type": "execute_result"
    }
   ],
   "source": [
    "int main()\n",
    "{\n",
    "\tint no;\n",
    "\tint x[2][3] = {0};\n",
    "\tint y[4][3] = {0};\n",
    "\n",
    "\tcout << \"赋给所有构成元素的值：\";\n",
    "\t// cin >> no;\n",
    "    no = 99;\n",
    "\n",
    "\tfill(x, 2, no);\t\t// 把no赋给x的所有构成元素\n",
    "\tfill(y, 4, no);\t\t// 把no赋给y的所有构成元素\n",
    "\n",
    "\tcout << \"--- x ---\\n\";\n",
    "\tfor (int i = 0; i < 2; i++) {\n",
    "\t\tfor (int j = 0; j < 3; j++)\n",
    "\t\t\tcout << setw(3) << x[i][j];\n",
    "\t\tcout << '\\n';\n",
    "\t}\n",
    "\n",
    "\tcout << \"--- y ---\\n\";\n",
    "\tfor (int i = 0; i < 4; i++) {\n",
    "\t\tfor (int j = 0; j < 3; j++)\n",
    "\t\t\tcout << setw(3) << y[i][j];\n",
    "\t\tcout << '\\n';\n",
    "\t}\n",
    "}\n",
    "\n",
    "main()"
   ]
  },
  {
   "cell_type": "code",
   "execution_count": 16,
   "metadata": {
    "vscode": {
     "languageId": "cpp"
    }
   },
   "outputs": [],
   "source": [
    "//--- 把 0 赋给数组 p 的前 n 个元素（第 1 版） ---//\n",
    "\n",
    "void fill_zero(int* p, int n)\n",
    "{\n",
    "    // for (int i = 0; i < n; i++)\n",
    "    //     p[i] = 0;\n",
    "\n",
    "    //use while\n",
    "    while (n-- > 0){\n",
    "        *p = 0;\n",
    "        p++;\n",
    "        // *p++ = 0;\n",
    "    }\n",
    "}"
   ]
  },
  {
   "cell_type": "code",
   "execution_count": 17,
   "metadata": {
    "vscode": {
     "languageId": "cpp"
    }
   },
   "outputs": [
    {
     "name": "stdout",
     "output_type": "stream",
     "text": [
      "x[0] = 0\n",
      "x[1] = 0\n",
      "x[2] = 0\n",
      "x[3] = 0\n",
      "x[4] = 5\n"
     ]
    },
    {
     "data": {
      "text/plain": [
       "0"
      ]
     },
     "execution_count": 17,
     "metadata": {},
     "output_type": "execute_result"
    }
   ],
   "source": [
    "int main()\n",
    "{\n",
    "    int x[5] = {1, 2, 3, 4, 5};\n",
    "\n",
    "    fill_zero(x, 4);\n",
    "\n",
    "    for (int i = 0; i < 5; i++)\n",
    "        cout << \"x[\" << i << \"] = \" << x[i] << '\\n';\n",
    "}\n",
    "\n",
    "main()"
   ]
  },
  {
   "cell_type": "code",
   "execution_count": 18,
   "metadata": {
    "vscode": {
     "languageId": "cpp"
    }
   },
   "outputs": [],
   "source": [
    "// 线性查找（第 1 版）\n",
    "\n",
    "// int search(const int a[], int n, int key)\n",
    "// {\n",
    "//     for (int i = 0; i < n; i++)\n",
    "//         if (a[i] == key)\n",
    "//             return i;\n",
    "//     return -1;\n",
    "// }\n",
    "\n",
    "int seq_search(int* a, int n, int key)\n",
    "{\n",
    "\tint* p = a;\n",
    "\tcout << typeid(p-a).name() << endl; // long\n",
    "\n",
    "\twhile (n-- > 0) {\n",
    "\t\tif (*p == key)\t\t\t// 查找成功\n",
    "\t\t\treturn p - a;\n",
    "\t\telse\n",
    "\t\t\tp++;\n",
    "\t}\n",
    "\treturn -1;\t\t\t\t\t// 查找失败\n",
    "}"
   ]
  },
  {
   "cell_type": "code",
   "execution_count": 19,
   "metadata": {
    "vscode": {
     "languageId": "cpp"
    }
   },
   "outputs": [],
   "source": [
    "\n",
    "// int main()\n",
    "// {\n",
    "//     int x[7] = {1, 2, 3, 4, 5, 6, 7};\n",
    "//     int ky;\n",
    "\n",
    "//     cout << \"要查找的值：\";\n",
    "//     cin >> ky;\n",
    "\n",
    "//     int idx = seq_search(x, 7, ky);\n",
    "\n",
    "//     if (idx == -1)\n",
    "//         cout << \"该值不存在。\\n\";\n",
    "//     else\n",
    "//         cout << \"该值在第\" << idx + 1 << \"个元素中。\\n\";\n",
    "// }\n",
    "\n",
    "// main()"
   ]
  },
  {
   "cell_type": "code",
   "execution_count": 20,
   "metadata": {
    "vscode": {
     "languageId": "cpp"
    }
   },
   "outputs": [
    {
     "name": "stdout",
     "output_type": "stream",
     "text": [
      "*x = 81639840\n",
      "*y = 5\n",
      "*z = 0\n"
     ]
    },
    {
     "data": {
      "text/plain": [
       "0"
      ]
     },
     "execution_count": 20,
     "metadata": {},
     "output_type": "execute_result"
    }
   ],
   "source": [
    "// 动态创建整数对象\n",
    "\n",
    "int main()\n",
    "{\n",
    "    int* x = new int; // 创建一个整数对象\n",
    "    int* y = new int(5); // 创建一个值为 5 的整数对象\n",
    "    // int* y = new int{5}; // 创建一个值为 5 的整数对象\n",
    "    int* z = new int(); // 创建一个值为 0 的整数对象\n",
    "\n",
    "    cout << \"*x = \" << *x << '\\n';\n",
    "    cout << \"*y = \" << *y << '\\n';\n",
    "    cout << \"*z = \" << *z << '\\n';\n",
    "\n",
    "    delete x; // 删除整数对象\n",
    "    delete y; // 删除整数对象\n",
    "    delete z; // 删除整数对象\n",
    "}\n",
    "\n",
    "main()"
   ]
  },
  {
   "cell_type": "code",
   "execution_count": 21,
   "metadata": {
    "vscode": {
     "languageId": "cpp"
    }
   },
   "outputs": [
    {
     "name": "stdout",
     "output_type": "stream",
     "text": [
      "x[0] = 84148272\n",
      "x[1] = 25747\n",
      "x[2] = 0\n",
      "x[3] = 0\n",
      "x[4] = 101\n",
      "y[0] = 1\n",
      "y[1] = 2\n",
      "y[2] = 3\n",
      "y[3] = 4\n",
      "y[4] = 5\n",
      "z[0] = 0\n",
      "z[1] = 0\n",
      "z[2] = 0\n",
      "z[3] = 0\n",
      "z[4] = 0\n"
     ]
    },
    {
     "data": {
      "text/plain": [
       "0"
      ]
     },
     "execution_count": 21,
     "metadata": {},
     "output_type": "execute_result"
    }
   ],
   "source": [
    "// 动态创建数组对象\n",
    "\n",
    "int main()\n",
    "{\n",
    "    int* x = new int[5]; // 创建一个有 5 个元素的整数数组\n",
    "    int* y = new int[5]{1, 2, 3, 4, 5}; // 创建一个有 5 个元素的整数数组，并初始化为 1, 2, 3, 4, 5\n",
    "    int* z = new int[5](); // 创建一个有 5 个元素的整数数组，并初始化为 0\n",
    "\n",
    "    for (int i = 0; i < 5; i++)\n",
    "        cout << \"x[\" << i << \"] = \" << x[i] << '\\n';\n",
    "\n",
    "    for (int i = 0; i < 5; i++)\n",
    "        cout << \"y[\" << i << \"] = \" << y[i] << '\\n';\n",
    "\n",
    "    for (int i = 0; i < 5; i++)\n",
    "        cout << \"z[\" << i << \"] = \" << z[i] << '\\n';\n",
    "\n",
    "    delete[] x; // 删除整数数组\n",
    "    delete[] y; // 删除整数数组\n",
    "    delete[] z; // 删除整数数组\n",
    "}\n",
    "\n",
    "main()"
   ]
  },
  {
   "cell_type": "code",
   "execution_count": 22,
   "metadata": {
    "vscode": {
     "languageId": "cpp"
    }
   },
   "outputs": [
    {
     "name": "stdout",
     "output_type": "stream",
     "text": [
      "元素个数：\n",
      "x[0] = 0\n",
      "x[1] = 1\n",
      "x[2] = 2\n",
      "x[3] = 3\n",
      "x[4] = 4\n"
     ]
    },
    {
     "data": {
      "text/plain": [
       "0"
      ]
     },
     "execution_count": 22,
     "metadata": {},
     "output_type": "execute_result"
    }
   ],
   "source": [
    "// new动态创建数组\n",
    "\n",
    "int main()\n",
    "{\n",
    "    int n;\n",
    "    cout << \"元素个数：\\n\";\n",
    "    // cin >> n;\n",
    "    n = 5;\n",
    "\n",
    "    int* x = new int[n]; // 创建一个有 n 个元素的整数数组\n",
    "\n",
    "    for (int i = 0; i < n; i++)\n",
    "    {\n",
    "        x[i] = i;\n",
    "    }\n",
    "\n",
    "    for (int i = 0; i < n; i++)\n",
    "        cout << \"x[\" << i << \"] = \" << x[i] << '\\n';\n",
    "\n",
    "    delete[] x; // 删除整数数组\n",
    "}\n",
    "\n",
    "main()"
   ]
  },
  {
   "cell_type": "code",
   "execution_count": 23,
   "metadata": {
    "vscode": {
     "languageId": "cpp"
    }
   },
   "outputs": [
    {
     "name": "stdout",
     "output_type": "stream",
     "text": [
      "请输入行数和列数：\n",
      "arr[0][0] = 0\n",
      "arr[0][1] = 1\n",
      "arr[0][2] = 2\n",
      "arr[0][3] = 3\n",
      "arr[1][0] = 4\n",
      "arr[1][1] = 5\n",
      "arr[1][2] = 6\n",
      "arr[1][3] = 7\n",
      "arr[2][0] = 8\n",
      "arr[2][1] = 9\n",
      "arr[2][2] = 10\n",
      "arr[2][3] = 11\n"
     ]
    },
    {
     "data": {
      "text/plain": [
       "0"
      ]
     },
     "execution_count": 23,
     "metadata": {},
     "output_type": "execute_result"
    }
   ],
   "source": [
    "// new动态创建二维数组\n",
    "\n",
    "int main() {\n",
    "    int rows, cols;\n",
    "    cout << \"请输入行数和列数：\\n\";\n",
    "    // cin >> rows >> cols;\n",
    "    rows = 3;\n",
    "    cols = 4;\n",
    "\n",
    "    // 动态创建二维数组\n",
    "    int** arr = new int*[rows];\n",
    "    for (int i = 0; i < rows; i++) {\n",
    "        arr[i] = new int[cols];\n",
    "    }\n",
    "\n",
    "    // 初始化数组\n",
    "    for (int i = 0; i < rows; i++) {\n",
    "        for (int j = 0; j < cols; j++) {\n",
    "            arr[i][j] = i * cols + j;\n",
    "        }\n",
    "    }\n",
    "\n",
    "    // 打印数组\n",
    "    for (int i = 0; i < rows; i++) {\n",
    "        for (int j = 0; j < cols; j++) {\n",
    "            cout << \"arr[\" << i << \"][\" << j << \"] = \" << arr[i][j] << '\\n';\n",
    "        }\n",
    "    }\n",
    "\n",
    "    // 删除二维数组\n",
    "    for (int i = 0; i < rows; i++) {\n",
    "        delete[] arr[i]; // 删除每一行的数组\n",
    "    }\n",
    "    delete[] arr; // 删除指针数组\n",
    "\n",
    "    return 0;\n",
    "}\n",
    "\n",
    "main()"
   ]
  },
  {
   "cell_type": "code",
   "execution_count": 24,
   "metadata": {
    "vscode": {
     "languageId": "cpp"
    }
   },
   "outputs": [
    {
     "ename": "",
     "evalue": "",
     "output_type": "error",
     "traceback": [
      "\u001b[1;31m在当前单元格或上一个单元格中执行代码时 Kernel 崩溃。\n",
      "\u001b[1;31m请查看单元格中的代码，以确定故障的可能原因。\n",
      "\u001b[1;31m单击<a href='https://aka.ms/vscodeJupyterKernelCrash'>此处</a>了解详细信息。\n",
      "\u001b[1;31m有关更多详细信息，请查看 Jupyter <a href='command:jupyter.viewOutput'>log</a>。"
     ]
    }
   ],
   "source": [
    "// #include <new>\n",
    "// #include <iostream>\n",
    "\n",
    "\n",
    "\n",
    "// int main()\n",
    "// {\n",
    "// \tcout << \"循环创建元素个数为30000的double型数组。\\n\";\n",
    "\n",
    "// \twhile (true) {\n",
    "// \t\ttry {\n",
    "// \t\t\tdouble* a = new double[30000];\t// 创建\n",
    "// \t\t}\n",
    "// \t\tcatch (bad_alloc) {\n",
    "// \t\t\tcout << \"数组创建失败，程序中断。\\n\";\n",
    "// \t\t\treturn 1;\n",
    "// \t\t}\n",
    "// \t}\n",
    "// }\n",
    "\n",
    "// main()"
   ]
  },
  {
   "cell_type": "code",
   "execution_count": 31,
   "metadata": {
    "vscode": {
     "languageId": "cpp"
    }
   },
   "outputs": [
    {
     "name": "stdout",
     "output_type": "stream",
     "text": [
      "*p = 4d2\n",
      "p = 0x7ffef35eb4bc\n",
      "q = 7ffef35eb4bc\n"
     ]
    },
    {
     "data": {
      "text/plain": [
       "0"
      ]
     },
     "execution_count": 31,
     "metadata": {},
     "output_type": "execute_result"
    }
   ],
   "source": [
    "// 指针到整数的类型转换\n",
    "\n",
    "int main()\n",
    "{\n",
    "    int x = 1234;\n",
    "    int* p = &x;\n",
    "    // unsigned long q = reinterpret_cast<unsigned long>(p);\n",
    "    uintptr_t q = reinterpret_cast<uintptr_t>(p); // uintptr_t 是无符号整数类型，用于存放指针的无符号整数值\n",
    "\n",
    "    cout << \"*p = \" << *p << '\\n';\n",
    "    cout << \"p = \" << p << '\\n';\n",
    "    cout << \"q = \" ;\n",
    "    cout << hex << q << '\\n';\n",
    "}\n",
    "main()"
   ]
  },
  {
   "cell_type": "code",
   "execution_count": 36,
   "metadata": {
    "vscode": {
     "languageId": "cpp"
    }
   },
   "outputs": [
    {
     "name": "stdout",
     "output_type": "stream",
     "text": [
      "x = 4d2\n",
      "p = 0x7ffef35eb4bc\n",
      "*p = 4d2\n"
     ]
    },
    {
     "data": {
      "text/plain": [
       "0"
      ]
     },
     "execution_count": 36,
     "metadata": {},
     "output_type": "execute_result"
    }
   ],
   "source": [
    "//指向 void 的指针\n",
    "\n",
    "int main()\n",
    "{\n",
    "    int x = 1234;\n",
    "    void* p = &x;\n",
    "\n",
    "    cout << \"x = \" << x << '\\n';\n",
    "    cout << \"p = \" << p << '\\n';\n",
    "    cout << \"*p = \" << *reinterpret_cast<int*>(p) << '\\n'; \n",
    "    // cout << \"*p = \" << *(p) << '\\n'; // error: invalid operands to binary expression ('basic_ostream<char, std::char_traits<char> >' and 'void')\n",
    "\n",
    "}\n",
    "\n",
    "main()"
   ]
  },
  {
   "cell_type": "code",
   "execution_count": 42,
   "metadata": {
    "vscode": {
     "languageId": "cpp"
    }
   },
   "outputs": [
    {
     "name": "stdout",
     "output_type": "stream",
     "text": [
      "8\n",
      "8\n",
      "8\n",
      "8\n"
     ]
    }
   ],
   "source": [
    "#include <cstddef>\n",
    "\n",
    "// ...\n",
    "\n",
    "cout << sizeof(nullptr_t) << endl; \n",
    "cout << sizeof(nullptr) << endl;\n",
    "cout << sizeof(NULL) << endl;\n",
    "cout << sizeof(void*) << endl;"
   ]
  },
  {
   "cell_type": "code",
   "execution_count": null,
   "metadata": {
    "vscode": {
     "languageId": "cpp"
    }
   },
   "outputs": [],
   "source": []
  }
 ],
 "metadata": {
  "kernelspec": {
   "display_name": "C++17",
   "language": "C++17",
   "name": "xcpp17"
  },
  "language_info": {
   "codemirror_mode": "text/x-c++src",
   "file_extension": ".cpp",
   "mimetype": "text/x-c++src",
   "name": "C++17",
   "version": "17"
  }
 },
 "nbformat": 4,
 "nbformat_minor": 2
}
