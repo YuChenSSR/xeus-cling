{
 "cells": [
  {
   "cell_type": "markdown",
   "metadata": {},
   "source": [
    "# 数组"
   ]
  },
  {
   "cell_type": "markdown",
   "metadata": {},
   "source": [
    "## 1 数组"
   ]
  },
  {
   "cell_type": "code",
   "execution_count": 33,
   "metadata": {
    "vscode": {
     "languageId": "cpp"
    }
   },
   "outputs": [],
   "source": [
    "\n",
    "\n",
    "#include <iostream>\n",
    "\n",
    "using namespace std;\n"
   ]
  },
  {
   "cell_type": "code",
   "execution_count": 34,
   "metadata": {
    "vscode": {
     "languageId": "cpp"
    }
   },
   "outputs": [],
   "source": [
    "// // 读入5个人的分数并显示总分和平均分\n",
    "// int main()\n",
    "// {\n",
    "// \tint wangming, liyang, zhanghong, zhaogang, zhouyan;\t// 分数\n",
    "// \tint sum = 0;\t\t// 总分\n",
    "\n",
    "// \tcout << \"计算5个人的总分和平均分。\\n\";\n",
    "// \tcout << \"第1个人的分数：\";   cin >> wangming;    sum += wangming;\n",
    "// \tcout << \"第2个人的分数：\";   cin >> liyang;    sum += liyang;\n",
    "// \tcout << \"第3个人的分数：\";   cin >> zhanghong;  sum += zhanghong;\n",
    "// \tcout << \"第4个人的分数：\";   cin >> zhaogang;   sum += zhaogang;\n",
    "// \tcout << \"第5个人的分数：\";   cin >> zhouyan;    sum += zhouyan;\n",
    "\n",
    "// \tcout << \"总分为\" << sum << \"。\\n\";\n",
    "// \tcout << \"平均分为\" << static_cast<double>(sum) / 5 << \"。\\n\";\n",
    "// }\n",
    "\n",
    "// main()"
   ]
  },
  {
   "cell_type": "code",
   "execution_count": 35,
   "metadata": {
    "vscode": {
     "languageId": "cpp"
    }
   },
   "outputs": [
    {
     "name": "stdout",
     "output_type": "stream",
     "text": [
      "v[0] = 5\n",
      "v[1] = 4\n",
      "v[2] = 3\n",
      "v[3] = 2\n",
      "v[4] = 1\n"
     ]
    },
    {
     "data": {
      "text/plain": [
       "0"
      ]
     },
     "execution_count": 35,
     "metadata": {},
     "output_type": "execute_result"
    }
   ],
   "source": [
    "// 将数组各元素赋值为 1、2、3、4、5 并显示\n",
    "\n",
    "int main()\n",
    "{\n",
    "    int v[5];\t// int型数组\n",
    "\n",
    "    for (int i = 0; i < 5; i++)\n",
    "        // v[i] = i + 1; // 1 2 3 4 5\n",
    "        // v[i] = i; // 0 1 2 3 4\n",
    "        v[i] = 5 - i; // 5 4 3 2 1\n",
    "\n",
    "    for (int i = 0; i < 5; i++)\n",
    "        cout << \"v[\" << i << \"] = \" << v[i] << '\\n';\n",
    "}\n",
    "\n",
    "main()"
   ]
  },
  {
   "cell_type": "code",
   "execution_count": 36,
   "metadata": {
    "vscode": {
     "languageId": "cpp"
    }
   },
   "outputs": [
    {
     "name": "stdout",
     "output_type": "stream",
     "text": [
      "v[0] = 1\n",
      "v[1] = 2\n",
      "v[2] = 3\n",
      "v[3] = 4\n",
      "v[4] = 5\n"
     ]
    },
    {
     "data": {
      "text/plain": [
       "0"
      ]
     },
     "execution_count": 36,
     "metadata": {},
     "output_type": "execute_result"
    }
   ],
   "source": [
    "// 将数组各元素初始化为 1、2、3、4、5 并显示\n",
    "\n",
    "int main()\n",
    "{\n",
    "    // int v[5] = {1, 2, 3, 4, 5};\t// int型数组\n",
    "    // for (int i = 0; i < 5; i++)\n",
    "    //     cout << \"v[\" << i << \"] = \" << v[i] << '\\n';\n",
    "\n",
    "    int v[] = {1, 2, 3, 4, 5}; // 元素个数可以省略（自动视为 5）\n",
    "    // int v[5] = {0}; // 初始化为 {0, 0, 0, 0, 0}（把所有元素初始化为 0）\n",
    "\n",
    "    int length = sizeof(v) / sizeof(v[0]); // 计算数组的长度\n",
    "    for (int i = 0; i < length; i++)\n",
    "        cout << \"v[\" << i << \"] = \" << v[i] << '\\n';\n",
    "}\n",
    "\n",
    "main()"
   ]
  },
  {
   "cell_type": "code",
   "execution_count": 37,
   "metadata": {
    "vscode": {
     "languageId": "cpp"
    }
   },
   "outputs": [],
   "source": [
    "// // 读入5个人的分数并显示总分和平均分\n",
    "\n",
    "// int main()\n",
    "// {\n",
    "// \tconst int number = 5;    //人数\n",
    "// \tint score[number];\t\t// number个人的分数\n",
    "// \tint sum = 0;\t\t// 总分\n",
    "\n",
    "// \tcout << \"计算\"<<number<<\"个人的总分和平均分。\\n\";\n",
    "// \tfor (int i = 0; i < number; i++) {\n",
    "// \t\tcout << \"第\" << i + 1 << \"个人的分数：\";\n",
    "// \t\tcin >> score[i];\t\t// 读入score[i]\n",
    "// \t\tsum += score[i];\t\t// 把score[i]加到sum上\n",
    "// \t}\n",
    "\n",
    "// \tcout << \"总分为\" << sum << \"。\\n\";\n",
    "// \tcout << \"平均分为\" << static_cast<double>(sum) / 5 << \"。\\n\";\n",
    "// }\n",
    "\n",
    "// main()"
   ]
  },
  {
   "cell_type": "code",
   "execution_count": 38,
   "metadata": {
    "vscode": {
     "languageId": "cpp"
    }
   },
   "outputs": [
    {
     "name": "stdout",
     "output_type": "stream",
     "text": [
      "数组v的类型:A5_i\n",
      "v的元素的类型:i\n",
      "数组d的类型:A7_d\n",
      "d的元素的类型:d\n"
     ]
    },
    {
     "data": {
      "text/plain": [
       "0"
      ]
     },
     "execution_count": 38,
     "metadata": {},
     "output_type": "execute_result"
    }
   ],
   "source": [
    "// 显示数组及其元素的类型\n",
    "#include <iostream>\n",
    "#include <typeinfo>\n",
    "\n",
    "int main()\n",
    "{\n",
    "    int v[5];\t// int型数组\n",
    "    double d[7];\t// double型数组\n",
    "\n",
    "    cout << \"数组v的类型:\" << typeid(v).name() << '\\n';\n",
    "    cout << \"v的元素的类型:\" << typeid(v[0]).name() << '\\n';\n",
    "\n",
    "    cout << \"数组d的类型:\" << typeid(d).name() << '\\n';\n",
    "    cout << \"d的元素的类型:\" << typeid(d[0]).name() << '\\n';\n",
    "\n",
    "}\n",
    "\n",
    "main()"
   ]
  },
  {
   "cell_type": "code",
   "execution_count": 39,
   "metadata": {
    "vscode": {
     "languageId": "cpp"
    }
   },
   "outputs": [
    {
     "name": "stdout",
     "output_type": "stream",
     "text": [
      "v[0] = 87\n",
      "v[1] = 90\n",
      "v[2] = 85\n",
      "v[3] = 55\n",
      "v[4] = 75\n",
      "v[5] = 70\n",
      "逆序排列。\n",
      "v[0] = 70\n",
      "v[1] = 75\n",
      "v[2] = 55\n",
      "v[3] = 85\n",
      "v[4] = 90\n",
      "v[5] = 87\n"
     ]
    },
    {
     "data": {
      "text/plain": [
       "0"
      ]
     },
     "execution_count": 39,
     "metadata": {},
     "output_type": "execute_result"
    }
   ],
   "source": [
    "// 将数组元素逆序排列并显示\n",
    "\n",
    "#include <ctime>\n",
    "#include <cstdlib>\n",
    "#include <iostream>\n",
    "\n",
    "int main()\n",
    "{\n",
    "    const int number = 6;    //元素个数\n",
    "    int v[number];\t\t// int型数组\n",
    "\n",
    "    srand(time(NULL));\t\t// 设定随机数种子\n",
    "    for (int i = 0; i < number; i++) {\n",
    "        v[i] = rand() % 100;\t// 生成随机数\n",
    "        std::cout << \"v[\" << i << \"] = \" << v[i] << '\\n';\n",
    "    }\n",
    "\n",
    "    for (int i = 0; i < number / 2; i++) {\n",
    "        int temp = v[i];\n",
    "        v[i] = v[number - 1 - i];\n",
    "        v[number - i - 1] = temp;\n",
    "    }\n",
    "\n",
    "    std::cout << \"逆序排列。\\n\";\n",
    "    for (int i = 0; i < number; i++)\n",
    "        std::cout << \"v[\" << i << \"] = \" << v[i] << '\\n';\n",
    "}\n",
    "\n",
    "main()"
   ]
  },
  {
   "cell_type": "code",
   "execution_count": 40,
   "metadata": {
    "vscode": {
     "languageId": "cpp"
    }
   },
   "outputs": [
    {
     "name": "stdout",
     "output_type": "stream",
     "text": [
      "v1[0] = 87\n",
      "v1[1] = 90\n",
      "v1[2] = 85\n",
      "v1[3] = 55\n",
      "v1[4] = 75\n",
      "v1[5] = 70\n",
      "复制了。\n",
      "v2[0] = 87\n",
      "v2[1] = 90\n",
      "v2[2] = 85\n",
      "v2[3] = 55\n",
      "v2[4] = 75\n",
      "v2[5] = 70\n"
     ]
    },
    {
     "data": {
      "text/plain": [
       "0"
      ]
     },
     "execution_count": 40,
     "metadata": {},
     "output_type": "execute_result"
    }
   ],
   "source": [
    "// 复制并显示数组的所有元素\n",
    "\n",
    "int main()\n",
    "{\n",
    "    const int number = 6;    //元素个数\n",
    "    int v1[number];\t\t// int型数组\n",
    "    int v2[number];\t\t// int型数组\n",
    "\n",
    "    srand(time(NULL));\t\t// 设定随机数种子\n",
    "    for (int i = 0; i < number; i++) {\n",
    "        v1[i] = rand() % 100;\t// 生成随机数\n",
    "        std::cout << \"v1[\" << i << \"] = \" << v1[i] << '\\n';\n",
    "    }\n",
    "\n",
    "    for (int i = 0; i < number; i++)\n",
    "        v2[i] = v1[i];\n",
    "    // v2 = v1; // 错误：不能直接赋值\n",
    "\n",
    "    std::cout << \"复制了。\\n\";\n",
    "    for (int i = 0; i < number; i++)\n",
    "        std::cout << \"v2[\" << i << \"] = \" << v2[i] << '\\n';\n",
    "}\n",
    "\n",
    "main()"
   ]
  },
  {
   "cell_type": "code",
   "execution_count": 41,
   "metadata": {
    "vscode": {
     "languageId": "cpp"
    }
   },
   "outputs": [
    {
     "name": "stdout",
     "output_type": "stream",
     "text": [
      "v1[0] = 19\n",
      "v1[1] = 92\n",
      "v1[2] = 64\n",
      "v1[3] = 81\n",
      "v1[4] = 91\n",
      "v1[5] = 7\n",
      "复制了。\n",
      "v2[0] = 19\n",
      "v2[1] = 92\n",
      "v2[2] = 64\n",
      "v2[3] = 81\n",
      "v2[4] = 91\n",
      "v2[5] = 7\n"
     ]
    },
    {
     "data": {
      "text/plain": [
       "0"
      ]
     },
     "execution_count": 41,
     "metadata": {},
     "output_type": "execute_result"
    }
   ],
   "source": [
    "#include <iostream>\n",
    "#include <algorithm> // for std::copy\n",
    "\n",
    "int main()\n",
    "{\n",
    "    const int number = 6;    //元素个数\n",
    "    int v1[number];\t\t// int型数组\n",
    "    int v2[number];\t\t// int型数组\n",
    "\n",
    "    srand(time(NULL));\t\t// 设定随机数种子\n",
    "    for (int i = 0; i < number; i++) {\n",
    "        v1[i] = rand() % 100;\t// 生成随机数\n",
    "        cout << \"v1[\" << i << \"] = \" << v1[i] << '\\n';\n",
    "    }\n",
    "\n",
    "    copy(v1, v1 + number, v2); // 使用 std::copy 进行数组复制\n",
    "\n",
    "    cout << \"复制了。\\n\";\n",
    "    for (int i = 0; i < number; i++)\n",
    "        cout << \"v2[\" << i << \"] = \" << v2[i] << '\\n';\n",
    "}\n",
    "\n",
    "main()"
   ]
  },
  {
   "cell_type": "markdown",
   "metadata": {},
   "source": [
    "`std::copy` 函数需要三个参数，这是由其定义决定的。这三个参数分别表示复制操作的源范围和目标位置。\n",
    "\n",
    "1. 第一个参数（在这里是 `v1`）是源范围的起始位置。这通常是一个指向数组或容器的迭代器。\n",
    "\n",
    "2. 第二个参数（在这里是 `v1 + number`）是源范围的结束位置。这通常是一个指向数组或容器的迭代器。注意，这个位置是被排除在复制范围之外的，也就是说，复制操作会复制从起始位置开始到结束位置之前的所有元素。\n",
    "\n",
    "3. 第三个参数（在这里是 `v2`）是目标范围的起始位置。这通常是一个指向另一个数组或容器的迭代器。复制操作会从这个位置开始，将源范围的元素复制到目标范围。\n",
    "\n",
    "因此，`std::copy(v1, v1 + number, v2);` 这行代码的意思是，将从 `v1` 开始的 `number` 个元素复制到 `v2` 开始的位置。"
   ]
  },
  {
   "cell_type": "markdown",
   "metadata": {},
   "source": [
    "## 2 多维数组"
   ]
  },
  {
   "cell_type": "code",
   "execution_count": 42,
   "metadata": {
    "vscode": {
     "languageId": "cpp"
    }
   },
   "outputs": [
    {
     "name": "stdout",
     "output_type": "stream",
     "text": [
      "a的类型:A4_A3_i\n",
      "a[0]的类型:A3_i\n",
      "a[0][0]的类型:i\n"
     ]
    }
   ],
   "source": [
    "int a[4][3]; // 4行3列的二维数组\n",
    "\n",
    "cout << \"a的类型:\" << typeid(a).name() << '\\n';\n",
    "cout << \"a[0]的类型:\" << typeid(a[0]).name() << '\\n';\n",
    "cout << \"a[0][0]的类型:\" << typeid(a[0][0]).name() << '\\n';"
   ]
  },
  {
   "cell_type": "code",
   "execution_count": 43,
   "metadata": {
    "vscode": {
     "languageId": "cpp"
    }
   },
   "outputs": [
    {
     "name": "stdout",
     "output_type": "stream",
     "text": [
      "&a[0][0] = 0x7ffd2da6a980\n",
      "&a[0][1] = 0x7ffd2da6a984\n",
      "&a[0][2] = 0x7ffd2da6a988\n",
      "&a[1][0] = 0x7ffd2da6a98c\n",
      "&a[1][1] = 0x7ffd2da6a990\n",
      "&a[1][2] = 0x7ffd2da6a994\n",
      "&a[2][0] = 0x7ffd2da6a998\n",
      "&a[2][1] = 0x7ffd2da6a99c\n",
      "&a[2][2] = 0x7ffd2da6a9a0\n",
      "&a[3][0] = 0x7ffd2da6a9a4\n",
      "&a[3][1] = 0x7ffd2da6a9a8\n",
      "&a[3][2] = 0x7ffd2da6a9ac\n"
     ]
    },
    {
     "data": {
      "text/plain": [
       "0"
      ]
     },
     "execution_count": 43,
     "metadata": {},
     "output_type": "execute_result"
    }
   ],
   "source": [
    "// 观察二维数组的内存排列顺序\n",
    "\n",
    "int main()\n",
    "{\n",
    "    int a[4][3]; // 4行3列的二绋数组\n",
    "\n",
    "    for (int i = 0; i < 4; i++)\n",
    "        for (int j = 0; j < 3; j++)\n",
    "            cout << \"&a[\" << i << \"][\" << j << \"] = \" << &a[i][j] << '\\n';\n",
    "}\n",
    "\n",
    "main()"
   ]
  },
  {
   "cell_type": "code",
   "execution_count": 44,
   "metadata": {
    "vscode": {
     "languageId": "cpp"
    }
   },
   "outputs": [
    {
     "name": "stdout",
     "output_type": "stream",
     "text": [
      "sizeof(a) = 12\n",
      "sizeof(a[0]) = 3\n",
      "行数：4\n",
      "列数：3\n"
     ]
    },
    {
     "data": {
      "text/plain": [
       "0"
      ]
     },
     "execution_count": 44,
     "metadata": {},
     "output_type": "execute_result"
    }
   ],
   "source": [
    "// 显示二维数组的元素个数和构成元素个数\n",
    "\n",
    "int main()\n",
    "{\n",
    "    int a[4][3]; // 4行3列的二维数组\n",
    "\n",
    "    cout << \"sizeof(a) = \" << sizeof(a) / sizeof(a[0][0]) << '\\n'; // 整个数组的大小\n",
    "    cout << \"sizeof(a[0]) = \" << sizeof(a[0]) / sizeof(a[0][0]) << '\\n'; // 第一行的大小\n",
    "\n",
    "    // 行列数目\n",
    "    cout << \"行数：\" << sizeof(a) / sizeof(a[0]) << '\\n';\n",
    "    cout << \"列数：\" << sizeof(a[0]) / sizeof(a[0][0]) << '\\n';\n",
    "}\n",
    "\n",
    "main()"
   ]
  },
  {
   "cell_type": "code",
   "execution_count": 45,
   "metadata": {
    "vscode": {
     "languageId": "cpp"
    }
   },
   "outputs": [
    {
     "name": "stdout",
     "output_type": "stream",
     "text": [
      "a的类型:A2_A3_A4_i\n",
      "a[0]的类型:A3_A4_i\n",
      "a[0][0]的类型:A4_i\n",
      "a[0][0][0]的类型:i\n"
     ]
    },
    {
     "data": {
      "text/plain": [
       "0"
      ]
     },
     "execution_count": 45,
     "metadata": {},
     "output_type": "execute_result"
    }
   ],
   "source": [
    "// 三维数组及其元素的类型\n",
    "\n",
    "int main()\n",
    "{\n",
    "    int a[2][3][4]; // 2行3列4层的三维数组\n",
    "\n",
    "    cout << \"a的类型:\" << typeid(a).name() << '\\n';\n",
    "    cout << \"a[0]的类型:\" << typeid(a[0]).name() << '\\n';\n",
    "    cout << \"a[0][0]的类型:\" << typeid(a[0][0]).name() << '\\n';\n",
    "    cout << \"a[0][0][0]的类型:\" << typeid(a[0][0][0]).name() << '\\n';\n",
    "}\n",
    "\n",
    "main()"
   ]
  },
  {
   "cell_type": "markdown",
   "metadata": {},
   "source": [
    "初始化"
   ]
  },
  {
   "cell_type": "code",
   "execution_count": 46,
   "metadata": {
    "vscode": {
     "languageId": "cpp"
    }
   },
   "outputs": [
    {
     "name": "stdout",
     "output_type": "stream",
     "text": [
      "a:0x7fd4befd2270\n",
      "a[0]:0x7fd4befd2270\n",
      "a[1]:0x7fd4befd227c\n",
      "a[0][0]:1\n",
      "&a[0][0]:0x7fd4befd2270\n"
     ]
    },
    {
     "data": {
      "text/plain": [
       "@0x7fd4bf1d0de0"
      ]
     },
     "execution_count": 46,
     "metadata": {},
     "output_type": "execute_result"
    }
   ],
   "source": [
    "int a[2][3] = {\n",
    "    {1, 2, 3},\n",
    "    {4, 5, 6},\n",
    "};\n",
    "\n",
    "cout << \"a:\" << a << '\\n'; // a 的地址\n",
    "cout << \"a[0]:\" << a[0] << '\\n'; // 第一行的地址\n",
    "cout << \"a[1]:\" << a[1] << '\\n'; // 第二行的地址\n",
    "cout << \"a[0][0]:\" << a[0][0] << '\\n'; // 第一个元素的内容\n",
    "cout << \"&a[0][0]:\" << &a[0][0] << '\\n'; // 第二个元素的内容\n"
   ]
  },
  {
   "cell_type": "code",
   "execution_count": 47,
   "metadata": {
    "vscode": {
     "languageId": "cpp"
    }
   },
   "outputs": [
    {
     "name": "stdout",
     "output_type": "stream",
     "text": [
      "a[0][0] = 1\n",
      "a[0][1] = 0\n",
      "a[1][0] = 3\n",
      "a[1][1] = 4\n",
      "a[2][0] = 5\n",
      "a[2][1] = 0\n"
     ]
    }
   ],
   "source": [
    "int a[3][2] = {\n",
    "    {1},\n",
    "    {3, 4},\n",
    "    {5},\n",
    "};\n",
    "\n",
    "for (int i = 0; i < 3; i++)\n",
    "    for (int j = 0; j < 2; j++)\n",
    "        cout << \"a[\" << i << \"][\" << j << \"] = \" << a[i][j] << '\\n';\n",
    "\n"
   ]
  },
  {
   "cell_type": "code",
   "execution_count": 48,
   "metadata": {
    "vscode": {
     "languageId": "cpp"
    }
   },
   "outputs": [
    {
     "name": "stdout",
     "output_type": "stream",
     "text": [
      "a[0][0] = 0\n",
      "a[0][1] = 1\n",
      "a[1][0] = 2\n",
      "a[1][1] = 0\n",
      "a[2][0] = 0\n",
      "a[2][1] = 0\n"
     ]
    }
   ],
   "source": [
    "int a[3][2] = {0,1,2};\n",
    "\n",
    "for (int i = 0; i < 3; i++)\n",
    "    for (int j = 0; j < 2; j++)\n",
    "        cout << \"a[\" << i << \"][\" << j << \"] = \" << a[i][j] << '\\n';"
   ]
  },
  {
   "cell_type": "code",
   "execution_count": 49,
   "metadata": {
    "vscode": {
     "languageId": "cpp"
    }
   },
   "outputs": [
    {
     "name": "stdout",
     "output_type": "stream",
     "text": [
      "a[0] = 1\n",
      "a[1] = 2\n",
      "a[2] = 3\n",
      "a[3] = 4\n",
      "a[4] = 5\n",
      "b[0] = 1\n",
      "b[1] = 2\n",
      "b[2] = 3\n",
      "b[3] = 4\n",
      "b[4] = 5\n",
      "数组a的所有元素的和=15\n",
      "数组c为2行3列的二维数组。\n",
      "c[0][0] = 1\n",
      "c[0][1] = 2\n",
      "c[0][2] = 3\n",
      "c[1][0] = 4\n",
      "c[1][1] = 5\n",
      "c[1][2] = 6\n",
      "数组a的类型：A5_i\n",
      "a的元素类型：i\n",
      "数组b的类型：A5_i\n",
      "b的元素类型：i\n",
      "数组c的类型：A2_A3_i\n",
      "c的元素类型：A3_i\n",
      "c的构成元素类型：i\n"
     ]
    },
    {
     "data": {
      "text/plain": [
       "0"
      ]
     },
     "execution_count": 49,
     "metadata": {},
     "output_type": "execute_result"
    }
   ],
   "source": [
    "int main()\n",
    "{\n",
    "\tconst int A_SIZE = 5;\t\t// 数组a的元素个数\n",
    "\n",
    "\t// 数组a和b为一维数组（元素类型为int且元素个数为5）\n",
    "\tint a[A_SIZE];\n",
    "\tint b[] = {1, 2, 3, 4, 5};\n",
    "\n",
    "\t// 数组b的元素个数\n",
    "\tint b_size = sizeof(b) / sizeof(b[0]);\n",
    "\n",
    "\t// 将数组b的所有元素复制到a\n",
    "\tfor (int i = 0; i < A_SIZE; i++)\n",
    "\t\ta[i] = b[i];\n",
    "\n",
    "\t// 显示数组a的所有元素的值\n",
    "\tfor (int i = 0; i < A_SIZE; i++)\n",
    "\t\tcout << \"a[\" << i << \"] = \" << a[i] << '\\n';\n",
    "\n",
    "\t// 显示数组b的所有元素的值\n",
    "\tfor (int i = 0; i < b_size; i++)\n",
    "\t\tcout << \"b[\" << i << \"] = \" << b[i] << '\\n';\n",
    "\n",
    "\t// 计算并显示数组a的所有元素的和sum\n",
    "\tint sum = 0;\n",
    "\tfor (int i = 0; i < A_SIZE; i++)\n",
    "\t\tsum += a[i];\n",
    "\tcout << \"数组a的所有元素的和=\" << sum << '\\n'; \n",
    "\n",
    "\t// 数组c为二维数组（元素类型为int[3]型且元素个数为2）\n",
    "\tint c[2][3] = { {1, 2, 3},\n",
    "\t\t\t\t\t{4, 5, 6},\n",
    "\t\t\t\t  };\n",
    "\n",
    "\tint c_height = sizeof(c) / sizeof(c[0]);\t\t// 行数\n",
    "\tint c_width  = sizeof(c[0]) / sizeof(c[0][0]);\t// 列数\n",
    "\n",
    "\tcout << \"数组c为\" << c_height << \"行\" << c_width << \"列的\"\n",
    "\t\t << \"二维数组。\\n\";\n",
    "\n",
    "\t// 显示数组c的所构成有元素的值\n",
    "\tfor (int i = 0; i < c_height; i++) {\n",
    "\t\tfor (int j = 0; j < c_width; j++) {\n",
    "\t\t\tcout << \"c[\" << i << \"][\" << j << \"] = \" << c[i][j] << '\\n';\n",
    "\t\t}\n",
    "\t}\n",
    "\n",
    "\t// 显示数组、元素和构成元素的类型\n",
    "\tcout << \"数组a的类型：\" << typeid(a).name()    << '\\n';\n",
    "\tcout << \"a的元素类型：\" << typeid(a[0]).name() << '\\n';\n",
    "\tcout << \"数组b的类型：\" << typeid(b).name()    << '\\n';\n",
    "\tcout << \"b的元素类型：\" << typeid(b[0]).name() << '\\n';\n",
    "\tcout << \"数组c的类型：\" << typeid(c).name()    << '\\n';\n",
    "\tcout << \"c的元素类型：\" << typeid(c[0]).name() << '\\n';\n",
    "\tcout << \"c的构成元素类型：\" << typeid(c[0][0]).name() << '\\n';\n",
    "}\n",
    "\n",
    "main()"
   ]
  }
 ],
 "metadata": {
  "kernelspec": {
   "display_name": "C++17",
   "language": "C++17",
   "name": "xcpp17"
  },
  "language_info": {
   "codemirror_mode": "text/x-c++src",
   "file_extension": ".cpp",
   "mimetype": "text/x-c++src",
   "name": "c++",
   "version": "17"
  }
 },
 "nbformat": 4,
 "nbformat_minor": 2
}
