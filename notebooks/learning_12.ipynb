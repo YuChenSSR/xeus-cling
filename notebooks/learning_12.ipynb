{
 "cells": [
  {
   "cell_type": "markdown",
   "metadata": {},
   "source": [
    "# 转换函数和运算符函数"
   ]
  },
  {
   "cell_type": "markdown",
   "metadata": {},
   "source": [
    "## 计数器类"
   ]
  },
  {
   "cell_type": "code",
   "execution_count": 1,
   "metadata": {
    "vscode": {
     "languageId": "cpp"
    }
   },
   "outputs": [],
   "source": [
    "#include <iostream>\n",
    "#include <climits>\n"
   ]
  },
  {
   "cell_type": "code",
   "execution_count": 2,
   "metadata": {
    "vscode": {
     "languageId": "cpp"
    }
   },
   "outputs": [],
   "source": [
    "using namespace std;"
   ]
  },
  {
   "cell_type": "code",
   "execution_count": 3,
   "metadata": {
    "vscode": {
     "languageId": "cpp"
    }
   },
   "outputs": [],
   "source": [
    "// counter\n",
    "// 初始化。在创建时将计数器初始化为 0。 \n",
    "// 向上计数（递增计数器）。 \n",
    "// 向下计数（递减计数器）。 \n",
    "// 返回计数器。\n",
    "\n",
    "class Counter {\n",
    "    unsigned count;\n",
    "public:\n",
    "    Counter() {\n",
    "        count = 0;\n",
    "    }\n",
    "    // Counter() : count(0) {} \n",
    "    void increment() {\n",
    "        if (count < UINT_MAX)\n",
    "            count++;\n",
    "    }\n",
    "    void decrement() {\n",
    "        if (count > 0)\n",
    "            count--;\n",
    "    }\n",
    "    int getCount() {\n",
    "        return count;\n",
    "    }\n",
    "};"
   ]
  },
  {
   "cell_type": "code",
   "execution_count": 4,
   "metadata": {
    "vscode": {
     "languageId": "cpp"
    }
   },
   "outputs": [
    {
     "name": "stdout",
     "output_type": "stream",
     "text": [
      "4294967295\n"
     ]
    },
    {
     "data": {
      "text/plain": [
       "@0x712f2582dde0"
      ]
     },
     "execution_count": 4,
     "metadata": {},
     "output_type": "execute_result"
    }
   ],
   "source": [
    "// how to check UINT_MAX value?  \n",
    "cout << UINT_MAX << endl;\n",
    "\n"
   ]
  },
  {
   "cell_type": "code",
   "execution_count": 5,
   "metadata": {
    "vscode": {
     "languageId": "cpp"
    }
   },
   "outputs": [
    {
     "name": "stdout",
     "output_type": "stream",
     "text": [
      "0\n"
     ]
    }
   ],
   "source": [
    "Counter c;\n",
    "cout << c.getCount() << endl;"
   ]
  },
  {
   "cell_type": "code",
   "execution_count": 6,
   "metadata": {
    "vscode": {
     "languageId": "cpp"
    }
   },
   "outputs": [
    {
     "name": "stdout",
     "output_type": "stream",
     "text": [
      "0 0 0 0 0 0 0 0 0 0 \n"
     ]
    }
   ],
   "source": [
    "Counter a[10];\n",
    "\n",
    "for (int i = 0; i < 10; i++) {\n",
    "    cout << a[i].getCount() << \" \";\n",
    "}\n",
    "\n",
    "cout << endl;"
   ]
  },
  {
   "cell_type": "code",
   "execution_count": 7,
   "metadata": {
    "vscode": {
     "languageId": "cpp"
    }
   },
   "outputs": [
    {
     "name": "stdout",
     "output_type": "stream",
     "text": [
      "0\n",
      "5\n",
      "2\n"
     ]
    }
   ],
   "source": [
    "int change_count = 5;\n",
    "\n",
    "Counter x;\n",
    "cout << x.getCount() << endl;\n",
    "for (int i = 0; i < change_count; i++) {\n",
    "    x.increment();\n",
    "}\n",
    "cout << x.getCount() << endl;\n",
    "\n",
    "change_count = 3;\n",
    "for (int i = 0; i < change_count; i++) {\n",
    "    x.decrement();\n",
    "}\n",
    "cout << x.getCount() << endl;"
   ]
  },
  {
   "cell_type": "markdown",
   "metadata": {},
   "source": [
    "`x.increment();`  \n",
    "`x.decrement();`  \n",
    "过于复杂,想要重载++或者--实现"
   ]
  },
  {
   "cell_type": "markdown",
   "metadata": {},
   "source": [
    "转换函数  \n",
    "运算符函数"
   ]
  },
  {
   "cell_type": "code",
   "execution_count": 8,
   "metadata": {
    "vscode": {
     "languageId": "cpp"
    }
   },
   "outputs": [],
   "source": [
    "// 计数器类Counter（第2版）\n",
    "\n",
    "// #ifndef ___Class_Counter\n",
    "// #define ___Class_Counter\n",
    "\n",
    "#include <climits>\n",
    "\n",
    "//===== 计数器类 =====//\n",
    "class Counter {\n",
    "\tunsigned cnt;\t\t// 计数器\n",
    "\n",
    "public:\n",
    "\t//--- 构造函数 ---//\n",
    "\tCounter() : cnt(0) { }\n",
    "\n",
    "\t//--- unsigned型的转换函数  ---//\n",
    "\toperator unsigned() const { return cnt; }\n",
    "\n",
    "\t//--- 逻辑非运算符 ---//\n",
    "\tbool operator!() const { return cnt == 0; }\n",
    "\n",
    "\t//--- 前置递增运算符 ---//\n",
    "\tCounter& operator++() {\n",
    "\t\tif (cnt < UINT_MAX) cnt++;\t// 计数器的上限为UINT_MAX\n",
    "\t\treturn *this;\t\t\t\t// 返回自身的引用\n",
    "\t}\n",
    "\n",
    "\t//--- 后置递增运算符 ---//\n",
    "\tCounter operator++(int) {\n",
    "\t\tCounter x = *this;\t\t\t// 保存递增前的值\n",
    "\t\t++(*this);\t\t\t\t\t// 由前置递增运算符执行递增\n",
    "\t\treturn x;\t\t\t\t\t// 返回刚才保存的值\n",
    "\t}\n",
    "\n",
    "\t//--- 前置递减运算符 ---//\n",
    "\tCounter& operator--() {\n",
    "\t\tif (cnt > 0) cnt--;\t\t\t// 计数器的下限为0\n",
    "\t\treturn *this;\t\t\t\t// 返回自身的引用\n",
    "\t}\n",
    "\n",
    "\t//--- 后置递减运算符 ---//\n",
    "\tCounter operator--(int) {\n",
    "\t\tCounter x = *this;\t\t\t// 保存递减前的值\n",
    "\t\t--(*this);\t\t\t\t\t// 由前置递减运算符执行递减\n",
    "\t\treturn x;\t\t\t\t\t// 返回刚才保存的值\n",
    "\t}\n",
    "};\n",
    "\n",
    "// #endif\n"
   ]
  },
  {
   "cell_type": "code",
   "execution_count": 9,
   "metadata": {
    "vscode": {
     "languageId": "cpp"
    }
   },
   "outputs": [
    {
     "name": "stdout",
     "output_type": "stream",
     "text": [
      "向上计数次数：0 1\n",
      "1 2\n",
      "2 3\n",
      "3 4\n",
      "4 5\n",
      "向下计数次数：5 4\n",
      "4 3\n",
      "x不为0。\n"
     ]
    }
   ],
   "source": [
    "int main()\n",
    "{\n",
    "\tint no;\n",
    "\tCounter x;\n",
    "\tCounter y;\n",
    "\n",
    "\tcout << \"向上计数次数：\";\n",
    "\t// cin >> no;\n",
    "    no = 5;\n",
    "\n",
    "\tfor (int i = 0; i < no; i++)\t\t// 向上计数（x为后置而y为前置）\n",
    "\t\tcout << x++ << ' ' << ++y << '\\n';\n",
    "\n",
    "\tcout << \"向下计数次数：\";\n",
    "\t// cin >> no;\n",
    "    no = 2;\n",
    "\n",
    "\tfor (int i = 0; i < no; i++)\t\t// 向下计数（x为后置而y为前置）\n",
    "\t\tcout << x-- << ' ' << --y << '\\n';\n",
    "\n",
    "\tif (!x)\t\t\t\t\t\t\t\t// 由逻辑非运算符判断\n",
    "\t\tcout << \"x为0。\\n\";\n",
    "\telse \n",
    "\t\tcout << \"x不为0。\\n\";\n",
    "}\n",
    "main();"
   ]
  },
  {
   "cell_type": "markdown",
   "metadata": {},
   "source": [
    "## 布尔值类"
   ]
  },
  {
   "cell_type": "code",
   "execution_count": 10,
   "metadata": {
    "vscode": {
     "languageId": "cpp"
    }
   },
   "outputs": [],
   "source": [
    "#include <iostream>\n",
    "#include <string>\n",
    "\n",
    "class Boolean {\n",
    "public:\n",
    "    // 枚举类型，表示Boolean的值\n",
    "    enum Value { False = 0, True = 1 };\n",
    "\n",
    "private:\n",
    "    Value val;  // 内部存储，使用枚举类型Value\n",
    "\n",
    "public:\n",
    "    // 默认构造函数，初始化为False\n",
    "    Boolean() : val(False) {}\n",
    "\n",
    "    // 从int类型构造Boolean，非0视为True\n",
    "    Boolean(int value) : val(value ? True : False) {}\n",
    "\n",
    "    // 转换函数，转换为int类型\n",
    "    operator int() const {\n",
    "        return (val == True) ? 1 : 0;\n",
    "    }\n",
    "\n",
    "    // 获取字符串表示\n",
    "    std::string toString() const {\n",
    "        return (val == True) ? \"True\" : \"False\";\n",
    "    }\n",
    "\n",
    "    // 插入符重载，向输出流输出字符串 \"True\" 或 \"False\"\n",
    "    friend std::ostream& operator<<(std::ostream& os, const Boolean& b) {\n",
    "        os << (b.val == True ? \"True\" : \"False\");\n",
    "        return os;\n",
    "    }\n",
    "};\n"
   ]
  },
  {
   "cell_type": "code",
   "execution_count": 11,
   "metadata": {
    "vscode": {
     "languageId": "cpp"
    }
   },
   "outputs": [
    {
     "name": "stdout",
     "output_type": "stream",
     "text": [
      "Boolean a: False (0)\n",
      "Boolean b: True (1)\n",
      "Boolean c: True (1)\n"
     ]
    }
   ],
   "source": [
    "\n",
    "// 示例使用\n",
    "int main() {\n",
    "    Boolean a = 0;  // 应当输出False\n",
    "    Boolean b = 1;  // 应当输出True\n",
    "    Boolean c = -2; // 应当输出True，因为-2非0视为True\n",
    "\n",
    "    std::cout << \"Boolean a: \" << a << \" (\" << static_cast<int>(a) << \")\\n\";\n",
    "    std::cout << \"Boolean b: \" << b << \" (\" << static_cast<int>(b) << \")\\n\";\n",
    "    std::cout << \"Boolean c: \" << c << \" (\" << static_cast<int>(c) << \")\\n\";\n",
    "\n",
    "    return 0;\n",
    "}\n",
    "main();"
   ]
  },
  {
   "cell_type": "code",
   "execution_count": 12,
   "metadata": {
    "vscode": {
     "languageId": "cpp"
    }
   },
   "outputs": [],
   "source": [
    "Boolean x = Boolean::True;"
   ]
  },
  {
   "cell_type": "markdown",
   "metadata": {},
   "source": [
    "## 复数类"
   ]
  },
  {
   "cell_type": "code",
   "execution_count": 13,
   "metadata": {
    "vscode": {
     "languageId": "cpp"
    }
   },
   "outputs": [],
   "source": [
    "#include <iostream>\n",
    "#include <cmath>\n",
    "\n",
    "//===== 复数类 =====//\n",
    "class Complex {\n",
    "\tdouble re;\t\t// 实部\n",
    "\tdouble im;\t\t// 虚部\n",
    "\n",
    "public:\n",
    "\tComplex(double r = 0, double i = 0) : re(r), im(i) { }\t // 构造函数\n",
    "\n",
    "\tdouble real() const { return re; }\t\t// 返回实部\n",
    "\tdouble imag() const { return im; }\t\t// 返回虚部\n",
    "\n",
    "\tComplex operator+() const { return *this; }\t\t\t\t // 一元+运算符\n",
    "\tComplex operator-() const { return Complex(-re, -im); }\t // 一元-运算符\n",
    "\n",
    "    //---复共轭运算符---// 使用dagger 成员函数\n",
    "    Complex dagger() const { return Complex(re, -im); }\n",
    "\n",
    "\t// 求模长\n",
    "    double norm() const {\n",
    "        return sqrt(re * re + im * im);\n",
    "    }\n",
    "\n",
    "\t//--- 复合赋值运算符 ---//\n",
    "\tComplex& operator+=(const Complex& x) {\n",
    "\t\tre += x.re;\n",
    "\t\tim += x.im;\n",
    "\t\treturn *this;\n",
    "\t}\n",
    "\n",
    "\t//--- 复合赋值运算符 ---//\n",
    "\tComplex& operator-=(const Complex& x) {\n",
    "\t\tre -= x.re;\n",
    "\t\tim -= x.im;\n",
    "\t\treturn *this;\n",
    "\t}\n",
    "\n",
    "\t//--- 相等运算符 ---//\n",
    "\tfriend bool operator==(const Complex& x, const Complex& y) {\n",
    "\t\treturn x.re == y.re && x.im == y.im;\n",
    "\t}\n",
    "\n",
    "\t//--- 相等运算符 ---//\n",
    "\tfriend bool operator!=(const Complex& x, const Complex& y) {\n",
    "\t\treturn !(x == y);\n",
    "\t}\n",
    "\n",
    "\n",
    "\t//--- 二元+运算符（Complex + Complex）---//\n",
    "\tfriend Complex operator+(const Complex& x, const Complex& y) {\n",
    "\t\treturn Complex(x.re + y.re, x.im + y.im);\n",
    "\t}\n",
    "\n",
    "\t// //--- 二元+运算符（double + Complex）---//\n",
    "\t// friend Complex operator+(double x, const Complex& y) {\n",
    "\t// \treturn Complex(x + y.re, y.im);\n",
    "\t// }\n",
    "\n",
    "\t// //--- 二元+运算符（Complex + double）---//\n",
    "\t// friend Complex operator+(const Complex& x, double y) {\n",
    "\t// \treturn Complex(x.re + y, x.im);\n",
    "\t// }\n",
    "\n",
    "\n",
    "\t//--- 二元-运算符（Complex - Complex）---//\n",
    "\tfriend Complex operator-(const Complex& x, const Complex& y) {\n",
    "\t\treturn Complex(x.re - y.re, x.im - y.im);\n",
    "\t}\n",
    "\n",
    "\t// //--- 二元-运算符（double - Complex）---//\n",
    "\t// friend Complex operator-(double x, const Complex& y) {\n",
    "\t// \treturn Complex(x - y.re, -y.im);\n",
    "\t// }\n",
    "\n",
    "\t// //--- 二元-运算符（Complex - double）---//\n",
    "\t// friend Complex operator-(const Complex& x, double y) {\n",
    "\t// \treturn Complex(x.re - y, x.im);\n",
    "\t// }\n",
    "\n",
    "    //--- 二元*运算符（Complex * Complex）---//\n",
    "    friend Complex operator*(const Complex& x, const Complex& y) {\n",
    "        return Complex(x.re * y.re - x.im * y.im, x.re * y.im + x.im * y.re);\n",
    "    }\n",
    "\n",
    "    // //--- 二元*运算符（double * Complex）---//\n",
    "    // friend Complex operator*(double x, const Complex& y) {\n",
    "    //     return Complex(x * y.re, x * y.im);\n",
    "    // }\n",
    "\n",
    "    // //--- 二元*运算符（Complex * double）---//\n",
    "    // friend Complex operator*(const Complex& x, double y) {\n",
    "    //     return Complex(x.re * y, x.im * y);\n",
    "    // }\n",
    "\n",
    "\t//--- 二元/运算符（Complex / Complex）---//\n",
    "    friend Complex operator/(const Complex& x, const Complex& y) {\n",
    "        double denominator =  y.norm() * y.norm();\n",
    "    // //   // return Complex(x * y.dagger() / denominator);  // 有问题 ,会调用其他两个/运算符,不能单独存在\n",
    "\t\treturn Complex((x.re * y.re + x.im * y.im) / denominator, (x.im * y.re - x.re * y.im) / denominator); // 可以单独存在\n",
    "    }\n",
    "\n",
    "    // //--- 二元/运算符（Complex / double）---//\n",
    "    // friend Complex operator/(const Complex& x, double y) {\n",
    "    //     return Complex(x.re / y, x.im / y);\n",
    "    // }\n",
    "\n",
    "\n",
    "    // //--- 二元/运算符（double / Complex）---//\n",
    "    // friend Complex operator/(double x, const Complex& y) {\n",
    "    //     double denominator = y.norm() * y.norm();\n",
    "    //     return Complex(x * y.dagger() / denominator);\n",
    "    // }\n",
    "\n",
    "\tfriend std::ostream& operator<<(std::ostream& out, const Complex& c) {\n",
    "        return out << '(' << c.re << \", \" << c.im << ')';\n",
    "\t}\n",
    "\n",
    "};\n",
    "\n"
   ]
  },
  {
   "cell_type": "code",
   "execution_count": 14,
   "metadata": {
    "vscode": {
     "languageId": "cpp"
    }
   },
   "outputs": [
    {
     "name": "stdout",
     "output_type": "stream",
     "text": [
      "a = (1, 2)\n",
      "b = (3, 4)\n",
      "+a = (1, 2)\n",
      "-a = (-1, -2)\n",
      "a == b = 0\n",
      "a != b = 1\n",
      "a dagger = (1, -2)\n",
      "b dagger = (3, -4)\n",
      "a norm = 2.23607\n",
      "b norm = 5\n",
      "a + b = (4, 6)\n",
      "a - b = (-2, -2)\n",
      "a * b = (-5, 10)\n",
      "a / b = (0.44, 0.08)\n",
      "a + x = (3.5, 2)\n",
      "a - x = (-1.5, 2)\n",
      "a * x = (2.5, 5)\n",
      "a / x = (0.4, 0.8)\n",
      "x + a = (3.5, 2)\n",
      "x - a = (1.5, -2)\n",
      "x * a = (2.5, 5)\n",
      "x / a = (0.5, -1)\n"
     ]
    },
    {
     "data": {
      "text/plain": [
       "0"
      ]
     },
     "execution_count": 14,
     "metadata": {},
     "output_type": "execute_result"
    }
   ],
   "source": [
    "// 示例使用\n",
    "\n",
    "int main() {\n",
    "    Complex a(1, 2);\n",
    "    Complex b(3, 4);\n",
    "\n",
    "    double x = 2.5;\n",
    "\n",
    "    std::cout << \"a = \" << a << '\\n';\n",
    "    std::cout << \"b = \" << b << '\\n';\n",
    "\n",
    "    // 一元\n",
    "    std::cout << \"+a = \" << +a << '\\n';\n",
    "    std::cout << \"-a = \" << -a << '\\n';\n",
    "\n",
    "    // std::cout << \"a += b = \" << (a += b) << '\\n';\n",
    "    // std::cout << \"a -= b = \" << (a -= b) << '\\n';\n",
    "\n",
    "    std::cout << \"a == b = \" << (a == b) << '\\n';\n",
    "    std::cout << \"a != b = \" << (a != b) << '\\n';\n",
    "\n",
    "    std::cout << \"a dagger = \" << a.dagger() << '\\n';\n",
    "    std::cout << \"b dagger = \" << b.dagger() << '\\n';\n",
    "\n",
    "    std::cout << \"a norm = \" << a.norm() << '\\n';\n",
    "    std::cout << \"b norm = \" << b.norm() << '\\n';\n",
    "\n",
    "    std::cout << \"a + b = \" << a + b << '\\n';\n",
    "    std::cout << \"a - b = \" << a - b << '\\n';\n",
    "    std::cout << \"a * b = \" << a * b << '\\n';\n",
    "    std::cout << \"a / b = \" << a / b << '\\n';\n",
    "\n",
    "    std::cout << \"a + x = \" << a + x << '\\n';\n",
    "    std::cout << \"a - x = \" << a - x << '\\n';\n",
    "    std::cout << \"a * x = \" << a * x << '\\n';\n",
    "    std::cout << \"a / x = \" << a / x << '\\n';\n",
    "\n",
    "    std::cout << \"x + a = \" << x + a << '\\n';\n",
    "    std::cout << \"x - a = \" << x - a << '\\n';\n",
    "    std::cout << \"x * a = \" << x * a << '\\n';\n",
    "    std::cout << \"x / a = \" << x / a << '\\n';\n",
    "\n",
    "    return 0;\n",
    "}   \n",
    "\n",
    "main()"
   ]
  },
  {
   "cell_type": "markdown",
   "metadata": {},
   "source": [
    "### 友元函数"
   ]
  },
  {
   "cell_type": "code",
   "execution_count": 15,
   "metadata": {
    "vscode": {
     "languageId": "cpp"
    }
   },
   "outputs": [],
   "source": [
    "class Box {\n",
    "   double width;\n",
    "public:\n",
    "   Box(double wid) : width(wid) {}\n",
    "   friend void printWidth(Box box);\n",
    "};\n"
   ]
  },
  {
   "cell_type": "code",
   "execution_count": 16,
   "metadata": {
    "vscode": {
     "languageId": "cpp"
    }
   },
   "outputs": [],
   "source": [
    "\n",
    "void printWidth(Box box) {\n",
    "   // 直接访问私有成员\n",
    "   cout << \"Width of box : \" << box.width <<endl;\n",
    "}\n"
   ]
  },
  {
   "cell_type": "code",
   "execution_count": 17,
   "metadata": {
    "vscode": {
     "languageId": "cpp"
    }
   },
   "outputs": [
    {
     "name": "stdout",
     "output_type": "stream",
     "text": [
      "Width of box : 10\n"
     ]
    }
   ],
   "source": [
    "\n",
    "int main() {\n",
    "   Box box(10);\n",
    "   // 使用友元函数打印宽度\n",
    "   printWidth(box);\n",
    "   return 0;\n",
    "}\n",
    "main();"
   ]
  },
  {
   "cell_type": "markdown",
   "metadata": {},
   "source": [
    "#### const 引用参数"
   ]
  },
  {
   "cell_type": "code",
   "execution_count": 25,
   "metadata": {
    "vscode": {
     "languageId": "cpp"
    }
   },
   "outputs": [],
   "source": [
    "//初始化和赋值、值传递和引用传递的验证\n",
    "\n",
    "class Test {\n",
    "public:\n",
    "    Test() {\n",
    "        std::cout << \"初始化 Test()\" << std::endl;\n",
    "    }\n",
    "    Test(const Test& t) {\n",
    "        std::cout << \"初始化 Test(const Test&)\" << std::endl;\n",
    "    }\n",
    "    Test& operator=(const Test& t) {                          // 重载赋值运算符\n",
    "        std::cout << \"赋值 Test = Test\" << std::endl;\n",
    "        return *this;\n",
    "    }\n",
    "    // ~Test() {\n",
    "    //     std::cout << \"~Test()\" << std::endl;\n",
    "    // }\n",
    "};\n",
    "\n"
   ]
  },
  {
   "cell_type": "code",
   "execution_count": 26,
   "metadata": {
    "vscode": {
     "languageId": "cpp"
    }
   },
   "outputs": [],
   "source": [
    "//---值传递---//\n",
    "void value(Test t) {\n",
    "    // std::cout << \"value()\" << std::endl;\n",
    "}"
   ]
  },
  {
   "cell_type": "code",
   "execution_count": 27,
   "metadata": {
    "vscode": {
     "languageId": "cpp"
    }
   },
   "outputs": [],
   "source": [
    "//---引用传递---//\n",
    "void reference(Test& t) {\n",
    "    // std::cout << \"reference()\" << std::endl;\n",
    "}"
   ]
  },
  {
   "cell_type": "code",
   "execution_count": 28,
   "metadata": {
    "vscode": {
     "languageId": "cpp"
    }
   },
   "outputs": [
    {
     "name": "stdout",
     "output_type": "stream",
     "text": [
      "初始化 Test()\n",
      "初始化 Test(const Test&)\n",
      "初始化 Test(const Test&)\n",
      "赋值 Test = Test\n",
      "初始化 Test(const Test&)\n"
     ]
    }
   ],
   "source": [
    "int main() {\n",
    "    Test t1;\n",
    "    Test t2 = t1;       // 调用复制构造函数\n",
    "    Test t3(t1);\n",
    "    t2 = t1;            // 调用赋值运算符\n",
    "\n",
    "    value(t1);          // 调用复制构造函数\n",
    "    reference(t1);      // 不调用复制构造函数\n",
    "\n",
    "    return 0;\n",
    "}\n",
    "main();"
   ]
  },
  {
   "cell_type": "code",
   "execution_count": 4,
   "metadata": {
    "vscode": {
     "languageId": "cpp"
    }
   },
   "outputs": [
    {
     "name": "stderr",
     "output_type": "stream",
     "text": [
      "input_line_18:14:28: warning: implicit conversion from 'double' to 'int' changes value from 6.28 to 6 [-Wliteral-conversion]\n",
      "    const_cast<int&>(y) =  6.28;\n",
      "                        ~  ^~~~\n"
     ]
    },
    {
     "name": "stdout",
     "output_type": "stream",
     "text": [
      "address of a: 0x7ffe9686f5c8\n",
      "address of b: 0x7ffe9686f5c8\n",
      "address of c: 0x7ffe9686f5c8\n",
      "address of x: 0x7ffe9686f5a0\n",
      "address of y: 0x7ffe9686f594\n",
      "y = 3\n",
      "y = 6\n",
      "a = 10\n",
      "b = 10\n",
      "c = 10\n",
      "a = 20\n",
      "b = 20\n",
      "c = 20\n",
      "a = 30\n",
      "b = 30\n",
      "c = 30\n"
     ]
    }
   ],
   "source": [
    "// 验证引用对象的引用目标\n",
    "\n",
    "#include <iostream>\n",
    "\n",
    "int main() {\n",
    "    int a = 10;\n",
    "    int& b = a;\n",
    "    int& c = b;\n",
    "\n",
    "    std::cout << \"address of a: \" << &a << std::endl;\n",
    "    std::cout << \"address of b: \" << &b << std::endl;\n",
    "    std::cout << \"address of c: \" << &c << std::endl;\n",
    "    const int& d = 5;\n",
    "\n",
    "    double x = 3.14;\n",
    "    const int& y = x;\n",
    "    std::cout << \"address of x: \" << &x << std::endl;\n",
    "    std::cout << \"address of y: \" << &y << std::endl;\n",
    "    std::cout << \"y = \" << y << std::endl;\n",
    "\n",
    "    const_cast<int&>(y) =  6.28; // 强制转换,去除const属性\n",
    "    std::cout << \"y = \" << y << std::endl;\n",
    "\n",
    "\n",
    "    std::cout << \"a = \" << a << std::endl;\n",
    "    std::cout << \"b = \" << b << std::endl;\n",
    "    std::cout << \"c = \" << c << std::endl;\n",
    "\n",
    "    a = 20;\n",
    "    std::cout << \"a = \" << a << std::endl;\n",
    "    std::cout << \"b = \" << b << std::endl;\n",
    "    std::cout << \"c = \" << c << std::endl;\n",
    "\n",
    "    b = 30;\n",
    "    std::cout << \"a = \" << a << std::endl;\n",
    "    std::cout << \"b = \" << b << std::endl;\n",
    "    std::cout << \"c = \" << c << std::endl;\n",
    "\n",
    "    const int& e = a;\n",
    "\n",
    "    return 0;\n",
    "}\n",
    "\n",
    "main();"
   ]
  },
  {
   "cell_type": "code",
   "execution_count": null,
   "metadata": {
    "vscode": {
     "languageId": "cpp"
    }
   },
   "outputs": [],
   "source": []
  }
 ],
 "metadata": {
  "kernelspec": {
   "display_name": "C++17",
   "language": "C++17",
   "name": "xcpp17"
  },
  "language_info": {
   "codemirror_mode": "text/x-c++src",
   "file_extension": ".cpp",
   "mimetype": "text/x-c++src",
   "name": "c++",
   "version": "17"
  }
 },
 "nbformat": 4,
 "nbformat_minor": 2
}
