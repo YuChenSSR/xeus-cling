{
 "cells": [
  {
   "cell_type": "markdown",
   "metadata": {},
   "source": [
    "# 转换函数和运算符函数"
   ]
  },
  {
   "cell_type": "markdown",
   "metadata": {},
   "source": [
    "## 计数器类"
   ]
  },
  {
   "cell_type": "code",
   "execution_count": 1,
   "metadata": {
    "vscode": {
     "languageId": "cpp"
    }
   },
   "outputs": [],
   "source": [
    "#include <iostream>\n",
    "#include <climits>\n"
   ]
  },
  {
   "cell_type": "code",
   "execution_count": 2,
   "metadata": {
    "vscode": {
     "languageId": "cpp"
    }
   },
   "outputs": [],
   "source": [
    "using namespace std;"
   ]
  },
  {
   "cell_type": "code",
   "execution_count": 4,
   "metadata": {
    "vscode": {
     "languageId": "cpp"
    }
   },
   "outputs": [],
   "source": [
    "// counter\n",
    "// 初始化。在创建时将计数器初始化为 0。 \n",
    "// 向上计数（递增计数器）。 \n",
    "// 向下计数（递减计数器）。 \n",
    "// 返回计数器。\n",
    "\n",
    "class Counter {\n",
    "    unsigned count;\n",
    "public:\n",
    "    Counter() {\n",
    "        count = 0;\n",
    "    }\n",
    "    // Counter() : count(0) {} \n",
    "    void increment() {\n",
    "        if (count < UINT_MAX)\n",
    "            count++;\n",
    "    }\n",
    "    void decrement() {\n",
    "        if (count > 0)\n",
    "            count--;\n",
    "    }\n",
    "    int getCount() {\n",
    "        return count;\n",
    "    }\n",
    "};"
   ]
  },
  {
   "cell_type": "code",
   "execution_count": 5,
   "metadata": {
    "vscode": {
     "languageId": "cpp"
    }
   },
   "outputs": [
    {
     "name": "stdout",
     "output_type": "stream",
     "text": [
      "4294967295\n"
     ]
    },
    {
     "data": {
      "text/plain": [
       "@0x701dc2691de0"
      ]
     },
     "execution_count": 5,
     "metadata": {},
     "output_type": "execute_result"
    }
   ],
   "source": [
    "// how to check UINT_MAX value?  \n",
    "cout << UINT_MAX << endl;\n",
    "\n"
   ]
  },
  {
   "cell_type": "code",
   "execution_count": 7,
   "metadata": {
    "vscode": {
     "languageId": "cpp"
    }
   },
   "outputs": [
    {
     "name": "stdout",
     "output_type": "stream",
     "text": [
      "0\n"
     ]
    }
   ],
   "source": [
    "Counter c;\n",
    "cout << c.getCount() << endl;"
   ]
  },
  {
   "cell_type": "code",
   "execution_count": 8,
   "metadata": {
    "vscode": {
     "languageId": "cpp"
    }
   },
   "outputs": [
    {
     "name": "stdout",
     "output_type": "stream",
     "text": [
      "0 0 0 0 0 0 0 0 0 0 \n"
     ]
    }
   ],
   "source": [
    "Counter a[10];\n",
    "\n",
    "for (int i = 0; i < 10; i++) {\n",
    "    cout << a[i].getCount() << \" \";\n",
    "}\n",
    "\n",
    "cout << endl;"
   ]
  },
  {
   "cell_type": "code",
   "execution_count": 10,
   "metadata": {
    "vscode": {
     "languageId": "cpp"
    }
   },
   "outputs": [
    {
     "name": "stdout",
     "output_type": "stream",
     "text": [
      "0\n",
      "5\n",
      "2\n"
     ]
    }
   ],
   "source": [
    "int change_count = 5;\n",
    "\n",
    "Counter x;\n",
    "cout << x.getCount() << endl;\n",
    "for (int i = 0; i < change_count; i++) {\n",
    "    x.increment();\n",
    "}\n",
    "cout << x.getCount() << endl;\n",
    "\n",
    "change_count = 3;\n",
    "for (int i = 0; i < change_count; i++) {\n",
    "    x.decrement();\n",
    "}\n",
    "cout << x.getCount() << endl;"
   ]
  },
  {
   "cell_type": "markdown",
   "metadata": {},
   "source": [
    "`x.increment();`  \n",
    "`x.decrement();`  \n",
    "过于复杂,想要重载++或者--实现"
   ]
  },
  {
   "cell_type": "markdown",
   "metadata": {},
   "source": [
    "转换函数  \n",
    "运算符函数"
   ]
  },
  {
   "cell_type": "code",
   "execution_count": null,
   "metadata": {
    "vscode": {
     "languageId": "cpp"
    }
   },
   "outputs": [],
   "source": []
  }
 ],
 "metadata": {
  "kernelspec": {
   "display_name": "C++17",
   "language": "C++17",
   "name": "xcpp17"
  },
  "language_info": {
   "codemirror_mode": "text/x-c++src",
   "file_extension": ".cpp",
   "mimetype": "text/x-c++src",
   "name": "c++",
   "version": "17"
  }
 },
 "nbformat": 4,
 "nbformat_minor": 2
}
