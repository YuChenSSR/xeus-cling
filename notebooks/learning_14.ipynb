{
 "cells": [
  {
   "cell_type": "markdown",
   "metadata": {},
   "source": [
    "# 通过数组类学习类的设计"
   ]
  },
  {
   "cell_type": "markdown",
   "metadata": {},
   "source": [
    "## 构造函数和析构函数"
   ]
  },
  {
   "cell_type": "code",
   "execution_count": 1,
   "metadata": {
    "vscode": {
     "languageId": "cpp"
    }
   },
   "outputs": [],
   "source": [
    "#include <iostream>\n",
    "\n",
    "class Example {\n",
    "private:\n",
    "    int* array;\n",
    "\n",
    "public:\n",
    "    // 构造函数\n",
    "    Example(int size) {\n",
    "        array = new int[size];  // 分配内存\n",
    "        std::cout << \"Resource allocated.\" << std::endl;\n",
    "    }\n",
    "\n",
    "    // 析构函数\n",
    "    ~Example() {\n",
    "        delete[] array;  // 释放内存\n",
    "        std::cout << \"Resource freed.\" << std::endl;\n",
    "    }\n",
    "};\n"
   ]
  },
  {
   "cell_type": "code",
   "execution_count": 2,
   "metadata": {
    "vscode": {
     "languageId": "cpp"
    }
   },
   "outputs": [
    {
     "name": "stdout",
     "output_type": "stream",
     "text": [
      "Resource allocated.\n",
      "Resource freed.\n"
     ]
    }
   ],
   "source": [
    "\n",
    "int main() {\n",
    "    Example ex(5);  // 创建对象\n",
    "    // 对象的生命周期在main函数的末尾结束，此时会自动调用析构函数\n",
    "    return 0;\n",
    "}\n",
    "\n",
    "main();"
   ]
  },
  {
   "cell_type": "code",
   "execution_count": 3,
   "metadata": {
    "vscode": {
     "languageId": "cpp"
    }
   },
   "outputs": [],
   "source": [
    "// 整数数组类 IntArray\n",
    "class IntArray {\n",
    "    int nelem;\n",
    "    int* vec; //  \n",
    "public:\n",
    "    // 构造函数\n",
    "    IntArray(int size) : nelem(size) {\n",
    "        vec = new int[nelem];\n",
    "    }\n",
    "\n",
    "    int size() const { return nelem;}\n",
    "\n",
    "    int& operator[](int i) { return vec[i];} //赋值运算符的左操作数：int 不可以，但 int& 可以\n",
    "\n",
    "\n",
    "\n",
    "    // 析构函数\n",
    "    ~IntArray() {\n",
    "        delete[] vec;\n",
    "    }\n",
    "};\n"
   ]
  },
  {
   "cell_type": "code",
   "execution_count": 4,
   "metadata": {
    "vscode": {
     "languageId": "cpp"
    }
   },
   "outputs": [
    {
     "data": {
      "text/plain": [
       "10"
      ]
     },
     "execution_count": 4,
     "metadata": {},
     "output_type": "execute_result"
    }
   ],
   "source": [
    "IntArray x(5); //这里初始化不是[],而是()\n",
    "\n",
    "int a = x[2]; // 赋值运算符的右操作数：int 和 int& 均可以\n",
    "\n",
    "x[3] = 10; // 赋值运算符的左操作数：int 不可以，但 int& 可以"
   ]
  },
  {
   "cell_type": "code",
   "execution_count": 5,
   "metadata": {
    "vscode": {
     "languageId": "cpp"
    }
   },
   "outputs": [],
   "source": [
    "#include <iostream>\n",
    "\n",
    "using namespace std;"
   ]
  },
  {
   "cell_type": "code",
   "execution_count": 6,
   "metadata": {
    "vscode": {
     "languageId": "cpp"
    }
   },
   "outputs": [
    {
     "name": "stdout",
     "output_type": "stream",
     "text": [
      "x.size() = 5\n",
      "x[0] = 0\n",
      "x[1] = 1\n",
      "x[2] = 2\n",
      "x[3] = 3\n",
      "x[4] = 4\n"
     ]
    }
   ],
   "source": [
    "int main()\n",
    "{\n",
    "    int n;\n",
    "    n = 5;\n",
    "\n",
    "    IntArray x(n);\n",
    "\n",
    "    cout << \"x.size() = \" << x.size() << endl;\n",
    "    for (int i = 0;i < x.size(); i++)\n",
    "        x[i] = i;\n",
    "    for (int i =0; i < x.size(); i++)\n",
    "        cout << \"x[\" << i << \"] = \" << x[i] << endl; \n",
    "\n",
    "}\n",
    "\n",
    "main();"
   ]
  },
  {
   "cell_type": "code",
   "execution_count": 7,
   "metadata": {
    "vscode": {
     "languageId": "cpp"
    }
   },
   "outputs": [],
   "source": [
    "IntArray x = 5;"
   ]
  },
  {
   "cell_type": "markdown",
   "metadata": {},
   "source": []
  },
  {
   "cell_type": "code",
   "execution_count": 8,
   "metadata": {
    "vscode": {
     "languageId": "cpp"
    }
   },
   "outputs": [],
   "source": [
    "// 整数数组类 IntArray\n",
    "class IntArray {\n",
    "    int nelem;\n",
    "    int* vec; //  \n",
    "public:\n",
    "    // 构造函数\n",
    "    explicit IntArray(int size) : nelem(size) {\n",
    "        vec = new int[nelem];\n",
    "    }\n",
    "\n",
    "    int size() const { return nelem;}\n",
    "\n",
    "    int& operator[](int i) { return vec[i];} //赋值运算符的左操作数：int 不可以，但 int& 可以\n",
    "\n",
    "\n",
    "\n",
    "    // 析构函数\n",
    "    ~IntArray() {\n",
    "        delete[] vec;\n",
    "    }\n",
    "};\n"
   ]
  },
  {
   "cell_type": "markdown",
   "metadata": {},
   "source": [
    "### 声明显式构造函数（explicit constructor）的函数说明符。 该显式构造函数是可以防止隐式类型转换的构造函数。"
   ]
  },
  {
   "cell_type": "code",
   "execution_count": 9,
   "metadata": {
    "vscode": {
     "languageId": "cpp"
    }
   },
   "outputs": [],
   "source": [
    "// IntArray x = 5; //error if we have  explicit  声明显式构造函数（explicit constructor）的函数说明符。 该显式构造函数是可以防止隐式类型转换的构造函数。"
   ]
  },
  {
   "cell_type": "markdown",
   "metadata": {},
   "source": [
    "## 赋值运算符和复制构造函数"
   ]
  },
  {
   "cell_type": "code",
   "execution_count": 17,
   "metadata": {
    "vscode": {
     "languageId": "cpp"
    }
   },
   "outputs": [],
   "source": [
    "// 赋值运算符重载\n",
    "\n",
    "// 整数数组类 IntArray\n",
    "class IntArray {\n",
    "    int nelem;\n",
    "    int* vec; //  \n",
    "public:\n",
    "    // 构造函数\n",
    "    explicit IntArray(int size) : nelem(size) {\n",
    "        vec = new int[nelem];\n",
    "    }\n",
    "\n",
    "    int* get_vec() const { return vec;}\n",
    "\n",
    "    IntArray& operator=(const IntArray& x)\n",
    "    {\n",
    "        if (&x != this){                             // 防止自我赋值\n",
    "            if (nelem != x.nelem){                  // 如果赋值前后的元素个数不同\n",
    "                delete[] vec;\n",
    "                nelem = x.nelem;\n",
    "                vec = new int[nelem];\n",
    "            }\n",
    "\n",
    "            for (int i = 0; i < nelem; i++)\n",
    "                vec[i] = x.vec[i];\n",
    "\n",
    "        }\n",
    "\n",
    "        return *this;\n",
    "    }\n",
    "\n",
    "    int size() const { return nelem;}\n",
    "\n",
    "    int& operator[](int i) { return vec[i];} //赋值运算符的左操作数：int 不可以，但 int& 可以\n",
    "\n",
    "\n",
    "\n",
    "    // 析构函数\n",
    "    ~IntArray() {\n",
    "        delete[] vec;\n",
    "    }\n",
    "};\n"
   ]
  },
  {
   "cell_type": "code",
   "execution_count": 18,
   "metadata": {
    "vscode": {
     "languageId": "cpp"
    }
   },
   "outputs": [],
   "source": [
    "IntArray x(12);\n",
    "\n",
    "IntArray y =  x;"
   ]
  },
  {
   "cell_type": "code",
   "execution_count": 19,
   "metadata": {
    "vscode": {
     "languageId": "cpp"
    }
   },
   "outputs": [
    {
     "name": "stdout",
     "output_type": "stream",
     "text": [
      "address of x: 0x56fbd0a15760\n",
      "address of y: 0x56fbd0a15760\n"
     ]
    }
   ],
   "source": [
    "std::cout << \"address of x: \" << x.get_vec() << endl;\n",
    "std::cout << \"address of y: \" << y.get_vec() << endl;"
   ]
  },
  {
   "cell_type": "markdown",
   "metadata": {},
   "source": [
    "可以看到编译器提供的隐式构造函数使得两个vec的值一样,这样会使这两个指针指向同一空间,改变一个数组元素,会让另一个跟着变化"
   ]
  },
  {
   "cell_type": "markdown",
   "metadata": {},
   "source": [
    "### 需要重载复制构造函数"
   ]
  },
  {
   "cell_type": "code",
   "execution_count": 1,
   "metadata": {
    "vscode": {
     "languageId": "cpp"
    }
   },
   "outputs": [],
   "source": [
    "// 需要重载复制构造函数\n",
    "\n",
    "// 整数数组类 IntArray\n",
    "class IntArray {\n",
    "    int nelem;\n",
    "    int* vec; //  \n",
    "public:\n",
    "    // 构造函数\n",
    "    explicit IntArray(int size) : nelem(size) {\n",
    "        vec = new int[nelem];\n",
    "    }\n",
    "\n",
    "    IntArray(const IntArray& x) \n",
    "    {\n",
    "        if (&x == this){    //  初始化器为自己的情况\n",
    "            nelem = 0;\n",
    "            vec = NULL;\n",
    "        }\n",
    "        else {                      // !!!初始化就不用判断分配元素个数的差异了,就是一样的个数,直接复制,`nelem = x.nelem;`\n",
    "            nelem = x.nelem;\n",
    "            vec = new int[nelem];\n",
    "            for (int i = 0; i < nelem; i++){\n",
    "                vec[i] = x.vec[i];\n",
    "            }\n",
    "        }\n",
    "    }\n",
    "\n",
    "    int* get_vec() const { return vec;}\n",
    "\n",
    "    IntArray& operator=(const IntArray& x)\n",
    "    {\n",
    "        if (&x != this){                             // 防止自我赋值\n",
    "            if (nelem != x.nelem){                  // 如果赋值前后的元素个数不同\n",
    "                delete[] vec;\n",
    "                nelem = x.nelem;\n",
    "                vec = new int[nelem];\n",
    "            }\n",
    "\n",
    "            for (int i = 0; i < nelem; i++)\n",
    "                vec[i] = x.vec[i];\n",
    "\n",
    "        }\n",
    "\n",
    "        return *this;\n",
    "    }\n",
    "\n",
    "    int size() const { return nelem;}\n",
    "\n",
    "    int& operator[](int i) { return vec[i];} //赋值运算符的左操作数：int 不可以，但 int& 可以\n",
    "\n",
    "\n",
    "\n",
    "    // 析构函数\n",
    "    ~IntArray() {\n",
    "        delete[] vec;\n",
    "    }\n",
    "};\n"
   ]
  },
  {
   "cell_type": "markdown",
   "metadata": {},
   "source": [
    "重载复制构造函数 没有使用`explicit`    \n",
    "如果显式,会让下面的的语句中的第二句出现编译错误   \n",
    "```cpp\n",
    "IntArray a(12);\n",
    "IntArray b = a;\n",
    "```"
   ]
  },
  {
   "cell_type": "code",
   "execution_count": 22,
   "metadata": {
    "vscode": {
     "languageId": "cpp"
    }
   },
   "outputs": [],
   "source": [
    "IntArray x(12);\n",
    "\n",
    "IntArray y =  x;"
   ]
  },
  {
   "cell_type": "code",
   "execution_count": 23,
   "metadata": {
    "vscode": {
     "languageId": "cpp"
    }
   },
   "outputs": [
    {
     "name": "stdout",
     "output_type": "stream",
     "text": [
      "address of x: 0x56fbd09ffcd0\n",
      "address of y: 0x56fbd09fdc50\n"
     ]
    }
   ],
   "source": [
    "std::cout << \"address of x: \" << x.get_vec() << endl;\n",
    "std::cout << \"address of y: \" << y.get_vec() << endl;"
   ]
  },
  {
   "cell_type": "markdown",
   "metadata": {},
   "source": [
    "重载上述的复制构造函数,发现vec指针值不一样了,意味着其数组的第一个元素的地址是不一样的,也就是说两个数组不是用一个."
   ]
  },
  {
   "cell_type": "markdown",
   "metadata": {},
   "source": [
    "## 异常处理"
   ]
  },
  {
   "cell_type": "code",
   "execution_count": 2,
   "metadata": {
    "vscode": {
     "languageId": "cpp"
    }
   },
   "outputs": [],
   "source": [
    "#include <iostream>"
   ]
  },
  {
   "cell_type": "code",
   "execution_count": 3,
   "metadata": {
    "vscode": {
     "languageId": "cpp"
    }
   },
   "outputs": [
    {
     "name": "stdout",
     "output_type": "stream",
     "text": [
      "256\n"
     ]
    }
   ],
   "source": [
    "int main()\n",
    "{\n",
    "    IntArray x(15);\n",
    "\n",
    "    x[24] = 256;\n",
    "\n",
    "    std::cout <<  x[24] << std::endl;\n",
    "}\n",
    "\n",
    "main();"
   ]
  },
  {
   "cell_type": "markdown",
   "metadata": {},
   "source": [
    "我们可以发现,赋值在第25个元素上,但是没有对超过预定分配的15个元素进行错误处理,程序居然能正常运行."
   ]
  },
  {
   "cell_type": "code",
   "execution_count": 4,
   "metadata": {
    "vscode": {
     "languageId": "cpp"
    }
   },
   "outputs": [],
   "source": [
    "// 下边溢出需要添加异常处理\n",
    "\n",
    "#include <stdexcept>\n",
    "#include <iostream>\n",
    "\n",
    "class IntArray {\n",
    "    int nelem;\n",
    "    int* vec;\n",
    "public:\n",
    "    explicit IntArray(int size) : nelem(size) {\n",
    "        vec = new int[nelem];\n",
    "    }\n",
    "\n",
    "    IntArray(const IntArray& x) {\n",
    "        nelem = x.nelem;\n",
    "        vec = new int[nelem];\n",
    "        for (int i = 0; i < nelem; i++) {\n",
    "            vec[i] = x.vec[i];\n",
    "        }\n",
    "    }\n",
    "\n",
    "    int* get_vec() const { return vec; }\n",
    "\n",
    "    IntArray& operator=(const IntArray& x) {\n",
    "        if (&x != this) {\n",
    "            if (nelem != x.nelem) {\n",
    "                delete[] vec;\n",
    "                vec = new int[x.nelem];\n",
    "                nelem = x.nelem;\n",
    "            }\n",
    "            for (int i = 0; i < nelem; i++)\n",
    "                vec[i] = x.vec[i];\n",
    "        }\n",
    "        return *this;\n",
    "    }\n",
    "\n",
    "    int size() const { return nelem; }\n",
    "\n",
    "    int& operator[](int i) {\n",
    "        if (i >= nelem || i < 0) {           // 异常处理\n",
    "            throw std::out_of_range(\"Index out of range\");\n",
    "        }\n",
    "        return vec[i];\n",
    "    }\n",
    "\n",
    "    ~IntArray() {\n",
    "        delete[] vec;\n",
    "    }\n",
    "};\n",
    "\n",
    "\n",
    "\n",
    "\n"
   ]
  },
  {
   "cell_type": "code",
   "execution_count": 5,
   "metadata": {
    "vscode": {
     "languageId": "cpp"
    }
   },
   "outputs": [
    {
     "name": "stdout",
     "output_type": "stream",
     "text": [
      "Error: Index out of range\n"
     ]
    }
   ],
   "source": [
    "int main()\n",
    "{\n",
    "    IntArray x(15);\n",
    "    try {\n",
    "        x[24] = 256;\n",
    "        std::cout << x[24] << std::endl;\n",
    "    } catch (const std::out_of_range& e) {\n",
    "        std::cout << \"Error: \" << e.what() << std::endl;\n",
    "    }\n",
    "}\n",
    "\n",
    "main();"
   ]
  },
  {
   "cell_type": "markdown",
   "metadata": {},
   "source": [
    "在 C++ 中，如果你希望捕获多种类型的异常，可以在 `try` 块后面依次列出多个 `catch` 子句，每个子句处理一种类型的异常。每个 `catch` 子句都会指定一个异常类型和一个接收异常数据的变量。这些子句按照它们出现的顺序进行匹配：当抛出一个异常时，将使用第一个能够匹配异常类型的 `catch` 子句来处理它。\n",
    "\n",
    "如果有一些异常可能在你的应用程序中频繁出现或者需要特别的处理逻辑，你应该为这些异常单独设置 `catch` 子句。对于不常见或未预料的异常，通常可以用一个捕获所有异常的通用 `catch(...)` 子句来处理。"
   ]
  },
  {
   "cell_type": "code",
   "execution_count": 6,
   "metadata": {
    "vscode": {
     "languageId": "cpp"
    }
   },
   "outputs": [],
   "source": [
    "#include <iostream>\n",
    "#include <stdexcept>\n",
    "#include <string>\n",
    "\n",
    "class IntArray {\n",
    "public:\n",
    "    explicit IntArray(int size) {\n",
    "        if (size <= 0) {\n",
    "            throw std::invalid_argument(\"Size must be positive\");\n",
    "        }\n",
    "        vec = new int[size];\n",
    "        nelem = size;\n",
    "    }\n",
    "\n",
    "    int& operator[](int index) {\n",
    "        if (index >= nelem || index < 0) {\n",
    "            throw std::out_of_range(\"Index out of range\");\n",
    "        }\n",
    "        return vec[index];\n",
    "    }\n",
    "\n",
    "    ~IntArray() {\n",
    "        delete[] vec;\n",
    "    }\n",
    "\n",
    "private:\n",
    "    int* vec;\n",
    "    int nelem;\n",
    "};\n",
    "\n"
   ]
  },
  {
   "cell_type": "code",
   "execution_count": 16,
   "metadata": {
    "vscode": {
     "languageId": "cpp"
    }
   },
   "outputs": [
    {
     "name": "stdout",
     "output_type": "stream",
     "text": [
      "Standard exception: A runtime error occurred\n"
     ]
    }
   ],
   "source": [
    "int main() {\n",
    "    try {\n",
    "        //--- This will throw std::invalid_argument---//\n",
    "        // IntArray arr(-1); \n",
    "\n",
    "        //---Out of Range error: Index out of range---//\n",
    "        // IntArray arr(5);\n",
    "        // arr[23] = 12;\n",
    "\n",
    "        //---Standard exception: A runtime error occurred---//\n",
    "        throw std::runtime_error(\"A runtime error occurred\");\n",
    "\n",
    "    } catch (const std::out_of_range& e) {\n",
    "        std::cout << \"Out of Range error: \" << e.what() << std::endl;\n",
    "    } catch (const std::invalid_argument& e) {\n",
    "        std::cout << \"Invalid Argument: \" << e.what() << std::endl;\n",
    "    } catch (const std::exception& e) {\n",
    "        // Catch any other exceptions deriving from std::exception\n",
    "        std::cout << \"Standard exception: \" << e.what() << std::endl;\n",
    "    } catch (...) {\n",
    "        // Catch any other types of exceptions\n",
    "        std::cout << \"An unexpected error occurred\" << std::endl;\n",
    "    }\n",
    "}\n",
    "\n",
    "main();"
   ]
  },
  {
   "cell_type": "code",
   "execution_count": 17,
   "metadata": {
    "vscode": {
     "languageId": "cpp"
    }
   },
   "outputs": [],
   "source": [
    "// #ifndef ___IntStack\n",
    "// #define ___IntStack\n",
    "\n",
    "#include <iostream>\n",
    "\n",
    "//--- 整数栈类 ---//\n",
    "class IntStack {\n",
    "\tint nelem;\t\t// 栈的容量（数组的元素个数）\n",
    "\tint* stk;\t\t// 指向第一个元素的指针\n",
    "\tint ptr;\t\t// 栈指针（当前积压的数据个数）\n",
    "\n",
    "public:\n",
    "\t//--- 显式构造函数 ---//\n",
    "\texplicit IntStack(int sz) : nelem(sz), ptr(0) { stk = new int[nelem]; }\n",
    "\n",
    "\tIntStack(const IntStack& x) {\t\t\t  //--- 复制构造函数 ---//\n",
    "\t\tnelem = x.nelem;\t\t\t\t\t\t// 使容量与x相同\n",
    "\t\tptr = x.ptr;\t\t\t\t\t\t\t// 初始化栈指针\n",
    "\t\tstk = new int[nelem];\t\t\t\t\t// 为数组主体分配空间\n",
    "\t\tfor (int i = 0; i < nelem; i++)\t\t\t// 复制所有元素\n",
    "\t\t\tstk[i] = x.stk[i];\n",
    "\t}\n",
    "\n",
    "\t~IntStack() { delete[] stk; }\t\t\t  //--- 析构函数 ---//\n",
    "\n",
    "\tint size() const { return nelem; }\t\t  //--- 返回容量 ---//\n",
    "\n",
    "\tbool empty() const { return ptr == 0; }\t  //--- 栈为空？ ---//\n",
    "\n",
    "\tIntStack& operator=(const IntStack& x) {  //--- 赋值运算符= ---//\n",
    "\t\tif (&x != this) {\t\t\t\t\t\t// 如果赋值源不是自己……\n",
    "\t\t\tif (nelem != x.nelem) {\t\t\t\t// 如果赋值前后的元素个数不同……\n",
    "\t\t\t\tdelete[] stk;\t\t\t\t\t// 释放原本分配的空间\n",
    "\t\t\t\tnelem = x.nelem;\t\t\t\t// 新的容量\n",
    "\t\t\t\tptr = x.ptr;\t\t\t\t\t// 新的栈指针\n",
    "\t\t\t\tstk = new int[nelem];\t\t\t// 重新分配空间\n",
    "\t\t\t}\n",
    "\t\t\tfor (int i = 0; i < ptr; i++)\t\t// 复制积压的元素\n",
    "\t\t\t\tstk[i] = x.stk[i];\n",
    "\t\t}\n",
    "\t\treturn *this;\n",
    "\t}\n",
    "\n",
    "\t//--- 压栈：向末尾压入数据 ---//\n",
    "\tvoid push(int x) { if (ptr < nelem) stk[ptr++] = x; }\n",
    "\n",
    "\t//--- 出栈：从末尾取出积压的数据 ---//\n",
    "\tint pop() { if (ptr > 0) return stk[--ptr]; else throw 1; }\n",
    "};\n",
    "\n",
    "// #endif\n"
   ]
  },
  {
   "cell_type": "code",
   "execution_count": 18,
   "metadata": {
    "vscode": {
     "languageId": "cpp"
    }
   },
   "outputs": [],
   "source": [
    "using namespace std; // "
   ]
  },
  {
   "cell_type": "code",
   "execution_count": 21,
   "metadata": {
    "vscode": {
     "languageId": "cpp"
    }
   },
   "outputs": [
    {
     "name": "stdout",
     "output_type": "stream",
     "text": [
      "取出栈s3积压的所有数据。\n",
      "99\n",
      "88\n",
      "31\n",
      "15\n"
     ]
    }
   ],
   "source": [
    "#include <iostream>\n",
    "// #include \"IntStack.h\"\n",
    "\n",
    "\n",
    "\n",
    "int main()\n",
    "{\n",
    "\tIntStack s1(5);\t\t// 容量为5的栈\n",
    "\ts1.push(15);\t\t// s1 = {15}\n",
    "\ts1.push(31);\t\t// s1 = {15, 31}\n",
    "\n",
    "\tIntStack s2(1);\t\t// 容量为1的栈\n",
    "\ts2 = s1;\t\t\t// 把s1复制到s2（s2的容量变为5）\n",
    "\ts2.push(88);\t\t// s2 = {15, 31, 88}\n",
    "\n",
    "\tIntStack s3 = s2;\t// s3为s2的副本\n",
    "\ts3.push(99);\t\t// s3 = {15, 31, 88, 99}\n",
    "\n",
    "\tcout << \"取出栈s3积压的所有数据。\\n\";\n",
    "\twhile (!s3.empty())\t\t\t\t\t// 不为空期间\n",
    "\t\tcout << s3.pop() << '\\n';\t\t// 出栈并显示\n",
    "}\n",
    "\n",
    "main();"
   ]
  }
 ],
 "metadata": {
  "kernelspec": {
   "display_name": "C++17",
   "language": "C++17",
   "name": "xcpp17"
  },
  "language_info": {
   "codemirror_mode": "text/x-c++src",
   "file_extension": ".cpp",
   "mimetype": "text/x-c++src",
   "name": "c++",
   "version": "17"
  }
 },
 "nbformat": 4,
 "nbformat_minor": 2
}
