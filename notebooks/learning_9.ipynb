{
 "cells": [
  {
   "cell_type": "markdown",
   "metadata": {},
   "source": [
    "# 函数的应用"
   ]
  },
  {
   "cell_type": "markdown",
   "metadata": {},
   "source": [
    "## 函数模板"
   ]
  },
  {
   "cell_type": "code",
   "execution_count": 1,
   "metadata": {
    "vscode": {
     "languageId": "cpp"
    }
   },
   "outputs": [],
   "source": [
    "#include <iostream>\n",
    "\n",
    "using namespace std;\n"
   ]
  },
  {
   "cell_type": "code",
   "execution_count": 2,
   "metadata": {
    "vscode": {
     "languageId": "cpp"
    }
   },
   "outputs": [],
   "source": [
    "// 求数组的最大值（函数模板版）\n",
    "\n",
    "template <typename T>\n",
    "T maxof(T a[], int n) {\n",
    "    T max = a[0];\n",
    "    for (int i = 1; i < n; i++) {\n",
    "        if (a[i] > max) {\n",
    "            max = a[i];\n",
    "        }\n",
    "    }\n",
    "    return max;\n",
    "}"
   ]
  },
  {
   "cell_type": "code",
   "execution_count": 3,
   "metadata": {
    "vscode": {
     "languageId": "cpp"
    }
   },
   "outputs": [
    {
     "name": "stdout",
     "output_type": "stream",
     "text": [
      "max of a: 13\n",
      "max of b: 6.3\n"
     ]
    }
   ],
   "source": [
    "int main() {\n",
    "    int a[] = {1, 2, 13, 4, 5};\n",
    "    double b[] = {1.1, 2.2, 6.3, 4.4, 5.5};\n",
    "    cout << \"max of a: \" << maxof(a, 5) << endl;\n",
    "    cout << \"max of b: \" << maxof(b, 5) << endl;\n",
    "    return 0;\n",
    "}\n",
    "\n",
    "main();"
   ]
  },
  {
   "cell_type": "code",
   "execution_count": 4,
   "metadata": {
    "vscode": {
     "languageId": "cpp"
    }
   },
   "outputs": [],
   "source": [
    "// 显式实例化求两个值中的较大值的函数模板\n",
    "template  <typename T>\n",
    "T maxof2(T a, T b) {\n",
    "    return a > b ? a : b;\n",
    "}"
   ]
  },
  {
   "cell_type": "code",
   "execution_count": 5,
   "metadata": {
    "vscode": {
     "languageId": "cpp"
    }
   },
   "outputs": [
    {
     "data": {
      "text/plain": [
       "2.0000000"
      ]
     },
     "execution_count": 5,
     "metadata": {},
     "output_type": "execute_result"
    }
   ],
   "source": [
    "maxof2<double>(1.5, 2)"
   ]
  },
  {
   "cell_type": "code",
   "execution_count": 6,
   "metadata": {
    "vscode": {
     "languageId": "cpp"
    }
   },
   "outputs": [],
   "source": [
    "// maxof2(1.5, 2) // 注意：候选模板被忽略：推断出参数'T'的类型冲突（'double'与'int'）。"
   ]
  },
  {
   "cell_type": "code",
   "execution_count": 7,
   "metadata": {
    "vscode": {
     "languageId": "cpp"
    }
   },
   "outputs": [],
   "source": [
    "// //分开调用求两个值中的较大值的函数模板和函数\n",
    "\n",
    "// //--- 普通函数（注意：为了验证程序的行为，返回较小值）---//\n",
    "// int maxof2(int a, int b) {\n",
    "//     return a < b ? a : b;\n",
    "// }\n",
    "\n",
    "// //--- 函数模板 ---//\n",
    "// template <typename T>\n",
    "// T maxof2(T a, T b) {\n",
    "//     return a > b ? a : b;\n",
    "// }"
   ]
  },
  {
   "cell_type": "code",
   "execution_count": 8,
   "metadata": {
    "vscode": {
     "languageId": "cpp"
    }
   },
   "outputs": [],
   "source": [
    "// cout << maxof2(1, 2) << endl; // 调用普通函数\n",
    "// cout << maxof2<double>(1, 2) << endl; // 调用函数模板\n",
    "// cout << maxof2<>(1, 2) << endl; // 调用函数模板"
   ]
  },
  {
   "cell_type": "code",
   "execution_count": 9,
   "metadata": {
    "vscode": {
     "languageId": "cpp"
    }
   },
   "outputs": [],
   "source": [
    "// 显式特例化求两个值中的较大值的函数模板\n",
    "#include <cstring>\n",
    "//--- 函数模板 ---//\n",
    "template <>\n",
    "const char* maxof2<const char*>(const char* a, const char* b) {\n",
    "    return strcmp(a, b) > 0 ? a : b;\n",
    "}\n",
    "\n"
   ]
  },
  {
   "cell_type": "code",
   "execution_count": 10,
   "metadata": {
    "vscode": {
     "languageId": "cpp"
    }
   },
   "outputs": [
    {
     "name": "stdout",
     "output_type": "stream",
     "text": [
      "2\n",
      "DEF\n",
      "DEG\n"
     ]
    },
    {
     "data": {
      "text/plain": [
       "@0x715c27ca2de0"
      ]
     },
     "execution_count": 10,
     "metadata": {},
     "output_type": "execute_result"
    }
   ],
   "source": [
    "int a = 1;\n",
    "int b = 2;\n",
    "cout << maxof2(a, b) << endl; // 调用函数模板\n",
    "\n",
    "char c[] = \"ABC\";\n",
    "char d[] = \"DEF\";\n",
    "\n",
    "cout << maxof2<const char*>(c, d) << endl; // 调用特例化的函数模板\n",
    "cout << maxof2<const char*>(d, \"DEG\") << endl; // 调用特例化的函数模板"
   ]
  },
  {
   "cell_type": "code",
   "execution_count": 11,
   "metadata": {
    "vscode": {
     "languageId": "cpp"
    }
   },
   "outputs": [
    {
     "name": "stdout",
     "output_type": "stream",
     "text": [
      "XYZ\n",
      "XZZ\n"
     ]
    },
    {
     "data": {
      "text/plain": [
       "@0x715c27ca2de0"
      ]
     },
     "execution_count": 11,
     "metadata": {},
     "output_type": "execute_result"
    }
   ],
   "source": [
    "cout << maxof2(\"XYZ\", \"ABC\") << endl; // 调用特例化的函数模板, 推断出参数类型为const char*\n",
    "cout << maxof2(\"XYZ\", \"XZZ\") << endl; // 调用特例化的函数模板, 推断出参数类型为const char*"
   ]
  },
  {
   "cell_type": "markdown",
   "metadata": {},
   "source": [
    "## 大规模程序的开发"
   ]
  },
  {
   "cell_type": "markdown",
   "metadata": {},
   "source": [
    "如果你有两个源文件名分别为 `list0905.cpp` 和 `list0906.cpp`，你可以按照以下步骤来编译和链接这些文件：\n",
    "\n",
    "### 文件内容安排\n",
    "\n",
    "**list0905.cpp** - 应该包含 `power` 函数的定义。\n",
    "```cpp\n",
    "// list0905.cpp\n",
    "\n",
    "double power(double x, int n)\n",
    "{\n",
    "    double tmp = 1.0;\n",
    "\n",
    "    for (int i = 1; i <= n; i++)\n",
    "        tmp *= x;    // tmp乘以x\n",
    "    return tmp;\n",
    "}\n",
    "```\n",
    "\n",
    "**list0906.cpp** - 应该包含 `main` 函数和对 `power` 函数的调用。\n",
    "```cpp\n",
    "// list0906.cpp\n",
    "\n",
    "#include <iostream>\n",
    "using namespace std;\n",
    "\n",
    "double power(double x, int n); // 函数声明\n",
    "\n",
    "int main()\n",
    "{\n",
    "    double a;\n",
    "    int b;\n",
    "\n",
    "    cout << \"计算a的b次方。\\n\";\n",
    "    cout << \"实数a：\"; cin >> a;\n",
    "    cout << \"整数b：\"; cin >> b;\n",
    "    cout << a << \"的\" << b << \"次方为\" << power(a, b) << \"。\\n\";\n",
    "}\n",
    "```\n",
    "\n",
    "### 编译源文件\n",
    "\n",
    "使用 g++ 或任何其他C++编译器分别编译这两个文件：\n",
    "\n",
    "```bash\n",
    "g++ -c list0905.cpp\n",
    "g++ -c list0906.cpp\n",
    "```\n",
    "\n",
    "这将生成两个对象文件：`list0905.o` 和 `list0906.o`。\n",
    "\n",
    "### 链接对象文件\n",
    "\n",
    "将这些对象文件链接成一个可执行文件：\n",
    "\n",
    "```bash\n",
    "g++ list0906.o list0905.o -o program\n",
    "```\n",
    "\n",
    "这里命令中的 `-o program` 指定输出的可执行文件名为 `program`。\n",
    "\n",
    "### 运行程序\n",
    "\n",
    "完成编译和链接后，你可以通过以下命令运行你的程序：\n",
    "\n",
    "```bash\n",
    "./program\n",
    "```\n",
    "\n",
    "这将执行程序，要求用户输入值 `a` 和 `b` 并计算 `a` 的 `b` 次幂。\n",
    "\n",
    "确保你的开发环境中已经安装了相应的C++编译器，如GCC或Clang。这些步骤在包括Windows、MacOS和Linux在内的多数操作系统中是通用的。在Windows上，你可能需要使用命令提示符或PowerShell，并确保编译器路径已经添加到系统环境变量中。"
   ]
  },
  {
   "cell_type": "code",
   "execution_count": null,
   "metadata": {
    "vscode": {
     "languageId": "cpp"
    }
   },
   "outputs": [],
   "source": []
  }
 ],
 "metadata": {
  "kernelspec": {
   "display_name": "C++17",
   "language": "C++17",
   "name": "xcpp17"
  },
  "language_info": {
   "codemirror_mode": "text/x-c++src",
   "file_extension": ".cpp",
   "mimetype": "text/x-c++src",
   "name": "C++17",
   "version": "17"
  }
 },
 "nbformat": 4,
 "nbformat_minor": 2
}
