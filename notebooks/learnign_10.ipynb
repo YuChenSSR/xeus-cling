{
 "cells": [
  {
   "cell_type": "markdown",
   "metadata": {},
   "source": [
    "# 类"
   ]
  },
  {
   "cell_type": "markdown",
   "metadata": {},
   "source": [
    "## 类的思想"
   ]
  },
  {
   "cell_type": "code",
   "execution_count": 1,
   "metadata": {
    "vscode": {
     "languageId": "cpp"
    }
   },
   "outputs": [],
   "source": [
    "// 李阳和周燕的银行账户\n",
    "\n",
    "#include <string>\n",
    "#include <iostream>\n",
    "\n",
    "using namespace std;\n"
   ]
  },
  {
   "cell_type": "code",
   "execution_count": 2,
   "metadata": {
    "vscode": {
     "languageId": "cpp"
    }
   },
   "outputs": [
    {
     "name": "stdout",
     "output_type": "stream",
     "text": [
      "李阳的账户：\"李阳\" (12345678) 800元\n",
      "周燕的账户：\"周燕\" (87654321) 300元\n"
     ]
    },
    {
     "data": {
      "text/plain": [
       "0"
      ]
     },
     "execution_count": 2,
     "metadata": {},
     "output_type": "execute_result"
    }
   ],
   "source": [
    "\n",
    "int main()\n",
    "{\n",
    "\tstring liyang_name    = \"李阳\";\t\t    // 李阳的账户名称\n",
    "\tstring liyang_number  = \"12345678\";\t\t// 李阳的账号\n",
    "\tlong   liyang_balance = 1000;\t\t\t// 李阳的账户余额\n",
    "\n",
    "\tstring zhouyan_name    = \"周燕\";\t\t    // 周燕的账户名称\n",
    "\tstring zhouyan_number  = \"87654321\";\t// 周燕的账号\n",
    "\tlong   zhouyan_balance = 200;\t\t\t// 周燕的账户余额\n",
    "\n",
    "\tliyang_balance -= 200;\t\t\t\t\t// 李阳取出200元\n",
    "\tzhouyan_balance += 100;\t\t\t\t\t// 周燕存入100元\n",
    "\n",
    "\tcout << \"李阳的账户：\\\"\" << liyang_name << \"\\\" (\" << liyang_number\n",
    "\t\t << \") \" << liyang_balance << \"元\\n\";\n",
    "\n",
    "\tcout << \"周燕的账户：\\\"\" << zhouyan_name << \"\\\" (\" << zhouyan_number\n",
    "\t\t << \") \" << zhouyan_balance << \"元\\n\";\n",
    "}\n",
    "\n",
    "main()"
   ]
  },
  {
   "cell_type": "code",
   "execution_count": 3,
   "metadata": {
    "vscode": {
     "languageId": "cpp"
    }
   },
   "outputs": [],
   "source": [
    "// // 使用类 , 李阳和周燕的银行账户\n",
    "\n",
    "// class Account{\n",
    "// public:\n",
    "//     string name;\n",
    "//     string number;\n",
    "//     long balance;\n",
    "// };\n",
    "\n"
   ]
  },
  {
   "cell_type": "code",
   "execution_count": 4,
   "metadata": {
    "vscode": {
     "languageId": "cpp"
    }
   },
   "outputs": [],
   "source": [
    "// int main()\n",
    "// {\n",
    "//     Account liyang;\t\t// 李阳的账户\n",
    "//     liyang.name = \"李阳\";\n",
    "//     liyang.number = \"12345678\";\n",
    "//     liyang.balance = 1000;\n",
    "\n",
    "//     Account zhouyan;\t// 周燕的账户\n",
    "//     zhouyan.name = \"周燕\";\n",
    "//     zhouyan.number = \"87654321\";\n",
    "//     zhouyan.balance = 200;\n",
    "\n",
    "//     liyang.balance -= 200;\t// 李阳取出200元\n",
    "//     zhouyan.balance += 100;\t// 周燕存入100元\n",
    "\n",
    "//     cout << \"李阳的账户：\\\"\" << liyang.name << \"\\\" (\" << liyang.number\n",
    "//          << \") \" << liyang.balance << \"元\\n\";\n",
    "\n",
    "//     cout << \"周燕的账户：\\\"\" << zhouyan.name << \"\\\" (\" << zhouyan.number\n",
    "//          << \") \" << zhouyan.balance << \"元\\n\";\n",
    "// }\n",
    "\n",
    "// main()\n",
    "\n"
   ]
  },
  {
   "cell_type": "code",
   "execution_count": 5,
   "metadata": {
    "vscode": {
     "languageId": "cpp"
    }
   },
   "outputs": [],
   "source": [
    "// 类改进\n",
    "\n",
    "\n",
    "\n",
    "class Account {\n",
    "private:\n",
    "    string name;    // 账户名称\n",
    "    string number;  // 账号\n",
    "    long balance;   // 账户余额\n",
    "\n",
    "public:\n",
    "    // 构造函数\n",
    "    Account(string name, string number, long balance) : name(name), number(number), balance(balance) {}\n",
    "\n",
    "    // getter 和 setter 方法\n",
    "    string getName() { return name; }\n",
    "    void setName(string name) { this->name = name; }\n",
    "\n",
    "    string getNumber() { return number; }\n",
    "    void setNumber(string number) { this->number = number; }\n",
    "\n",
    "    long getBalance() { return balance; }\n",
    "    void setBalance(long balance) { this->balance = balance; }\n",
    "\n",
    "    // 存款方法\n",
    "    void deposit(long amount) {\n",
    "        if (amount > 0) {\n",
    "            balance += amount;\n",
    "        }\n",
    "    }\n",
    "\n",
    "    // 取款方法\n",
    "    bool withdraw(long amount) {\n",
    "        if (amount > 0 && balance >= amount) {\n",
    "            balance -= amount;\n",
    "            return true;\n",
    "        }\n",
    "        return false;\n",
    "    }\n",
    "};"
   ]
  },
  {
   "cell_type": "code",
   "execution_count": 6,
   "metadata": {
    "vscode": {
     "languageId": "cpp"
    }
   },
   "outputs": [
    {
     "name": "stdout",
     "output_type": "stream",
     "text": [
      "李阳's account number is 123456 with balance 10000\n",
      "周燕's account number is 789012 with balance 20000\n",
      "李阳取款200元成功\n",
      "李阳's account balance is 9800\n",
      "周燕's account balance is 20100\n"
     ]
    },
    {
     "data": {
      "text/plain": [
       "0"
      ]
     },
     "execution_count": 6,
     "metadata": {},
     "output_type": "execute_result"
    }
   ],
   "source": [
    "\n",
    "\n",
    "int main()\n",
    "{\n",
    "    Account liyang(\"李阳\", \"123456\", 10000);    // 创建李阳的账户\n",
    "    Account zhouyan(\"周燕\", \"789012\", 20000);   // 创建周燕的账户\n",
    "\n",
    "    // 使用 getter 方法获取账户信息\n",
    "    cout << liyang.getName() << \"'s account number is \" << liyang.getNumber() << \" with balance \" << liyang.getBalance() << endl;\n",
    "    cout << zhouyan.getName() << \"'s account number is \" << zhouyan.getNumber() << \" with balance \" << zhouyan.getBalance() << endl;\n",
    "\n",
    "\n",
    "    // 李阳取款200元\n",
    "    if (liyang.withdraw(200)) {\n",
    "        cout << \"李阳取款200元成功\\n\";\n",
    "    } else {\n",
    "        cout << \"李阳取款200元失败\\n\";\n",
    "    }\n",
    "    cout << liyang.getName() << \"'s account balance is \" << liyang.getBalance() << endl;\n",
    "    \n",
    "    // 周燕存款100元\n",
    "    zhouyan.deposit(100);\n",
    "    cout << zhouyan.getName() << \"'s account balance is \" << zhouyan.getBalance() << endl;\n",
    "}\n",
    "\n",
    "main()"
   ]
  },
  {
   "cell_type": "code",
   "execution_count": 7,
   "metadata": {
    "vscode": {
     "languageId": "cpp"
    }
   },
   "outputs": [],
   "source": [
    "// 在 C++ 中，如何在类的成员函数中返回当前对象的引用？"
   ]
  },
  {
   "cell_type": "code",
   "execution_count": 8,
   "metadata": {
    "vscode": {
     "languageId": "cpp"
    }
   },
   "outputs": [],
   "source": [
    "class MyClass {\n",
    "private:\n",
    "    int value;\n",
    "public:\n",
    "    MyClass(int v) : value(v) {}\n",
    "    MyClass& setValue(int v) {\n",
    "        value = v;\n",
    "        return *this;\n",
    "    }\n",
    "    int getValue() {\n",
    "        return value;\n",
    "    }\n",
    "};"
   ]
  },
  {
   "cell_type": "code",
   "execution_count": 9,
   "metadata": {
    "vscode": {
     "languageId": "cpp"
    }
   },
   "outputs": [
    {
     "name": "stdout",
     "output_type": "stream",
     "text": [
      "2\n"
     ]
    },
    {
     "data": {
      "text/plain": [
       "@0x7dd3acaa5de0"
      ]
     },
     "execution_count": 9,
     "metadata": {},
     "output_type": "execute_result"
    }
   ],
   "source": [
    "MyClass obj(0);\n",
    "obj.setValue(1).setValue(2);\n",
    "\n",
    "cout << obj.getValue() << endl;  // 输出 2"
   ]
  },
  {
   "cell_type": "code",
   "execution_count": 10,
   "metadata": {
    "vscode": {
     "languageId": "cpp"
    }
   },
   "outputs": [],
   "source": [
    "// namespace A {\n",
    "//     int B;\n",
    "// }\n",
    "\n",
    "// int main() {\n",
    "//     A::B = 10;  // 通常的写法\n",
    "//     cout << A::B << endl;\n",
    "//     A :: B = 20;  // 添加了空格，但仍然是合法的\n",
    "//     cout << A::B << endl;\n",
    "//     return 0;\n",
    "// }\n"
   ]
  },
  {
   "cell_type": "code",
   "execution_count": 11,
   "metadata": {
    "vscode": {
     "languageId": "cpp"
    }
   },
   "outputs": [
    {
     "name": "stdout",
     "output_type": "stream",
     "text": [
      "李阳's account number is 123456 with balance 10000\n",
      "周燕's account number is 789012 with balance 20000\n",
      "李阳取款200元成功\n",
      "李阳's account balance is 9800\n",
      "周燕's account balance is 20100\n"
     ]
    },
    {
     "data": {
      "text/plain": [
       "0"
      ]
     },
     "execution_count": 11,
     "metadata": {},
     "output_type": "execute_result"
    }
   ],
   "source": [
    "main()"
   ]
  },
  {
   "cell_type": "code",
   "execution_count": 12,
   "metadata": {
    "vscode": {
     "languageId": "cpp"
    }
   },
   "outputs": [],
   "source": [
    "//银行账户类（分离成员函数的定义）及类的使用例程\n",
    "\n",
    "#include <iostream>\n",
    "#include <string>\n",
    "\n",
    "using namespace std;"
   ]
  },
  {
   "cell_type": "code",
   "execution_count": 13,
   "metadata": {
    "vscode": {
     "languageId": "cpp"
    }
   },
   "outputs": [],
   "source": [
    "\n",
    "// class Account {\n",
    "// private:\n",
    "//     string name;    // 账户名称\n",
    "//     string number;  // 账号\n",
    "//     long balance;   // 账户余额\n",
    "\n",
    "// public:\n",
    "//     // 构造函数\n",
    "//     Account(string name, string number, long balance);\n",
    "\n",
    "//     // getter 和 setter 方法\n",
    "//     string getName();\n",
    "//     void setName(string name);\n",
    "\n",
    "//     string getNumber();\n",
    "//     void setNumber(string number);\n",
    "\n",
    "//     long getBalance();\n",
    "//     void setBalance(long balance);\n",
    "\n",
    "//     // 存款方法\n",
    "//     void deposit(long amount);\n",
    "\n",
    "//     // 取款方法\n",
    "//     bool withdraw(long amount);\n",
    "// };"
   ]
  },
  {
   "cell_type": "code",
   "execution_count": 14,
   "metadata": {
    "vscode": {
     "languageId": "cpp"
    }
   },
   "outputs": [],
   "source": [
    "\n",
    "// // 构造函数\n",
    "// Account::Account(string name, string number, long balance) : name(name), number(number), balance(balance) {}\n",
    "\n",
    "// // getter 和 setter 方法\n",
    "// string Account::getName() { return name; }\n",
    "// void Account::setName(string name) { this->name = name; }\n",
    "\n",
    "// string Account::getNumber() { return number; }\n",
    "// void Account::setNumber(string number) { this->number = number; }\n",
    "\n",
    "// long Account::getBalance() { return balance; }\n",
    "// void Account::setBalance(long balance) { this->balance = balance; }\n",
    "\n",
    "// // 存款方法\n",
    "// void Account::deposit(long amount) {\n",
    "//     if (amount > 0) {\n",
    "//         balance += amount;\n",
    "//     }\n",
    "// }\n",
    "\n",
    "// // 取款方法\n",
    "// bool Account::withdraw(long amount) {\n",
    "//     if (amount > 0 && balance >= amount) {\n",
    "//         balance -= amount;\n",
    "//         return true;\n",
    "//     }\n",
    "//     return false;\n",
    "// }"
   ]
  },
  {
   "cell_type": "code",
   "execution_count": 15,
   "metadata": {
    "vscode": {
     "languageId": "cpp"
    }
   },
   "outputs": [],
   "source": [
    "// 汽车类\n",
    "\n",
    "#include <iostream>\n",
    "#include <string>\n",
    "#include <cmath>\n"
   ]
  },
  {
   "cell_type": "code",
   "execution_count": 16,
   "metadata": {
    "vscode": {
     "languageId": "cpp"
    }
   },
   "outputs": [],
   "source": [
    "\n",
    "class Car {\n",
    "    std::string name;\n",
    "    int width, height, length;\n",
    "    double _x, _y;    \n",
    "    double fuel;\n",
    "public:\n",
    "    Car(std::string name, int width, int height, int length, double fuel){\n",
    "        this->name = name;\n",
    "        this->width = width;\n",
    "        this->height = height;\n",
    "        this->length = length;\n",
    "        this->fuel = fuel;\n",
    "        _x = _y = 0.0;\n",
    "    }\n",
    "\n",
    "    double x() { return _x; }\n",
    "    double y() { return _y; }\n",
    "    double getFuel() { return fuel; }\n",
    "\n",
    "    void putSpec(){\n",
    "        std::cout << \"名称：\" << name << std::endl;\n",
    "        std::cout << \"宽度：\" << width << \"mm\" << std::endl;\n",
    "        std::cout << \"高度：\" << height << \"mm\" << std::endl;\n",
    "        std::cout << \"长度：\" << length << \"mm\" << std::endl;\n",
    "    }\n",
    "    bool move(double dx, double dy){\n",
    "        double dist = sqrt(dx * dx + dy * dy);\n",
    "        if (dist > fuel){\n",
    "            return false;\n",
    "        } else {\n",
    "            fuel -= dist;\n",
    "            _x += dx;\n",
    "            _y += dy;\n",
    "            return true;\n",
    "        }\n",
    "    }\n",
    "\n",
    "};"
   ]
  },
  {
   "cell_type": "code",
   "execution_count": 17,
   "metadata": {
    "vscode": {
     "languageId": "cpp"
    }
   },
   "outputs": [
    {
     "name": "stdout",
     "output_type": "stream",
     "text": [
      "名称：mycar\n",
      "宽度：1885mm\n",
      "高度：1490mm\n",
      "长度：5220mm\n",
      "当前位置：(10, 20)\n",
      "剩余燃料：67.6393L\n"
     ]
    },
    {
     "data": {
      "text/plain": [
       "0"
      ]
     },
     "execution_count": 17,
     "metadata": {},
     "output_type": "execute_result"
    }
   ],
   "source": [
    "// 汽车类的使用\n",
    "\n",
    "int main(){\n",
    "    Car mycar(\"mycar\", 1885, 1490, 5220, 90.0);\n",
    "    mycar.putSpec();\n",
    "    mycar.move(10.0, 20.0);\n",
    "    std::cout << \"当前位置：(\" << mycar.x() << \", \" << mycar.y() << \")\" << std::endl;\n",
    "    std::cout << \"剩余燃料：\" << mycar.getFuel() << \"L\" << std::endl;\n",
    "}\n",
    "main()"
   ]
  },
  {
   "cell_type": "code",
   "execution_count": null,
   "metadata": {
    "vscode": {
     "languageId": "cpp"
    }
   },
   "outputs": [],
   "source": []
  }
 ],
 "metadata": {
  "kernelspec": {
   "display_name": "C++17",
   "language": "C++17",
   "name": "xcpp17"
  },
  "language_info": {
   "codemirror_mode": "text/x-c++src",
   "file_extension": ".cpp",
   "mimetype": "text/x-c++src",
   "name": "C++17",
   "version": "17"
  }
 },
 "nbformat": 4,
 "nbformat_minor": 2
}
