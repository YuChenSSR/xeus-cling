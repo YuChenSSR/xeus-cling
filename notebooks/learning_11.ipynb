{
 "cells": [
  {
   "cell_type": "markdown",
   "metadata": {},
   "source": [
    "# 简单类的创建"
   ]
  },
  {
   "cell_type": "markdown",
   "metadata": {},
   "source": [
    "## 日期类的创建"
   ]
  },
  {
   "cell_type": "code",
   "execution_count": 1,
   "metadata": {
    "vscode": {
     "languageId": "cpp"
    }
   },
   "outputs": [],
   "source": [
    "#include <iostream>"
   ]
  },
  {
   "cell_type": "code",
   "execution_count": 2,
   "metadata": {
    "vscode": {
     "languageId": "cpp"
    }
   },
   "outputs": [],
   "source": [
    "using namespace std;"
   ]
  },
  {
   "cell_type": "code",
   "execution_count": 3,
   "metadata": {
    "vscode": {
     "languageId": "cpp"
    }
   },
   "outputs": [],
   "source": [
    "class Date{\n",
    "    int y;\n",
    "    int m;\n",
    "    int d;\n",
    "public:\n",
    "    Date(int yy, int mm, int dd); // constructor声明\n",
    "    int year() { return y; }\n",
    "    int month() { return m; }\n",
    "    int day() { return d; }\n",
    "};"
   ]
  },
  {
   "cell_type": "code",
   "execution_count": 4,
   "metadata": {
    "vscode": {
     "languageId": "cpp"
    }
   },
   "outputs": [],
   "source": [
    "//---构造函数---//\n",
    "Date::Date(int yy, int mm, int dd){\n",
    "    y = yy;\n",
    "    m = mm;\n",
    "    d = dd;\n",
    "}"
   ]
  },
  {
   "cell_type": "code",
   "execution_count": 5,
   "metadata": {
    "vscode": {
     "languageId": "cpp"
    }
   },
   "outputs": [],
   "source": [
    "Date someday(2020, 10, 16); // 创建一个Date对象\n"
   ]
  },
  {
   "cell_type": "code",
   "execution_count": 6,
   "metadata": {
    "vscode": {
     "languageId": "cpp"
    }
   },
   "outputs": [
    {
     "name": "stdout",
     "output_type": "stream",
     "text": [
      "2020\n",
      "10\n",
      "16\n"
     ]
    },
    {
     "data": {
      "text/plain": [
       "@0x7db052f0fde0"
      ]
     },
     "execution_count": 6,
     "metadata": {},
     "output_type": "execute_result"
    }
   ],
   "source": [
    "cout << someday.year() << endl; // 2020\n",
    "cout << someday.month() << endl; // 10\n",
    "cout << someday.day() << endl; // 16"
   ]
  },
  {
   "cell_type": "code",
   "execution_count": 7,
   "metadata": {
    "vscode": {
     "languageId": "cpp"
    }
   },
   "outputs": [
    {
     "name": "stdout",
     "output_type": "stream",
     "text": [
      "2020\n",
      "10\n",
      "16\n",
      "2020\n",
      "10\n",
      "17\n"
     ]
    },
    {
     "data": {
      "text/plain": [
       "@0x7db052f0fde0"
      ]
     },
     "execution_count": 7,
     "metadata": {},
     "output_type": "execute_result"
    }
   ],
   "source": [
    "Date oneday = someday; // 复制构造函数\n",
    "cout << oneday.year() << endl; // 2020\n",
    "cout << oneday.month() << endl; // 10\n",
    "cout << oneday.day() << endl; // 16\n",
    "\n",
    "Date anotherday = Date(2020, 10, 17); // 创建一个Date对象 通过调用编译器创建的复制构造函数，把临时对象的所有数据成员复制到 anotherday 的数据成员。\n",
    "cout << anotherday.year() << endl; // 2020\n",
    "cout << anotherday.month() << endl; // 10\n",
    "cout << anotherday.day() << endl; // 17"
   ]
  },
  {
   "cell_type": "markdown",
   "metadata": {},
   "source": [
    "### 重载构造函数"
   ]
  },
  {
   "cell_type": "code",
   "execution_count": 8,
   "metadata": {
    "vscode": {
     "languageId": "cpp"
    }
   },
   "outputs": [],
   "source": [
    "class Date{\n",
    "    int y;\n",
    "    int m;\n",
    "    int d;\n",
    "public:\n",
    "    Date(); // constructor声明 默认构造函数\n",
    "    Date(int yy, int mm = 1, int dd = 1); // constructor声明\n",
    "    int year() { return y; }\n",
    "    int month() { return m; }\n",
    "    int day() { return d; }\n",
    "};"
   ]
  },
  {
   "cell_type": "code",
   "execution_count": 9,
   "metadata": {
    "vscode": {
     "languageId": "cpp"
    }
   },
   "outputs": [],
   "source": [
    "//---构造函数---//\n",
    "Date::Date(int yy, int mm, int dd){\n",
    "    y = yy;\n",
    "    m = mm;\n",
    "    d = dd;\n",
    "}"
   ]
  },
  {
   "cell_type": "code",
   "execution_count": 10,
   "metadata": {
    "vscode": {
     "languageId": "cpp"
    }
   },
   "outputs": [],
   "source": [
    "Date::Date(){\n",
    "    y = 2024;\n",
    "    m = 10;\n",
    "    d = 16;\n",
    "}"
   ]
  },
  {
   "cell_type": "code",
   "execution_count": 11,
   "metadata": {
    "vscode": {
     "languageId": "cpp"
    }
   },
   "outputs": [
    {
     "name": "stdout",
     "output_type": "stream",
     "text": [
      "2024\n",
      "10\n",
      "16\n"
     ]
    },
    {
     "data": {
      "text/plain": [
       "@0x7db052f0fde0"
      ]
     },
     "execution_count": 11,
     "metadata": {},
     "output_type": "execute_result"
    }
   ],
   "source": [
    "Date p;\n",
    "cout << p.year() << endl; //\n",
    "cout << p.month() << endl; // \n",
    "cout << p.day() << endl; // "
   ]
  },
  {
   "cell_type": "code",
   "execution_count": 12,
   "metadata": {
    "vscode": {
     "languageId": "cpp"
    }
   },
   "outputs": [
    {
     "name": "stdout",
     "output_type": "stream",
     "text": [
      "2020\n",
      "1\n",
      "1\n"
     ]
    },
    {
     "data": {
      "text/plain": [
       "@0x7db052f0fde0"
      ]
     },
     "execution_count": 12,
     "metadata": {},
     "output_type": "execute_result"
    }
   ],
   "source": [
    "Date q(2020);\n",
    "cout << q.year() << endl; // 2020\n",
    "cout << q.month() << endl; // 1\n",
    "cout << q.day() << endl; // 1"
   ]
  },
  {
   "cell_type": "code",
   "execution_count": 13,
   "metadata": {
    "vscode": {
     "languageId": "cpp"
    }
   },
   "outputs": [
    {
     "name": "stdout",
     "output_type": "stream",
     "text": [
      "2020\n",
      "10\n",
      "1\n"
     ]
    },
    {
     "data": {
      "text/plain": [
       "@0x7db052f0fde0"
      ]
     },
     "execution_count": 13,
     "metadata": {},
     "output_type": "execute_result"
    }
   ],
   "source": [
    "Date r(2020, 10);\n",
    "cout << r.year() << endl; // 2020\n",
    "cout << r.month() << endl; // 10\n",
    "cout << r.day() << endl; // 1"
   ]
  },
  {
   "cell_type": "code",
   "execution_count": 14,
   "metadata": {
    "vscode": {
     "languageId": "cpp"
    }
   },
   "outputs": [
    {
     "name": "stdout",
     "output_type": "stream",
     "text": [
      "2024\n",
      "5\n",
      "16\n"
     ]
    },
    {
     "data": {
      "text/plain": [
       "@0x7db052f0fde0"
      ]
     },
     "execution_count": 14,
     "metadata": {},
     "output_type": "execute_result"
    }
   ],
   "source": [
    "Date s(2024, 5, 16);\n",
    "cout << s.year() << endl; // 2024\n",
    "cout << s.month() << endl; // 5\n",
    "cout << s.day() << endl; // 16"
   ]
  },
  {
   "cell_type": "markdown",
   "metadata": {},
   "source": [
    "只用一个实参就可以调用的构造函数不仅可以使用 () 形式调用，还可以使用 = 形式调用。因此"
   ]
  },
  {
   "cell_type": "code",
   "execution_count": 15,
   "metadata": {
    "vscode": {
     "languageId": "cpp"
    }
   },
   "outputs": [
    {
     "name": "stdout",
     "output_type": "stream",
     "text": [
      "2020\n",
      "1\n",
      "1\n"
     ]
    },
    {
     "data": {
      "text/plain": [
       "@0x7db052f0fde0"
      ]
     },
     "execution_count": 15,
     "metadata": {},
     "output_type": "execute_result"
    }
   ],
   "source": [
    "Date q = 2020;\n",
    "cout << q.year() << endl; // 2020\n",
    "cout << q.month() << endl; // 1\n",
    "cout << q.day() << endl; // 1"
   ]
  },
  {
   "cell_type": "markdown",
   "metadata": {},
   "source": [
    "### 添加const"
   ]
  },
  {
   "cell_type": "code",
   "execution_count": 16,
   "metadata": {
    "vscode": {
     "languageId": "cpp"
    }
   },
   "outputs": [],
   "source": [
    "class Date{\n",
    "    int y;\n",
    "    int m;\n",
    "    int d;\n",
    "    mutable int counter;\n",
    "public:\n",
    "    Date(int yy, int mm, int dd); // constructor声明\n",
    "    int year() const { counter++; return y; }\n",
    "    int month() const { counter++; return m; }\n",
    "    int day() const { counter++; return d; }\n",
    "    int count() const { return counter; }\n",
    "};"
   ]
  },
  {
   "cell_type": "code",
   "execution_count": 17,
   "metadata": {
    "vscode": {
     "languageId": "cpp"
    }
   },
   "outputs": [],
   "source": [
    "//---构造函数---//\n",
    "Date::Date(int yy, int mm, int dd){\n",
    "    y = yy;\n",
    "    m = mm;\n",
    "    d = dd;\n",
    "    counter = 0;\n",
    "}"
   ]
  },
  {
   "cell_type": "code",
   "execution_count": 18,
   "metadata": {
    "vscode": {
     "languageId": "cpp"
    }
   },
   "outputs": [
    {
     "name": "stdout",
     "output_type": "stream",
     "text": [
      "2020\n",
      "10\n",
      "16\n",
      "3\n"
     ]
    },
    {
     "data": {
      "text/plain": [
       "@0x7db052f0fde0"
      ]
     },
     "execution_count": 18,
     "metadata": {},
     "output_type": "execute_result"
    }
   ],
   "source": [
    "const Date birthday(2020, 10, 16);\n",
    "cout << birthday.year() << endl; // 2020\n",
    "cout << birthday.month() << endl; // 10\n",
    "cout << birthday.day() << endl; // 16\n",
    "cout << birthday.count() << endl; // 3"
   ]
  },
  {
   "cell_type": "code",
   "execution_count": 19,
   "metadata": {
    "vscode": {
     "languageId": "cpp"
    }
   },
   "outputs": [],
   "source": [
    "#include <string>\n",
    "#include <iostream>\n",
    "\n",
    "class Date {\n",
    "\tint y;\t\t// 公历年\n",
    "\tint m;\t\t// 月\n",
    "\tint d;\t\t// 日\n",
    "\n",
    "public:\n",
    "\tDate();\t\t\t\t\t\t\t\t\t// 默认构造函数\n",
    "\tDate(int yy, int mm = 1, int dd = 1);\t// 构造函数\n",
    "\n",
    "\tint year()  const { return y; }\t\t// 返回年\n",
    "\tint month() const { return m; }\t\t// 返回月\n",
    "\tint day()   const { return d; }\t\t// 返回日\n",
    "\n",
    "\tDate preceding_day() const;\t\t\t// 返回前一天的日期（不支持闰年的处理）\n",
    "\n",
    "\tstd::string to_string() const;\t\t// 返回字符串表示\n",
    "};\n",
    "\n",
    "// std::ostream& operator<<(std::ostream& s, const Date& x);\t// 插入符\n",
    "// std::istream& operator>>(std::istream& s, Date& x);\t\t\t// 提取符"
   ]
  },
  {
   "cell_type": "code",
   "execution_count": 20,
   "metadata": {
    "vscode": {
     "languageId": "cpp"
    }
   },
   "outputs": [],
   "source": [
    "//--- Date 的默认构造函数（设置为当前日期） ---//\n",
    "\n",
    "#include <ctime>\n",
    "Date::Date(){\n",
    "    time_t current = time(0);\n",
    "    struct tm *local = localtime(&current);\n",
    "    y = local->tm_year + 1900;\n",
    "    m = local->tm_mon + 1;\n",
    "    d = local->tm_mday;\n",
    "}"
   ]
  },
  {
   "cell_type": "code",
   "execution_count": 21,
   "metadata": {
    "vscode": {
     "languageId": "cpp"
    }
   },
   "outputs": [],
   "source": [
    "//--- Date的构造函数（设置为指定的年、月、日）---//\n",
    "Date::Date(int yy, int mm, int dd)\n",
    "{\n",
    "\ty = yy;\n",
    "\tm = mm;\n",
    "\td = dd;\n",
    "}"
   ]
  },
  {
   "cell_type": "code",
   "execution_count": 22,
   "metadata": {
    "vscode": {
     "languageId": "cpp"
    }
   },
   "outputs": [],
   "source": [
    "//--- 返回前一天的日期（不支持闰年的处理）---//\n",
    "Date Date::preceding_day() const\n",
    "{\n",
    "\tint dmax[] = {31, 28, 31, 30, 31, 30, 31, 31, 30, 31, 30, 31};\n",
    "\tDate temp = *this;\t\t// 同一日期\n",
    "\n",
    "\tif (temp.d > 1)\n",
    "\t\ttemp.d--;\n",
    "\telse {\n",
    "\t\tif (--temp.m < 1) {\n",
    "\t\t\ttemp.y--;\n",
    "\t\t\ttemp.m = 12;\n",
    "\t\t}\n",
    "\t\ttemp.d = dmax[temp.m - 1];\n",
    "\t}\n",
    "\treturn temp;\n",
    "}"
   ]
  },
  {
   "cell_type": "code",
   "execution_count": 23,
   "metadata": {
    "vscode": {
     "languageId": "cpp"
    }
   },
   "outputs": [],
   "source": [
    "using namespace std;"
   ]
  },
  {
   "cell_type": "code",
   "execution_count": 24,
   "metadata": {
    "vscode": {
     "languageId": "cpp"
    }
   },
   "outputs": [],
   "source": [
    "//--- 返回字符串表示 ---//\n",
    "string Date::to_string() const\n",
    "{\n",
    "\tostringstream s;\n",
    "\ts << y << \"年\" << m << \"月\" << d << \"日\";\n",
    "\treturn s.str();\n",
    "}"
   ]
  },
  {
   "cell_type": "code",
   "execution_count": 25,
   "metadata": {
    "vscode": {
     "languageId": "cpp"
    }
   },
   "outputs": [],
   "source": [
    "#include <ctime>\n",
    "#include <sstream>\n",
    "#include <iostream>"
   ]
  },
  {
   "cell_type": "code",
   "execution_count": 26,
   "metadata": {
    "vscode": {
     "languageId": "cpp"
    }
   },
   "outputs": [],
   "source": [
    "// //--- 向输出流s插入x ---//\n",
    "// ostream& operator<<(ostream& s, const Date& x)\n",
    "// {\n",
    "// \treturn s << x.to_string();\n",
    "// }"
   ]
  },
  {
   "cell_type": "code",
   "execution_count": 27,
   "metadata": {
    "vscode": {
     "languageId": "cpp"
    }
   },
   "outputs": [],
   "source": [
    "// //--- 从输入流s提取日期并存入x ---//\n",
    "// istream& operator>>(istream& s, Date& x)\n",
    "// {\n",
    "// \tint yy, mm, dd;\n",
    "// \tchar ch;\n",
    "\n",
    "// \ts >> yy >> ch >> mm >> ch >> dd;\n",
    "// \tx = Date(yy, mm, dd);\n",
    "// \treturn s;\n",
    "// }"
   ]
  },
  {
   "cell_type": "code",
   "execution_count": 28,
   "metadata": {
    "vscode": {
     "languageId": "cpp"
    }
   },
   "outputs": [
    {
     "name": "stdout",
     "output_type": "stream",
     "text": [
      "2015年12月18日\n"
     ]
    }
   ],
   "source": [
    "string s = \"2015/12/18\";\n",
    "istringstream is(s);\n",
    "int y, m, d;\n",
    "char ch;\n",
    "is >> y >> ch >> m >> ch >> d;\n",
    "cout << y << \"年\" << m << \"月\" << d << \"日\" << endl; "
   ]
  },
  {
   "cell_type": "code",
   "execution_count": 29,
   "metadata": {
    "vscode": {
     "languageId": "cpp"
    }
   },
   "outputs": [],
   "source": [
    "// 显示当前日期和时间\n",
    "\n",
    "#include <ctime>\n",
    "#include <iostream>\n",
    "\n",
    "using namespace std;"
   ]
  },
  {
   "cell_type": "code",
   "execution_count": 30,
   "metadata": {
    "vscode": {
     "languageId": "cpp"
    }
   },
   "outputs": [
    {
     "name": "stdout",
     "output_type": "stream",
     "text": [
      "现在是2024年5月7日星期二12时20分14秒\n"
     ]
    }
   ],
   "source": [
    "time_t current = time(0);\n",
    "struct tm* local = localtime(&current);\n",
    "const char* wday_name[] = {\"星期日\", \"星期一\", \"星期二\", \"星期三\", \"星期四\", \"星期五\", \"星期六\"};\n",
    "// char wday_name[][8] = {\"星期日\", \"星期一\", \"星期二\", \"星期三\", \"星期四\", \"星期五\", \"星期六\"};//error: initializer-string for char array is too long\n",
    "\n",
    "cout << \"现在是\" << local->tm_year + 1900 << \"年\"\n",
    "     << local->tm_mon + 1 << \"月\"\n",
    "     << local->tm_mday << \"日\"\n",
    "     << wday_name[local->tm_wday]\n",
    "     << local->tm_hour << \"时\"\n",
    "     << local->tm_min << \"分\"\n",
    "     << local->tm_sec << \"秒\" << endl;\n"
   ]
  },
  {
   "cell_type": "code",
   "execution_count": 31,
   "metadata": {
    "vscode": {
     "languageId": "cpp"
    }
   },
   "outputs": [
    {
     "name": "stdout",
     "output_type": "stream",
     "text": [
      "0\n"
     ]
    },
    {
     "data": {
      "text/plain": [
       "@0x7db052f0fde0"
      ]
     },
     "execution_count": 31,
     "metadata": {},
     "output_type": "execute_result"
    }
   ],
   "source": [
    "cout << local->tm_isdst << endl; // 0 时区信息"
   ]
  },
  {
   "cell_type": "markdown",
   "metadata": {},
   "source": [
    "这段代码的主要目的是打印出当前时间的夏令时状态。\n",
    "\n",
    "在这里，`local`是一个指向`struct tm`类型的指针，它包含了关于日期和时间的各种信息。其中，`tm_isdst`字段表示当前时间是否处于夏令时。\n",
    "\n",
    "`tm_isdst`字段的值通常为以下三种之一：\n",
    "- 如果值为正（如1），则表示当前处于夏令时。\n",
    "- 如果值为0，则表示当前不处于夏令时。\n",
    "- 如果值为负（如-1），则表示信息不可用。\n",
    "\n",
    "因此，`cout << local->tm_isdst << endl;`这行代码会打印出当前时间的夏令时状态。如果打印出的值为0，那么就表示当前不处于夏令时。"
   ]
  },
  {
   "cell_type": "markdown",
   "metadata": {},
   "source": [
    "## 作为成员的类"
   ]
  },
  {
   "cell_type": "code",
   "execution_count": 32,
   "metadata": {
    "vscode": {
     "languageId": "cpp"
    }
   },
   "outputs": [],
   "source": [
    "// 确认构造函数初始化器的调用顺序\n",
    "\n",
    "class Int{\n",
    "    int v;\n",
    "public:\n",
    "    Int(int value) : v(value) { cout << v << endl; }\n",
    "    Int() : v(0) { cout << \"Int::Int()\" << endl; }\n",
    "    int value() const { return v; }\n",
    "};"
   ]
  },
  {
   "cell_type": "code",
   "execution_count": 33,
   "metadata": {
    "vscode": {
     "languageId": "cpp"
    }
   },
   "outputs": [],
   "source": [
    "class Abc{\n",
    "    Int a;\n",
    "    Int b;\n",
    "    Int c;\n",
    "\n",
    "public:\n",
    "    Abc(int x, int y, int z) : a(x), b(y), c(z) { cout << \"Abc::Abc(int, int, int)\" << endl; }\n",
    "    Abc() : a(0), b(0), c(0) { cout << \"Abc::Abc()\" << endl; }\n",
    "\n",
    "    Int get_a() const { return a; }\n",
    "    Int get_b() const { return b; }\n",
    "    Int get_c() const { return c; }\n",
    "};"
   ]
  },
  {
   "cell_type": "code",
   "execution_count": 34,
   "metadata": {
    "vscode": {
     "languageId": "cpp"
    }
   },
   "outputs": [
    {
     "name": "stdout",
     "output_type": "stream",
     "text": [
      "1\n",
      "2\n",
      "3\n",
      "Abc::Abc(int, int, int)\n",
      "1\n",
      "2\n",
      "3\n"
     ]
    }
   ],
   "source": [
    "Abc x(1, 2, 3);\n",
    "\n",
    "cout << x.get_a().value() << endl;\n",
    "cout << x.get_b().value() << endl;\n",
    "cout << x.get_c().value() << endl;\n"
   ]
  },
  {
   "cell_type": "markdown",
   "metadata": {},
   "source": [
    "### 结构体"
   ]
  },
  {
   "cell_type": "code",
   "execution_count": 35,
   "metadata": {
    "vscode": {
     "languageId": "cpp"
    }
   },
   "outputs": [],
   "source": [
    "struct date{\n",
    "    int y;\n",
    "    int m;\n",
    "    int d;\n",
    "};\n"
   ]
  },
  {
   "cell_type": "code",
   "execution_count": 36,
   "metadata": {
    "vscode": {
     "languageId": "cpp"
    }
   },
   "outputs": [],
   "source": [
    "struct date day;"
   ]
  },
  {
   "cell_type": "markdown",
   "metadata": {},
   "source": [
    "### 共用体"
   ]
  },
  {
   "cell_type": "code",
   "execution_count": 37,
   "metadata": {
    "vscode": {
     "languageId": "cpp"
    }
   },
   "outputs": [],
   "source": [
    "union xyz{\n",
    "    int x;\n",
    "    double y;\n",
    "    char z;\n",
    "};\n"
   ]
  },
  {
   "cell_type": "code",
   "execution_count": 38,
   "metadata": {
    "vscode": {
     "languageId": "cpp"
    }
   },
   "outputs": [],
   "source": [
    "// union xyz u;"
   ]
  },
  {
   "cell_type": "code",
   "execution_count": 39,
   "metadata": {
    "vscode": {
     "languageId": "cpp"
    }
   },
   "outputs": [],
   "source": [
    "// u.x = 10;\n",
    "// cout << u.x << endl;\n"
   ]
  },
  {
   "cell_type": "code",
   "execution_count": 45,
   "metadata": {
    "vscode": {
     "languageId": "cpp"
    }
   },
   "outputs": [],
   "source": [
    "xyz* u = new xyz;"
   ]
  },
  {
   "cell_type": "code",
   "execution_count": 47,
   "metadata": {
    "vscode": {
     "languageId": "cpp"
    }
   },
   "outputs": [
    {
     "name": "stdout",
     "output_type": "stream",
     "text": [
      "3.14\n"
     ]
    }
   ],
   "source": [
    "// u->y = 3.14;\n",
    "u->y = 3.14;\n",
    "cout << (u->y) << endl;\n",
    "\n",
    "delete u;"
   ]
  },
  {
   "cell_type": "code",
   "execution_count": 40,
   "metadata": {
    "vscode": {
     "languageId": "cpp"
    }
   },
   "outputs": [],
   "source": [
    "struct Product {\n",
    "    int id;\n",
    "    double price;\n",
    "    char name[20];\n",
    "};"
   ]
  },
  {
   "cell_type": "code",
   "execution_count": 41,
   "metadata": {
    "vscode": {
     "languageId": "cpp"
    }
   },
   "outputs": [],
   "source": [
    "#include <iostream>\n",
    "#include <cstring>"
   ]
  },
  {
   "cell_type": "code",
   "execution_count": 42,
   "metadata": {
    "vscode": {
     "languageId": "cpp"
    }
   },
   "outputs": [
    {
     "name": "stdout",
     "output_type": "stream",
     "text": [
      "Product ID: 1\n",
      "Product Price: $20.99\n",
      "Product Name: Banana\n"
     ]
    }
   ],
   "source": [
    "int main() {\n",
    "    Product* p = new Product;  // 动态分配内存\n",
    "    p->id = 1;                 // 使用箭头运算符访问和赋值\n",
    "    p->price = 20.99;          // 使用箭头运算符访问和赋值\n",
    "    std::strcpy(p->name, \"Banana\"); // 使用箭头运算符访问和赋值\n",
    "\n",
    "    std::cout << \"Product ID: \" << (p->id) << std::endl\n",
    "              << \"Product Price: $\" << (p->price) << std::endl\n",
    "              << \"Product Name: \" << (p->name) << std::endl;\n",
    "\n",
    "    delete p; // 释放内存\n",
    "    return 0;\n",
    "}\n",
    "main();"
   ]
  },
  {
   "cell_type": "markdown",
   "metadata": {},
   "source": [
    "`Product* p = new Product; `  前面没有struct,是否会编译错误?   \n",
    "在C++中，对于`struct`类型的声明和使用，不需要在类型名前加上`struct`关键字。这与C语言不同，在C语言中，如果不使用`typedef`创建别名，需要在声明指向结构体的指针时使用`struct`关键字。\n",
    "\n",
    "在C++里，您可以直接使用结构体名称声明变量或指针，如下所示：\n",
    "\n",
    "```cpp\n",
    "Product* p = new Product;\n",
    "```\n",
    "\n",
    "这段代码在C++中是完全合法的，并不会导致编译错误。C++在处理结构体（以及类和联合体）时会自动将它们的名称视为类型名，因此不需要额外的`struct`关键字来指明类型。这一点是C++为了提高代码的可读性和简洁性而做的语言设计改进。\n"
   ]
  },
  {
   "cell_type": "code",
   "execution_count": null,
   "metadata": {
    "vscode": {
     "languageId": "cpp"
    }
   },
   "outputs": [],
   "source": []
  }
 ],
 "metadata": {
  "kernelspec": {
   "display_name": "C++17",
   "language": "C++17",
   "name": "xcpp17"
  },
  "language_info": {
   "codemirror_mode": "text/x-c++src",
   "file_extension": ".cpp",
   "mimetype": "text/x-c++src",
   "name": "C++17",
   "version": "17"
  }
 },
 "nbformat": 4,
 "nbformat_minor": 2
}
