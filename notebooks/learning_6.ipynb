{
 "cells": [
  {
   "cell_type": "markdown",
   "metadata": {},
   "source": [
    "# 函数"
   ]
  },
  {
   "cell_type": "markdown",
   "metadata": {},
   "source": [
    "## 1.函数"
   ]
  },
  {
   "cell_type": "code",
   "execution_count": 1,
   "metadata": {
    "vscode": {
     "languageId": "cpp"
    }
   },
   "outputs": [],
   "source": [
    "#include <iostream>\n",
    "\n",
    "using namespace std;"
   ]
  },
  {
   "cell_type": "code",
   "execution_count": 2,
   "metadata": {
    "vscode": {
     "languageId": "cpp"
    }
   },
   "outputs": [],
   "source": [
    "// 返回a,b,c中的最大值\n",
    "\n",
    "int max3(int a, int b, int c) {\n",
    "    int max = a;\n",
    "    if (b > max) {\n",
    "        max = b;\n",
    "    }\n",
    "    if (c > max) {\n",
    "        max = c;\n",
    "    }\n",
    "    return max;\n",
    "}"
   ]
  },
  {
   "cell_type": "code",
   "execution_count": 3,
   "metadata": {
    "vscode": {
     "languageId": "cpp"
    }
   },
   "outputs": [],
   "source": [
    "// int main() {\n",
    "//     int a, b, c;\n",
    "//     cin >> a >> b >> c;\n",
    "//     cout << \"max3(\" << a << \", \" << b << \", \" << c << \") = \";\n",
    "//     cout << max3(a, b, c) << endl;\n",
    "//     return 0;\n",
    "// }\n",
    "\n",
    "// main()"
   ]
  },
  {
   "cell_type": "code",
   "execution_count": 4,
   "metadata": {
    "vscode": {
     "languageId": "cpp"
    }
   },
   "outputs": [],
   "source": [
    "// 返回a,b的较大值\n",
    "\n",
    "int max2(int a, int b) {\n",
    "    return a > b ? a : b;\n",
    "}\n"
   ]
  },
  {
   "cell_type": "code",
   "execution_count": 5,
   "metadata": {
    "vscode": {
     "languageId": "cpp"
    }
   },
   "outputs": [],
   "source": [
    "\n",
    "// int main() {\n",
    "//     int a, b;\n",
    "//     cin >> a >> b;\n",
    "//     cout << \"max2(\" << a << \", \" << b << \") = \";\n",
    "//     cout << max2(a, b) << endl;\n",
    "//     return 0;\n",
    "// }\n",
    "\n",
    "// main()"
   ]
  },
  {
   "cell_type": "code",
   "execution_count": 6,
   "metadata": {
    "vscode": {
     "languageId": "cpp"
    }
   },
   "outputs": [],
   "source": [
    "// 幂运算\n",
    "\n",
    "double power(double x, int n) {\n",
    "    double val = 1.0;\n",
    "    while (n--) {\n",
    "        val *= x;\n",
    "    }\n",
    "    return val;\n",
    "}\n",
    "\n"
   ]
  },
  {
   "cell_type": "code",
   "execution_count": 7,
   "metadata": {
    "vscode": {
     "languageId": "cpp"
    }
   },
   "outputs": [],
   "source": [
    "// int main() \n",
    "// {\n",
    "//     double x;\n",
    "//     int n;\n",
    "\n",
    "//     cout << \"计算x 的 n 次方\" << \",请输入double x 和int n:\" << endl;\n",
    "//     cin >> x ;\n",
    "//     cout << \"double x = \" << x << endl;\n",
    "//     cin >> n;\n",
    "//     cout << \"int n = \" << n << endl;\n",
    "\n",
    "//     cout << \"power(\" << x << \", \" << n << \") = \";\n",
    "//     cout << power(x, n) << endl;\n",
    "//     return 0;\n",
    "// }\n",
    "\n",
    "// main()"
   ]
  },
  {
   "cell_type": "code",
   "execution_count": 8,
   "metadata": {
    "vscode": {
     "languageId": "cpp"
    }
   },
   "outputs": [],
   "source": [
    "// 显示左下侧为直角的等腰直角三角形（函数版）\n",
    "\n",
    "void put_stars(int n) {\n",
    "    while (n-- > 0) {\n",
    "        cout << '*';\n",
    "    }\n",
    "}\n"
   ]
  },
  {
   "cell_type": "code",
   "execution_count": 9,
   "metadata": {
    "vscode": {
     "languageId": "cpp"
    }
   },
   "outputs": [],
   "source": [
    "// int main() {\n",
    "//     int n;\n",
    "//     cout << \"生成直角在左下方的等腰直角三角形。\" << endl;\n",
    "//     cout << \"短边：\";\n",
    "//     cin >> n;\n",
    "//     cout << \"n = \" << n << endl;\n",
    "\n",
    "//     for (int i = 1; i <= n; i++) {\n",
    "//         put_stars(i);\n",
    "//         cout << '\\n';\n",
    "//     }\n",
    "//     return 0;\n",
    "// }\n",
    "\n",
    "// main()"
   ]
  },
  {
   "cell_type": "code",
   "execution_count": 10,
   "metadata": {
    "vscode": {
     "languageId": "cpp"
    }
   },
   "outputs": [],
   "source": [
    "// 显示右下侧为直角的等腰直角三角形（函数版）\n",
    "\n",
    "void put_nchar(char c, int n) {\n",
    "    while (n-- > 0) {\n",
    "        cout << c;\n",
    "    }\n",
    "}\n",
    "\n"
   ]
  },
  {
   "cell_type": "code",
   "execution_count": 11,
   "metadata": {
    "vscode": {
     "languageId": "cpp"
    }
   },
   "outputs": [],
   "source": [
    "// int main(){\n",
    "//     int n;\n",
    "//     cout << \"生成直角在右下方的等腰直角三角形。\" << endl;\n",
    "//     cout << \"短边：\";\n",
    "//     cin >> n;\n",
    "//     cout << \"n = \" << n << endl;\n",
    "\n",
    "//     for (int i = 1; i <= n; i++) {\n",
    "//         put_nchar(' ', n - i);\n",
    "//         put_nchar('*', i);\n",
    "//         cout << '\\n';\n",
    "//     }\n",
    "//     return 0;\n",
    "// }\n",
    "\n",
    "// main()"
   ]
  },
  {
   "cell_type": "code",
   "execution_count": 12,
   "metadata": {
    "vscode": {
     "languageId": "cpp"
    }
   },
   "outputs": [],
   "source": [
    "// 显示正方和长方形形\n",
    "\n",
    "void put_square(int n, char c) {\n",
    "    for (int i = 1; i <= n; i++) {\n",
    "        put_nchar(c, n);\n",
    "        cout << '\\n';\n",
    "    }\n",
    "}"
   ]
  },
  {
   "cell_type": "code",
   "execution_count": 13,
   "metadata": {
    "vscode": {
     "languageId": "cpp"
    }
   },
   "outputs": [],
   "source": [
    "void put_rectangle(int h, int w, char c) {\n",
    "    for (int i = 1; i <= h; i++) {\n",
    "        put_nchar(c, w);\n",
    "        cout << '\\n';\n",
    "    }\n",
    "}"
   ]
  },
  {
   "cell_type": "code",
   "execution_count": 14,
   "metadata": {
    "vscode": {
     "languageId": "cpp"
    }
   },
   "outputs": [],
   "source": [
    "// int main() {\n",
    "//     int n, h, w;\n",
    "//     char c1,c2;\n",
    "//     cout << \"生成正方形和长方形。\" << endl;\n",
    "//     cout << \"正方形边长：\";\n",
    "//     cin >> n;\n",
    "//     cout << \"n = \" << n << endl;\n",
    "//     cout << \"字符：\";\n",
    "//     c1 = '*';\n",
    "//     cout << \"c1 = \" << c1 << endl;\n",
    "//     cout << \"长方形的高：\";\n",
    "//     cin >> h;\n",
    "//     cout << \"h = \" << h << endl;\n",
    "//     cout << \"长方形的宽：\";\n",
    "//     cin >> w;\n",
    "//     cout << \"w = \" << w << endl;\n",
    "//     cout << \"字符：\";\n",
    "//     c2= '+';\n",
    "//     cout << \"c2 = \" << c2 << endl;\n",
    "\n",
    "//     put_square(n, c1);\n",
    "//     cout << '\\n';\n",
    "//     put_rectangle(h, w, c2);\n",
    "//     return 0;\n",
    "// }\n",
    "\n",
    "// main()"
   ]
  },
  {
   "cell_type": "code",
   "execution_count": 15,
   "metadata": {
    "vscode": {
     "languageId": "cpp"
    }
   },
   "outputs": [
    {
     "name": "stderr",
     "output_type": "stream",
     "text": [
      "input_line_22:3:11: warning: multi-character character constant [-Wmultichar]\n",
      "put_nchar('abc', 5); // 错误：字符串不可以隐式转换为字符\n",
      "          ^\n",
      "input_line_22:3:11: warning: implicit conversion from 'int' to 'char' changes value from 6382179 to 99 [-Wconstant-conversion]\n",
      "put_nchar('abc', 5); // 错误：字符串不可以隐式转换为字符\n",
      "~~~~~~~~~ ^~~~~\n"
     ]
    },
    {
     "name": "stdout",
     "output_type": "stream",
     "text": [
      "ccccc"
     ]
    }
   ],
   "source": [
    "// 错误：字符串不可以隐式转换为字符\n",
    "\n",
    "put_nchar('abc', 5); // 错误：字符串不可以隐式转换为字符"
   ]
  },
  {
   "cell_type": "code",
   "execution_count": 16,
   "metadata": {
    "vscode": {
     "languageId": "cpp"
    }
   },
   "outputs": [],
   "source": [
    "// 创建一个心算训练程序，程序会提示计算 3 个三位数的和 的问题。请注意，程序只接收正确答案，而不接收错误答案。\n",
    "\n",
    "#include <ctime>\n",
    "#include <cstdlib>\n",
    "#include <iostream>\n",
    "\n",
    "using namespace std;"
   ]
  },
  {
   "cell_type": "code",
   "execution_count": 17,
   "metadata": {
    "vscode": {
     "languageId": "cpp"
    }
   },
   "outputs": [],
   "source": [
    "bool confirm_retry() {\n",
    "    int cont;\n",
    "    do {\n",
    "        cout << \"再来一次？<Yes...1/No...0>：\";\n",
    "        cin >> cont;\n",
    "    } while (cont != 0 && cont != 1);\n",
    "    return static_cast<bool>(cont);\n",
    "}"
   ]
  },
  {
   "cell_type": "code",
   "execution_count": 18,
   "metadata": {
    "vscode": {
     "languageId": "cpp"
    }
   },
   "outputs": [],
   "source": [
    "// int main()\n",
    "// {\n",
    "//     srand(time(NULL));\n",
    "//     cout << \"心算训练\" << endl;\n",
    "//     do {\n",
    "//         int x = rand() % 900 + 100;\n",
    "//         int y = rand() % 900 + 100;\n",
    "//         int z = rand() % 900 + 100;\n",
    "//         int answer;\n",
    "//         while (true) {\n",
    "//             cout << x << \" + \" << y << \" + \" << z << \" = \";\n",
    "//             cin >> answer;\n",
    "//             if (answer == x + y + z) {\n",
    "//                 cout << \"正确。\" << endl;\n",
    "//                 break;\n",
    "//             } else {\n",
    "//                 cout << \"再试一次。\" << endl;\n",
    "//             }\n",
    "//         }\n",
    "//     } while (confirm_retry());\n",
    "//     return 0;\n",
    "// }\n",
    "\n",
    "// main()"
   ]
  },
  {
   "cell_type": "code",
   "execution_count": 19,
   "metadata": {
    "vscode": {
     "languageId": "cpp"
    }
   },
   "outputs": [],
   "source": [
    "// // 非负整数阶乘,递归调用\n",
    "\n",
    "// int factorial(int n) {\n",
    "//     if (n > 0) {\n",
    "//         return n * factorial(n - 1);\n",
    "//     }\n",
    "//     else {\n",
    "//         return 1; // 0的阶乘是1\n",
    "//     }\n",
    "// }"
   ]
  },
  {
   "cell_type": "code",
   "execution_count": 20,
   "metadata": {
    "vscode": {
     "languageId": "cpp"
    }
   },
   "outputs": [],
   "source": [
    "// int main() {\n",
    "//     int x;\n",
    "//     cout << \"请输入一个非负整数：\";\n",
    "//     cin >> x;\n",
    "//     cout << x << \"的阶乘是\" << factorial(x) << \"。\\n\";\n",
    "//     return 0;\n",
    "// }\n",
    "\n",
    "// main()"
   ]
  },
  {
   "cell_type": "code",
   "execution_count": 21,
   "metadata": {
    "vscode": {
     "languageId": "cpp"
    }
   },
   "outputs": [
    {
     "name": "stderr",
     "output_type": "stream",
     "text": [
      "input_line_30:5:28: warning: multi-character character constant [-Wmultichar]\n",
      "int func2 (int a, char b = '10', double c = 0.0); // Ok\n",
      "                           ^\n",
      "input_line_30:5:28: warning: implicit conversion from 'int' to 'char' changes value from 12592 to 48 [-Wconstant-conversion]\n",
      "int func2 (int a, char b = '10', double c = 0.0); // Ok\n",
      "                         ~ ^~~~\n"
     ]
    }
   ],
   "source": [
    "// int func1 (int a = 0, int b = 0); // OK\n",
    "\n",
    "// int func1 (int a = 0, int b); // 错误：默认参数只能从右向左依次省略\n",
    "\n",
    "// int func2 (int a, char b, double C = 0.0);  // OK\n",
    "\n",
    "int func2 (int a, char b = '10', double c = 0.0); // Ok\n",
    "\n",
    "// int func2 (int a = 0, char b, double c = 0.0) ;  // 错误：默认参数只能从右向左依次省略\n",
    "\n"
   ]
  },
  {
   "cell_type": "markdown",
   "metadata": {},
   "source": [
    "执行位运算"
   ]
  },
  {
   "cell_type": "code",
   "execution_count": 22,
   "metadata": {
    "vscode": {
     "languageId": "cpp"
    }
   },
   "outputs": [
    {
     "name": "stdout",
     "output_type": "stream",
     "text": [
      "2\n",
      "3\n",
      "1\n",
      "-3\n"
     ]
    }
   ],
   "source": [
    "int a = 2 & 3;\n",
    "int b = 2 | 3;\n",
    "int c = 2 ^ 3;\n",
    "int d = ~2;\n",
    "\n",
    "cout << a << endl;\n",
    "cout << b << endl;\n",
    "cout << c << endl;\n",
    "cout << d << endl;"
   ]
  },
  {
   "cell_type": "code",
   "execution_count": 23,
   "metadata": {
    "vscode": {
     "languageId": "cpp"
    }
   },
   "outputs": [],
   "source": [
    "// 对无符号整数进行按位与、按位或、按位异或和按位取反运算，并显示运算结果\n",
    "\n",
    "\n",
    "//--- 计算整数x中“1”的位数 ---//\n",
    "int count_bits(unsigned x)\n",
    "{\n",
    "\tint bits = 0;\n",
    "\twhile (x) {\n",
    "\t\tif (x & 1U) bits++;\n",
    "\t\tx >>= 1;\n",
    "\t}\n",
    "\treturn bits;\n",
    "}\n"
   ]
  },
  {
   "cell_type": "code",
   "execution_count": 24,
   "metadata": {
    "vscode": {
     "languageId": "cpp"
    }
   },
   "outputs": [],
   "source": [
    "\n",
    "//--- 计算int型或unsigned型的位数 ---//\n",
    "int int_bits()\n",
    "{\n",
    "\treturn count_bits(~0U);\n",
    "}\n"
   ]
  },
  {
   "cell_type": "code",
   "execution_count": 25,
   "metadata": {
    "vscode": {
     "languageId": "cpp"
    }
   },
   "outputs": [],
   "source": [
    "\n",
    "//--- 显示unsigned型的所有位 ---//\n",
    "void print_bits(unsigned x)\n",
    "{\n",
    "\tfor (int i = int_bits() - 1; i >= 0; i--)\n",
    "\t\tcout << ((x >> i) & 1U ? '1' : '0');\n",
    "}\n"
   ]
  },
  {
   "cell_type": "code",
   "execution_count": 26,
   "metadata": {
    "vscode": {
     "languageId": "cpp"
    }
   },
   "outputs": [],
   "source": [
    "\n",
    "// int main()\n",
    "// {\n",
    "// \tunsigned a, b;\n",
    "\n",
    "// \tcout << \"请输入两个非负整数。\\n\";\n",
    "// \tcout << \"a : \";\t  cin >> a;\n",
    "// \tcout << \"b : \";\t  cin >> b;\n",
    "\n",
    "// \tcout << \"a     = \";  print_bits(a);\t\tcout << '\\n';\n",
    "// \tcout << \"b     = \";  print_bits(b);\t\tcout << '\\n';\n",
    "// \tcout << \"a & b = \";  print_bits(a & b);\tcout << '\\n';\t// 按位与\n",
    "// \tcout << \"a | b = \";  print_bits(a | b);\tcout << '\\n';\t// 按位或\n",
    "// \tcout << \"a ^ b = \";  print_bits(a ^ b);\tcout << '\\n';\t// 按位异或\n",
    "// \tcout << \"~a    = \";  print_bits(~a);\tcout << '\\n';\t// 按位取反\n",
    "// \tcout << \"~b    = \";  print_bits(~b);\tcout << '\\n';\t// 按位取反\n",
    "// }\n",
    "\n",
    "// main()"
   ]
  },
  {
   "cell_type": "code",
   "execution_count": 27,
   "metadata": {
    "vscode": {
     "languageId": "cpp"
    }
   },
   "outputs": [],
   "source": [
    "// // 显示将无符号整数值左移和右移后的值\n",
    "\n",
    "// int main()\n",
    "// {\n",
    "//     unsigned x,n;\n",
    "\n",
    "//     cout << \"非负整数：\";  cin >> x;\n",
    "//     cout << \"位移位数：\";  cin >> n;\n",
    "//     cout << \"将\" << x << \"位移位数\" << n << endl;\n",
    "//     cout << \"左移\" << n << \"位的值是\" << (x << n) << \"。\\n\";\n",
    "//     cout << \"右移\" << n << \"位的值是\" << (x >> n) << \"。\\n\";\n",
    "\n",
    "//     //bitstrings\n",
    "//     cout << \"x     = \";  print_bits(x);\t\tcout << '\\n';\n",
    "//     cout << \"x << n= \";  print_bits(x << n);\tcout << '\\n';\n",
    "//     cout << \"x >> n= \";  print_bits(x >> n);\tcout << '\\n';\n",
    "\n",
    "// }\n",
    "\n",
    "// main()"
   ]
  },
  {
   "cell_type": "code",
   "execution_count": 28,
   "metadata": {
    "vscode": {
     "languageId": "cpp"
    }
   },
   "outputs": [
    {
     "name": "stdout",
     "output_type": "stream",
     "text": [
      "此环境中\n",
      "char型是8位\n",
      "char型是-128到127的范围\n",
      "unsigned char型是0到255的范围\n",
      "short型是-32768到32767的范围\n",
      "unsigned short型是0到65535的范围\n",
      "int型是-2147483648到2147483647的范围\n",
      "unsigned int型是0到4294967295的范围\n",
      "long型是-9223372036854775808到9223372036854775807的范围\n",
      "unsigned long型是0到18446744073709551615的范围\n"
     ]
    },
    {
     "data": {
      "text/plain": [
       "0"
      ]
     },
     "execution_count": 28,
     "metadata": {},
     "output_type": "execute_result"
    }
   ],
   "source": [
    "#include <climits>\n",
    "\n",
    "//  显示char、short、int和long的位数和取值范围\n",
    "\n",
    "int main()\n",
    "{\n",
    "    cout << \"此环境中\\n\";\n",
    "    cout << \"char型是\" << CHAR_BIT << \"位\\n\";\n",
    "    cout << \"char型是\" << CHAR_MIN << \"到\" << CHAR_MAX << \"的范围\\n\";\n",
    "    cout << \"unsigned char型是0到\" << UCHAR_MAX << \"的范围\\n\";\n",
    "    cout << \"short型是\" << SHRT_MIN << \"到\" << SHRT_MAX << \"的范围\\n\";\n",
    "    cout << \"unsigned short型是0到\" << USHRT_MAX << \"的范围\\n\";\n",
    "    cout << \"int型是\" << INT_MIN << \"到\" << INT_MAX << \"的范围\\n\";\n",
    "    cout << \"unsigned int型是0到\" << UINT_MAX << \"的范围\\n\";\n",
    "    cout << \"long型是\" << LONG_MIN << \"到\" << LONG_MAX << \"的范围\\n\";\n",
    "    cout << \"unsigned long型是0到\" << ULONG_MAX << \"的范围\\n\";\n",
    "}\n",
    "\n",
    "main()\n"
   ]
  },
  {
   "cell_type": "code",
   "execution_count": 29,
   "metadata": {
    "vscode": {
     "languageId": "cpp"
    }
   },
   "outputs": [
    {
     "name": "stdout",
     "output_type": "stream",
     "text": [
      "Number of bits in char: 7\n",
      "Number of bits in short: 15\n",
      "Number of bits in int: 31\n",
      "Number of bits in long: 63\n"
     ]
    },
    {
     "data": {
      "text/plain": [
       "0"
      ]
     },
     "execution_count": 29,
     "metadata": {},
     "output_type": "execute_result"
    }
   ],
   "source": [
    "// 整型的位数并非定义在 <climits> 头文件中，而是定义在 <limits> 头文件中。\n",
    "\n",
    "#include <iostream>\n",
    "#include <limits>\n",
    "\n",
    "int main() {\n",
    "    std::cout << \"Number of bits in char: \" << std::numeric_limits<char>::digits << std::endl;\n",
    "    std::cout << \"Number of bits in short: \" << std::numeric_limits<short>::digits << std::endl;\n",
    "    std::cout << \"Number of bits in int: \" << std::numeric_limits<int>::digits << std::endl;\n",
    "    std::cout << \"Number of bits in long: \" << std::numeric_limits<long>::digits << std::endl;\n",
    "    return 0;\n",
    "}\n",
    "\n",
    "main()"
   ]
  },
  {
   "cell_type": "code",
   "execution_count": 30,
   "metadata": {
    "vscode": {
     "languageId": "cpp"
    }
   },
   "outputs": [
    {
     "name": "stdout",
     "output_type": "stream",
     "text": [
      "Number of bits in unsigned char: 8\n",
      "Number of bits in unsigned short: 16\n",
      "Number of bits in unsigned int: 32\n",
      "Number of bits in unsigned long: 64\n"
     ]
    },
    {
     "data": {
      "text/plain": [
       "0"
      ]
     },
     "execution_count": 30,
     "metadata": {},
     "output_type": "execute_result"
    }
   ],
   "source": [
    "// unsigned char, unsigned short, unsigned int, unsigned long 的位数\n",
    "\n",
    "int main() {\n",
    "    std::cout << \"Number of bits in unsigned char: \" << std::numeric_limits<unsigned char>::digits << std::endl;\n",
    "    std::cout << \"Number of bits in unsigned short: \" << std::numeric_limits<unsigned short>::digits << std::endl;\n",
    "    std::cout << \"Number of bits in unsigned int: \" << std::numeric_limits<unsigned>::digits << std::endl;\n",
    "    // std::cout << \"Number of bits in unsigned int: \" << std::numeric_limits<unsigned int>::digits << std::endl;\n",
    "    std::cout << \"Number of bits in unsigned long: \" << std::numeric_limits<unsigned long>::digits << std::endl;\n",
    "    return 0;\n",
    "}\n",
    "\n",
    "main()"
   ]
  },
  {
   "cell_type": "markdown",
   "metadata": {
    "vscode": {
     "languageId": "cpp"
    }
   },
   "source": [
    "## 2.引用和引用传递"
   ]
  },
  {
   "cell_type": "code",
   "execution_count": 31,
   "metadata": {
    "vscode": {
     "languageId": "cpp"
    }
   },
   "outputs": [],
   "source": [
    "// 交换两个参数值的函数（错误）\n",
    "\n",
    "// void swap(int x, int y) {\n",
    "//     int temp = x;\n",
    "//     x = y;\n",
    "//     y = temp;\n",
    "// }"
   ]
  },
  {
   "cell_type": "code",
   "execution_count": 32,
   "metadata": {
    "vscode": {
     "languageId": "cpp"
    }
   },
   "outputs": [
    {
     "name": "stdout",
     "output_type": "stream",
     "text": [
      "a = 10\n",
      "b = 5\n"
     ]
    },
    {
     "data": {
      "text/plain": [
       "0"
      ]
     },
     "execution_count": 32,
     "metadata": {},
     "output_type": "execute_result"
    }
   ],
   "source": [
    "int main()\n",
    "{\n",
    "    int a = 5;\n",
    "    int b = 10;\n",
    "\n",
    "    swap(a, b);\n",
    "\n",
    "    cout << \"a = \" << a << endl;\n",
    "    cout << \"b = \" << b << endl;\n",
    "\n",
    "    return 0;\n",
    "}\n",
    "\n",
    "main()"
   ]
  },
  {
   "cell_type": "markdown",
   "metadata": {},
   "source": [
    "结果a,b没有交换.  \n",
    "采用引用传递（pass by reference）  \n",
    "引用（reference）"
   ]
  },
  {
   "cell_type": "code",
   "execution_count": 33,
   "metadata": {
    "vscode": {
     "languageId": "cpp"
    }
   },
   "outputs": [
    {
     "name": "stdout",
     "output_type": "stream",
     "text": [
      "a = 1\n",
      "x = 1\n",
      "y = 2\n",
      "a = 5\n",
      "x = 5\n",
      "y = 2\n"
     ]
    },
    {
     "data": {
      "text/plain": [
       "0"
      ]
     },
     "execution_count": 33,
     "metadata": {},
     "output_type": "execute_result"
    }
   ],
   "source": [
    "// 引用对象\n",
    "\n",
    "int main()\n",
    "{\n",
    "    int x = 1;\n",
    "    int y = 2;\n",
    "\n",
    "    int& a = x;\n",
    "\n",
    "    cout << \"a = \" << a << endl;\n",
    "    cout << \"x = \" << x << endl;\n",
    "    cout << \"y = \" << y << endl;\n",
    "\n",
    "    a = 5;\n",
    "\n",
    "    // a = y;\n",
    "\n",
    "    cout << \"a = \" << a << endl;\n",
    "    cout << \"x = \" << x << endl;\n",
    "    cout << \"y = \" << y << endl;\n",
    "}\n",
    "\n",
    "main()"
   ]
  },
  {
   "cell_type": "markdown",
   "metadata": {},
   "source": [
    "a 引用x, a和x表示同一个对象"
   ]
  },
  {
   "cell_type": "code",
   "execution_count": 34,
   "metadata": {
    "vscode": {
     "languageId": "cpp"
    }
   },
   "outputs": [],
   "source": [
    "# include <typeinfo>\n",
    "// typeid(int&).name() // 输出 \"int&\""
   ]
  },
  {
   "cell_type": "code",
   "execution_count": 35,
   "metadata": {
    "vscode": {
     "languageId": "cpp"
    }
   },
   "outputs": [],
   "source": [
    "void swap(int& x, int& y)\n",
    "{\n",
    "\tint t = x;\n",
    "\tx = y;\n",
    "\ty = t;\n",
    "}"
   ]
  },
  {
   "cell_type": "code",
   "execution_count": 36,
   "metadata": {
    "vscode": {
     "languageId": "cpp"
    }
   },
   "outputs": [
    {
     "name": "stdout",
     "output_type": "stream",
     "text": [
      "a = 5\n",
      "b = 10\n",
      "after swap: \n",
      "a = 10\n",
      "b = 5\n"
     ]
    },
    {
     "data": {
      "text/plain": [
       "0"
      ]
     },
     "execution_count": 36,
     "metadata": {},
     "output_type": "execute_result"
    }
   ],
   "source": [
    "int main()\n",
    "{\n",
    "    int a = 5;\n",
    "    int b = 10;\n",
    "\n",
    "    cout << \"a = \" << a << endl;\n",
    "    cout << \"b = \" << b << endl;\n",
    "\n",
    "    swap(a, b);\n",
    "\n",
    "    cout << \"after swap: \\n\";\n",
    "    cout << \"a = \" << a << '\\n';\n",
    "    cout << \"b = \" << b << '\\n';\n",
    "}\n",
    "\n",
    "main()"
   ]
  },
  {
   "cell_type": "code",
   "execution_count": 37,
   "metadata": {
    "vscode": {
     "languageId": "cpp"
    }
   },
   "outputs": [],
   "source": [
    "void sort2(int& n1, int& n2)\n",
    "{\n",
    "    if (n1 > n2) {\n",
    "        int t = n1;\n",
    "        n1 = n2;\n",
    "        n2 = t;\n",
    "    }\n",
    "}"
   ]
  },
  {
   "cell_type": "code",
   "execution_count": 38,
   "metadata": {
    "vscode": {
     "languageId": "cpp"
    }
   },
   "outputs": [],
   "source": [
    "// 三个数按升序排列\n",
    "\n",
    "void sort3(int& n1, int& n2, int& n3)\n",
    "{\n",
    "    sort2(n1, n2);\n",
    "    sort2(n2, n3);\n",
    "    sort2(n1, n2);\n",
    "}"
   ]
  },
  {
   "cell_type": "code",
   "execution_count": 39,
   "metadata": {
    "vscode": {
     "languageId": "cpp"
    }
   },
   "outputs": [],
   "source": [
    "// int main()\n",
    "// {\n",
    "//     int a, b, c;\n",
    "\n",
    "//     cout << \"请输入三个整数：\\n\";\n",
    "//     cout << \"整数1：\";  cin >> a;\n",
    "//     cout << \"整数2：\";  cin >> b;\n",
    "//     cout << \"整数3：\";  cin >> c;\n",
    "\n",
    "//     sort3(a, b, c);\n",
    "\n",
    "//     cout << \"按升序排列：\" << a << \", \" << b << \", \" << c << \"。\\n\";\n",
    "\n",
    "// }\n",
    "\n",
    "// main()"
   ]
  },
  {
   "cell_type": "markdown",
   "metadata": {},
   "source": [
    "## 3. 作用域和存储期"
   ]
  },
  {
   "cell_type": "code",
   "execution_count": 40,
   "metadata": {
    "vscode": {
     "languageId": "cpp"
    }
   },
   "outputs": [],
   "source": [
    "// 确认标识符的作用域\n",
    "\n",
    "int x = 100;"
   ]
  },
  {
   "cell_type": "code",
   "execution_count": 41,
   "metadata": {
    "vscode": {
     "languageId": "cpp"
    }
   },
   "outputs": [],
   "source": [
    "void print_x()\n",
    "{\n",
    "    cout << \"x = \" << x << '\\n';\n",
    "}"
   ]
  },
  {
   "cell_type": "code",
   "execution_count": 42,
   "metadata": {
    "vscode": {
     "languageId": "cpp"
    }
   },
   "outputs": [
    {
     "name": "stdout",
     "output_type": "stream",
     "text": [
      "x=100\n",
      "x=200\n",
      "x=0\n",
      "x=11\n",
      "x=22\n",
      "x=33\n",
      "x=44\n",
      "x=55\n",
      "x=200\n",
      "::x=100\n",
      "x = 100\n"
     ]
    },
    {
     "data": {
      "text/plain": [
       "0"
      ]
     },
     "execution_count": 42,
     "metadata": {},
     "output_type": "execute_result"
    }
   ],
   "source": [
    "int main()\n",
    "{\n",
    "    cout << \"x=\" << x << '\\n';\n",
    "    int x = 200;\n",
    "    cout << \"x=\" << x << '\\n';\n",
    "\n",
    "    for (int i = 0; i <= 5; i++) {\n",
    "        int x = i * 11;\n",
    "        cout << \"x=\" << x << '\\n';\n",
    "    }\n",
    "\n",
    "    cout << \"x=\" << x << '\\n';\n",
    "    cout << \"::x=\" << ::x << '\\n'; // 全局变量x\n",
    "    print_x();\n",
    "}\n",
    "\n",
    "main()"
   ]
  },
  {
   "cell_type": "code",
   "execution_count": 43,
   "metadata": {
    "vscode": {
     "languageId": "cpp"
    }
   },
   "outputs": [],
   "source": [
    "// 自动存储期和静态存储期\n",
    "\n",
    "int fx;\n"
   ]
  },
  {
   "cell_type": "code",
   "execution_count": 44,
   "metadata": {
    "vscode": {
     "languageId": "cpp"
    }
   },
   "outputs": [
    {
     "name": "stdout",
     "output_type": "stream",
     "text": [
      "ax: 32765\n",
      "sx: 0\n",
      "fx: 0\n"
     ]
    },
    {
     "data": {
      "text/plain": [
       "0"
      ]
     },
     "execution_count": 44,
     "metadata": {},
     "output_type": "execute_result"
    }
   ],
   "source": [
    "\n",
    "int main()\n",
    "{\n",
    "    static int sx;\n",
    "    int ax;\n",
    "\n",
    "    cout << \"ax: \" << ax << endl;\n",
    "    cout << \"sx: \" << sx << endl;\n",
    "    cout << \"fx: \" << fx << endl;\n",
    "}\n",
    "\n",
    "main()"
   ]
  },
  {
   "cell_type": "code",
   "execution_count": 45,
   "metadata": {
    "vscode": {
     "languageId": "cpp"
    }
   },
   "outputs": [],
   "source": [
    "int fx = 0;"
   ]
  },
  {
   "cell_type": "code",
   "execution_count": 46,
   "metadata": {
    "vscode": {
     "languageId": "cpp"
    }
   },
   "outputs": [],
   "source": [
    "void func()\n",
    "{\n",
    "    static int sx = 0;\n",
    "    int ax = 0;\n",
    "\n",
    "    // cout << \"ax: \" << ax << endl;\n",
    "    // cout << \"sx: \" << sx << endl;\n",
    "    // cout << \"fx: \" << fx << endl;\n",
    "\n",
    "    ax++;\n",
    "    sx++;\n",
    "    fx++;\n",
    "\n",
    "    cout << fx << sx << ax << endl;\n",
    "}"
   ]
  },
  {
   "cell_type": "code",
   "execution_count": 47,
   "metadata": {
    "vscode": {
     "languageId": "cpp"
    }
   },
   "outputs": [
    {
     "name": "stdout",
     "output_type": "stream",
     "text": [
      "fx sx ax\n",
      "----------\n",
      "111\n",
      "221\n",
      "331\n",
      "441\n",
      "551\n"
     ]
    },
    {
     "data": {
      "text/plain": [
       "0"
      ]
     },
     "execution_count": 47,
     "metadata": {},
     "output_type": "execute_result"
    }
   ],
   "source": [
    "int main()\n",
    "{\n",
    "    cout << \"fx sx ax\" << endl;\n",
    "    cout << \"----------\" << endl;\n",
    "    for (int i = 0; i < 5; i++) {\n",
    "        func();\n",
    "    }\n",
    "}\n",
    "\n",
    "main()"
   ]
  },
  {
   "cell_type": "markdown",
   "metadata": {},
   "source": [
    "返回引用的函数. 返回值类型,比如是`int &`"
   ]
  },
  {
   "cell_type": "code",
   "execution_count": 48,
   "metadata": {
    "vscode": {
     "languageId": "cpp"
    }
   },
   "outputs": [],
   "source": [
    "// 返回引用的函数\n",
    "\n",
    "int& ref()\n",
    "{\n",
    "    static int x;\n",
    "    return x;\n",
    "}"
   ]
  },
  {
   "cell_type": "code",
   "execution_count": 49,
   "metadata": {
    "vscode": {
     "languageId": "cpp"
    }
   },
   "outputs": [
    {
     "name": "stdout",
     "output_type": "stream",
     "text": [
      "5\n"
     ]
    },
    {
     "data": {
      "text/plain": [
       "0"
      ]
     },
     "execution_count": 49,
     "metadata": {},
     "output_type": "execute_result"
    }
   ],
   "source": [
    "int main()\n",
    "{\n",
    "    ref() = 5;\n",
    "    cout << ref() << endl;\n",
    "}\n",
    "\n",
    "main()"
   ]
  },
  {
   "cell_type": "code",
   "execution_count": 50,
   "metadata": {
    "vscode": {
     "languageId": "cpp"
    }
   },
   "outputs": [],
   "source": [
    "const int a_size = 5;"
   ]
  },
  {
   "cell_type": "code",
   "execution_count": 51,
   "metadata": {
    "vscode": {
     "languageId": "cpp"
    }
   },
   "outputs": [],
   "source": [
    "int& r(int idx)\n",
    "{\n",
    "    static int a[a_size];\n",
    "    return a[idx];\n",
    "}"
   ]
  },
  {
   "cell_type": "code",
   "execution_count": 52,
   "metadata": {
    "vscode": {
     "languageId": "cpp"
    }
   },
   "outputs": [
    {
     "name": "stdout",
     "output_type": "stream",
     "text": [
      "r(0) = 0\n",
      "r(1) = 1\n",
      "r(2) = 2\n",
      "r(3) = 3\n",
      "r(4) = 4\n"
     ]
    },
    {
     "data": {
      "text/plain": [
       "0"
      ]
     },
     "execution_count": 52,
     "metadata": {},
     "output_type": "execute_result"
    }
   ],
   "source": [
    "int main()\n",
    "{\n",
    "    for (int i = 0; i < a_size; i++) {\n",
    "        r(i) = i;\n",
    "    }\n",
    "\n",
    "    for (int i = 0; i < a_size; i++) {\n",
    "        cout << \"r(\" << i << \") = \" << r(i) << endl;\n",
    "    }\n",
    "}\n",
    "\n",
    "main()"
   ]
  },
  {
   "cell_type": "code",
   "execution_count": 53,
   "metadata": {
    "vscode": {
     "languageId": "cpp"
    }
   },
   "outputs": [
    {
     "name": "stdout",
     "output_type": "stream",
     "text": [
      "a = 5\n",
      "a的平方 = 25\n"
     ]
    },
    {
     "data": {
      "text/plain": [
       "0"
      ]
     },
     "execution_count": 53,
     "metadata": {},
     "output_type": "execute_result"
    }
   ],
   "source": [
    "// 函数式宏\n",
    "\n",
    "#define sqr(x) ((x) * (x)) // ,当在此之后出现 sqr( ○ ) 表达式时，展开为 (( ○ ) * ( ○ ))。\n",
    "\n",
    "int main()\n",
    "{\n",
    "    int a = 5;\n",
    "    cout << \"a = \" << a << endl;\n",
    "    cout << \"a的平方 = \" << sqr(a) << endl;\n",
    "}\n",
    "\n",
    "main()\n"
   ]
  },
  {
   "cell_type": "code",
   "execution_count": null,
   "metadata": {
    "vscode": {
     "languageId": "cpp"
    }
   },
   "outputs": [],
   "source": []
  }
 ],
 "metadata": {
  "kernelspec": {
   "display_name": "C++17",
   "language": "C++17",
   "name": "xcpp17"
  },
  "language_info": {
   "codemirror_mode": "text/x-c++src",
   "file_extension": ".cpp",
   "mimetype": "text/x-c++src",
   "name": "C++17",
   "version": "17"
  }
 },
 "nbformat": 4,
 "nbformat_minor": 2
}
