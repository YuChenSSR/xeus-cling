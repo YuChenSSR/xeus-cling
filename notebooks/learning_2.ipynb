{
 "cells": [
  {
   "cell_type": "markdown",
   "metadata": {
    "vscode": {
     "languageId": "cpp"
    }
   },
   "source": [
    "# 程序流的循环"
   ]
  },
  {
   "cell_type": "code",
   "execution_count": 1,
   "metadata": {
    "vscode": {
     "languageId": "cpp"
    }
   },
   "outputs": [],
   "source": [
    "#include <iostream>\n",
    "\n",
    "using namespace std;\n"
   ]
  },
  {
   "cell_type": "code",
   "execution_count": 2,
   "metadata": {
    "vscode": {
     "languageId": "cpp"
    }
   },
   "outputs": [],
   "source": [
    "// 显示读入的月份是什么季节,可以循环任意次\n",
    "#include <string>\n",
    "int main()\n",
    "{\n",
    "    string retry;\n",
    "    do\n",
    "    {\n",
    "        int month;\n",
    "        cout << \"请输入月份：\\n\";\n",
    "        cin >> month;\n",
    "\n",
    "        cout << \"该月份是\" << month << \"月，属于\";\n",
    "        if (month < 1 || month > 12)\n",
    "        {\n",
    "            cout << \"输入错误！\" << endl;\n",
    "            continue;\n",
    "        }\n",
    "        if (month >= 3 && month <= 5)\n",
    "        {\n",
    "            cout << \"春季\" << endl;\n",
    "        }\n",
    "        else if (month >= 6 && month <= 8)\n",
    "        {\n",
    "            cout << \"夏季\" << endl;\n",
    "        }\n",
    "        else if (month >= 9 && month <= 11)\n",
    "        {\n",
    "            cout << \"秋季\" << endl;\n",
    "        }\n",
    "        else\n",
    "        {\n",
    "            cout << \"冬季\" << endl;\n",
    "        }\n",
    "        cout << \"是否继续？(yes/no)\";\n",
    "        cin >> retry;\n",
    "    } while (retry == \"yes\");\n",
    "}"
   ]
  },
  {
   "cell_type": "code",
   "execution_count": 3,
   "metadata": {
    "vscode": {
     "languageId": "cpp"
    }
   },
   "outputs": [
    {
     "name": "stdout",
     "output_type": "stream",
     "text": [
      "请输入月份：\n",
      "该月份是4月，属于春季\n",
      "是否继续？(yes/no)"
     ]
    },
    {
     "data": {
      "text/plain": [
       "0"
      ]
     },
     "execution_count": 3,
     "metadata": {},
     "output_type": "execute_result"
    }
   ],
   "source": [
    "main()"
   ]
  },
  {
   "cell_type": "code",
   "execution_count": 4,
   "metadata": {
    "vscode": {
     "languageId": "cpp"
    }
   },
   "outputs": [],
   "source": [
    "// 猜数游戏,猜一个0~99之间的数，直到猜中为止\n",
    "#include <cstdlib>\n",
    "#include <ctime>\n",
    "\n",
    "int main()\n",
    "{\n",
    "    srand(time(0));\n",
    "    int number = rand() % 100;\n",
    "    int guess;\n",
    "\n",
    "    do\n",
    "    {\n",
    "        cout << \"请输入你猜的数字：\\n\";\n",
    "        cout << \"一个0~99之间的数：\";\n",
    "        cin >> guess;\n",
    "\n",
    "        cout << \"你猜的数字是：\" << guess << endl;\n",
    "\n",
    "        if (guess > number)\n",
    "        {\n",
    "            cout << \"猜大了！\" << endl;\n",
    "        }\n",
    "        else if (guess < number)\n",
    "        {\n",
    "            cout << \"猜小了！\" << endl;\n",
    "        }\n",
    "\n",
    "    } while (guess != number);\n",
    "\n",
    "    cout << \"恭喜你，猜对了！\" << endl;\n",
    "}"
   ]
  },
  {
   "cell_type": "code",
   "execution_count": 5,
   "metadata": {
    "vscode": {
     "languageId": "cpp"
    }
   },
   "outputs": [
    {
     "name": "stdout",
     "output_type": "stream",
     "text": [
      "请输入你猜的数字：\n",
      "一个0~99之间的数：你猜的数字是：4\n",
      "猜小了！\n",
      "请输入你猜的数字：\n",
      "一个0~99之间的数：你猜的数字是：4\n",
      "猜小了！\n",
      "请输入你猜的数字：\n",
      "一个0~99之间的数：你猜的数字是：4\n",
      "猜小了！\n",
      "请输入你猜的数字：\n",
      "一个0~99之间的数：你猜的数字是：4\n",
      "猜小了！\n",
      "请输入你猜的数字：\n",
      "一个0~99之间的数：你猜的数字是：50\n",
      "猜小了！\n",
      "请输入你猜的数字：\n",
      "一个0~99之间的数：你猜的数字是：70\n",
      "猜小了！\n",
      "请输入你猜的数字：\n",
      "一个0~99之间的数：你猜的数字是：80\n",
      "猜大了！\n",
      "请输入你猜的数字：\n",
      "一个0~99之间的数：你猜的数字是：76\n",
      "恭喜你，猜对了！\n"
     ]
    },
    {
     "data": {
      "text/plain": [
       "0"
      ]
     },
     "execution_count": 5,
     "metadata": {},
     "output_type": "execute_result"
    }
   ],
   "source": [
    "main()"
   ]
  },
  {
   "cell_type": "code",
   "execution_count": 6,
   "metadata": {
    "vscode": {
     "languageId": "cpp"
    }
   },
   "outputs": [],
   "source": [
    "// 从正整数倒数到0\n",
    "\n",
    "int main()\n",
    "{\n",
    "    int n;\n",
    "    cout << \"请输入一个正整数：\";\n",
    "    \n",
    "    do\n",
    "    {\n",
    "        cin >> n;\n",
    "        if (n <= 0)\n",
    "        {\n",
    "            cout << \"输入错误，请重新输入：\";\n",
    "        }\n",
    "    } while (n <= 0);\n",
    "\n",
    "    for (int i = n; i >= 0; i--)\n",
    "    {\n",
    "        cout << i << \" \";\n",
    "    }\n",
    "    cout << endl;\n",
    "}"
   ]
  },
  {
   "cell_type": "code",
   "execution_count": 7,
   "metadata": {
    "vscode": {
     "languageId": "cpp"
    }
   },
   "outputs": [
    {
     "name": "stdout",
     "output_type": "stream",
     "text": [
      "请输入一个正整数：5 4 3 2 1 0 \n"
     ]
    },
    {
     "data": {
      "text/plain": [
       "0"
      ]
     },
     "execution_count": 7,
     "metadata": {},
     "output_type": "execute_result"
    }
   ],
   "source": [
    "main()"
   ]
  },
  {
   "cell_type": "markdown",
   "metadata": {},
   "source": [
    "`x++,x--` 使用了递增运算符和递减运算符"
   ]
  },
  {
   "cell_type": "code",
   "execution_count": 8,
   "metadata": {
    "vscode": {
     "languageId": "cpp"
    }
   },
   "outputs": [
    {
     "name": "stdout",
     "output_type": "stream",
     "text": [
      "original x = 1\n",
      "x = 0, y = 0\n"
     ]
    }
   ],
   "source": [
    "int x, y;\n",
    "\n",
    "x = 1;\n",
    "\n",
    "cout << \"original x = \" << x << endl;\n",
    "\n",
    "int chosen_key = 4;\n",
    "// y = x++;\n",
    "// y = ++x;\n",
    "// y = x--;\n",
    "// y = --x;\n",
    "switch (chosen_key){\n",
    "    case 1:\n",
    "        y = x++;\n",
    "        break;\n",
    "    case 2:\n",
    "        y = ++x;\n",
    "        break;\n",
    "    case 3:\n",
    "        y = x--;\n",
    "        break;\n",
    "    case 4:\n",
    "        y = --x;\n",
    "        break;\n",
    "    default:\n",
    "        break;\n",
    "}\n",
    "\n",
    "cout << \"x = \" << x << \", y = \" << y << endl;"
   ]
  },
  {
   "cell_type": "code",
   "execution_count": 9,
   "metadata": {
    "vscode": {
     "languageId": "cpp"
    }
   },
   "outputs": [],
   "source": [
    "// 显示输入整数的个数的*\n",
    "\n",
    "int main()\n",
    "{\n",
    "    int n;\n",
    "    cout << \"请输入一个正整数：\";\n",
    "    cin >> n;\n",
    "\n",
    "    cout << \"the number of * is \" << n << endl;\n",
    "    if (n <= 0)\n",
    "    {\n",
    "        cout << \"输入错误！\" << endl;\n",
    "        return 0;\n",
    "    }\n",
    "\n",
    "    // for (int i = 0; i < n; i++)\n",
    "    for (int i = 1; i <= n; i++)\n",
    "    {\n",
    "        cout << \"*\";\n",
    "    }\n",
    "    cout << endl;\n",
    "}"
   ]
  },
  {
   "cell_type": "code",
   "execution_count": 10,
   "metadata": {
    "vscode": {
     "languageId": "cpp"
    }
   },
   "outputs": [
    {
     "name": "stdout",
     "output_type": "stream",
     "text": [
      "请输入一个正整数：the number of * is 5\n",
      "*****\n"
     ]
    },
    {
     "data": {
      "text/plain": [
       "0"
      ]
     },
     "execution_count": 10,
     "metadata": {},
     "output_type": "execute_result"
    }
   ],
   "source": [
    "main()"
   ]
  },
  {
   "cell_type": "code",
   "execution_count": 11,
   "metadata": {
    "vscode": {
     "languageId": "cpp"
    }
   },
   "outputs": [],
   "source": [
    "// 读入数值并交替显示相应个数的 + 和 -,总的个数为输入的数值\n",
    "\n",
    "int main()\n",
    "{\n",
    "    int n;\n",
    "    cout << \"请输入一个正整数：\";\n",
    "    cin >> n;\n",
    "\n",
    "    cout << \"the number of + and - is \" << n << endl;\n",
    "    if (n <= 0)\n",
    "    {\n",
    "        cout << \"输入错误！\" << endl;\n",
    "        return 0;\n",
    "    }\n",
    "\n",
    "    for (int i = 0; i < n/2; i++)\n",
    "    {\n",
    "        cout << \"+-\";\n",
    "    }\n",
    "    if (n % 2 == 1)\n",
    "    {\n",
    "        cout << \"+\";\n",
    "    }\n",
    "    cout << endl;\n",
    "}"
   ]
  },
  {
   "cell_type": "code",
   "execution_count": 12,
   "metadata": {
    "vscode": {
     "languageId": "cpp"
    }
   },
   "outputs": [
    {
     "name": "stdout",
     "output_type": "stream",
     "text": [
      "请输入一个正整数：the number of + and - is 4\n",
      "+-+-\n"
     ]
    },
    {
     "data": {
      "text/plain": [
       "0"
      ]
     },
     "execution_count": 12,
     "metadata": {},
     "output_type": "execute_result"
    }
   ],
   "source": [
    "main()"
   ]
  },
  {
   "cell_type": "markdown",
   "metadata": {},
   "source": [
    "在赋值表达式中，既可以放在左边也可以放在右边的表达式称为左值表达式，不可以放在左边的 表达式称为右值表达式。"
   ]
  },
  {
   "cell_type": "code",
   "execution_count": 19,
   "metadata": {
    "vscode": {
     "languageId": "cpp"
    }
   },
   "outputs": [
    {
     "name": "stdout",
     "output_type": "stream",
     "text": [
      "x = 5\n"
     ]
    }
   ],
   "source": [
    "int x = 0;\n",
    "\n",
    "++x = 5; // ++x 是左值表达式,可以放在左边\n",
    "cout << \"x = \" << x << endl;"
   ]
  },
  {
   "cell_type": "code",
   "execution_count": 17,
   "metadata": {
    "vscode": {
     "languageId": "cpp"
    }
   },
   "outputs": [],
   "source": [
    "// x++ = 5; // x++ 是右值表达式,不能放在左边 error: expression is not assignable\n",
    "\n",
    "// cout << \"x = \" << x << endl;"
   ]
  },
  {
   "cell_type": "code",
   "execution_count": 20,
   "metadata": {
    "vscode": {
     "languageId": "cpp"
    }
   },
   "outputs": [],
   "source": [
    "// 读入正整数值,并逆向显示\n",
    "\n",
    "int main()\n",
    "{\n",
    "    int n;\n",
    "\n",
    "    cout << \"请输入一个正整数：\";\n",
    "    cin >> n;\n",
    "\n",
    "    cout << \"the number is \" << n << endl;\n",
    "\n",
    "    while (n <= 0)\n",
    "    {\n",
    "        cout << \"输入错误,请输入一个正整数！\" << endl;\n",
    "\n",
    "        cin >> n;\n",
    "    }\n",
    "\n",
    "    while (n > 0)\n",
    "    {\n",
    "        cout << n % 10;\n",
    "        n /= 10;\n",
    "    }\n",
    "}"
   ]
  },
  {
   "cell_type": "code",
   "execution_count": 23,
   "metadata": {
    "vscode": {
     "languageId": "cpp"
    }
   },
   "outputs": [
    {
     "name": "stdout",
     "output_type": "stream",
     "text": [
      "请输入一个正整数：the number is -4\n",
      "输入错误,请输入一个正整数！\n",
      "4"
     ]
    },
    {
     "data": {
      "text/plain": [
       "0"
      ]
     },
     "execution_count": 23,
     "metadata": {},
     "output_type": "execute_result"
    }
   ],
   "source": [
    "main()"
   ]
  },
  {
   "cell_type": "markdown",
   "metadata": {},
   "source": [
    "检查`for`循环中`i`的作用域"
   ]
  },
  {
   "cell_type": "code",
   "execution_count": 30,
   "metadata": {
    "vscode": {
     "languageId": "cpp"
    }
   },
   "outputs": [
    {
     "name": "stdout",
     "output_type": "stream",
     "text": [
      "1 address: 1\n",
      "2 address: 1\n",
      "3 address: 1\n",
      "4 address: 1\n",
      "5 address: 1\n",
      "6 address: 1\n",
      "7 address: 1\n",
      "8 address: 1\n",
      "9 address: 1\n",
      "i != 0\n"
     ]
    }
   ],
   "source": [
    "int i = 0;\n",
    "\n",
    "for (int  i = 1; i < 10; i++)\n",
    "{\n",
    "    cout << i << \" \" << \"address: \" << (static_cast<void*>(&i)) << endl; // Correctly display the address\n",
    "\n",
    "}\n",
    "cout << (i == 0 ? \"i == 0\" : \"i != 0\") << endl;"
   ]
  },
  {
   "cell_type": "code",
   "execution_count": 35,
   "metadata": {
    "vscode": {
     "languageId": "cpp"
    }
   },
   "outputs": [
    {
     "name": "stdout",
     "output_type": "stream",
     "text": [
      "---------"
     ]
    }
   ],
   "source": [
    "for (int i = 1; i < 10; i++)\n",
    "    cout << '-';"
   ]
  },
  {
   "cell_type": "code",
   "execution_count": 36,
   "metadata": {
    "vscode": {
     "languageId": "cpp"
    }
   },
   "outputs": [
    {
     "name": "stdout",
     "output_type": "stream",
     "text": [
      "请输入一个正整数：1 3 5 7 9 11 13 15 17 19 21 "
     ]
    },
    {
     "data": {
      "text/plain": [
       "0"
      ]
     },
     "execution_count": 36,
     "metadata": {},
     "output_type": "execute_result"
    }
   ],
   "source": [
    "// 读入正整数,并显示小于等于该值的奇数\n",
    "\n",
    "int main()\n",
    "{\n",
    "    int n;\n",
    "\n",
    "    cout << \"请输入一个正整数：\";\n",
    "    cin >> n;\n",
    "\n",
    "    for (int i = 1; i <= n; i += 2)\n",
    "    {\n",
    "        cout << i << \" \";\n",
    "    }\n",
    "}\n",
    "\n",
    "main()"
   ]
  },
  {
   "cell_type": "code",
   "execution_count": 38,
   "metadata": {
    "vscode": {
     "languageId": "cpp"
    }
   },
   "outputs": [
    {
     "name": "stdout",
     "output_type": "stream",
     "text": [
      "请输入一个正整数：35的约数有：1 5 7 35 \n"
     ]
    },
    {
     "data": {
      "text/plain": [
       "0"
      ]
     },
     "execution_count": 38,
     "metadata": {},
     "output_type": "execute_result"
    }
   ],
   "source": [
    "// 读入正整数,并显示它的约数\n",
    "\n",
    "int main()\n",
    "{\n",
    "    int n;\n",
    "\n",
    "    cout << \"请输入一个正整数：\";\n",
    "    cin >> n;\n",
    "\n",
    "    cout << n << \"的约数有：\";\n",
    "    for (int i = 1; i <= n; i++)\n",
    "    {\n",
    "        if (n % i == 0)\n",
    "        {\n",
    "            cout << i << \" \";\n",
    "        }\n",
    "    }\n",
    "    cout << endl;\n",
    "}\n",
    "\n",
    "main()"
   ]
  },
  {
   "cell_type": "code",
   "execution_count": 42,
   "metadata": {
    "vscode": {
     "languageId": "cpp"
    }
   },
   "outputs": [
    {
     "name": "stdout",
     "output_type": "stream",
     "text": [
      "  1  2  3  4  5  6  7  8  9\n",
      "  2  4  6  8 10 12 14 16 18\n",
      "  3  6  9 12 15 18 21 24 27\n",
      "  4  8 12 16 20 24 28 32 36\n",
      "  5 10 15 20 25 30 35 40 45\n",
      "  6 12 18 24 30 36 42 48 54\n",
      "  7 14 21 28 35 42 49 56 63\n",
      "  8 16 24 32 40 48 56 64 72\n",
      "  9 18 27 36 45 54 63 72 81\n"
     ]
    },
    {
     "data": {
      "text/plain": [
       "0"
      ]
     },
     "execution_count": 42,
     "metadata": {},
     "output_type": "execute_result"
    }
   ],
   "source": [
    "// 显示九九乘法表\n",
    "#include <iomanip>\n",
    "int main()\n",
    "{\n",
    "    // for (int i = 1; i <= 9; i++)\n",
    "    // {\n",
    "    //     for (int j = 1; j <= i; j++)\n",
    "    //     {\n",
    "    //         cout << j << \" * \" << i << \" = \" << (i * j) << \" \";\n",
    "    //     }\n",
    "    //     cout << endl;\n",
    "    // }\n",
    "\n",
    "    for (int i = 1; i <= 9; i++)\n",
    "    {\n",
    "        for (int j = 1; j <= 9; j++)\n",
    "        {\n",
    "            cout << setw(3) << (i * j) ;\n",
    "        }\n",
    "        cout << endl;\n",
    "    }\n",
    "}\n",
    "main()"
   ]
  },
  {
   "cell_type": "code",
   "execution_count": 45,
   "metadata": {
    "vscode": {
     "languageId": "cpp"
    }
   },
   "outputs": [
    {
     "name": "stdout",
     "output_type": "stream",
     "text": [
      "请输入一个正整数：\n",
      "     *\n",
      "    **\n",
      "   ***\n",
      "  ****\n",
      " *****\n",
      "******\n"
     ]
    },
    {
     "data": {
      "text/plain": [
       "0"
      ]
     },
     "execution_count": 45,
     "metadata": {},
     "output_type": "execute_result"
    }
   ],
   "source": [
    "// 显示左下侧为直角的等腰直角三角形\n",
    "\n",
    "// int main()\n",
    "// {\n",
    "//     int n;\n",
    "\n",
    "//     cout << \"请输入一个正整数：\\n\";\n",
    "//     cin >> n;\n",
    "\n",
    "//     for (int i = 1; i <= n; i++)\n",
    "//     {\n",
    "//         for (int j = 1; j <= i; j++)\n",
    "//         {\n",
    "//             cout << \"*\";\n",
    "//         }\n",
    "//         cout << endl;\n",
    "//     }\n",
    "// }\n",
    "\n",
    "// 显示右下侧为直角的等腰直角三角形\n",
    "\n",
    "int main()\n",
    "{\n",
    "    int n;\n",
    "\n",
    "    cout << \"请输入一个正整数：\\n\";\n",
    "    cin >> n;\n",
    "\n",
    "    for (int i = 1; i <= n; i++)\n",
    "    {\n",
    "        for (int j = 1; j <= n - i; j++)\n",
    "        {\n",
    "            cout << \" \";\n",
    "        }\n",
    "        for (int j = 1; j <= i; j++)\n",
    "        {\n",
    "            cout << \"*\";\n",
    "        }\n",
    "        cout << endl;\n",
    "    }\n",
    "}\n",
    "\n",
    "\n",
    "main()"
   ]
  },
  {
   "cell_type": "code",
   "execution_count": 52,
   "metadata": {
    "vscode": {
     "languageId": "cpp"
    }
   },
   "outputs": [
    {
     "name": "stdout",
     "output_type": "stream",
     "text": [
      "请输入整数个数：预计输入10个整数：请输入一个整数：n = 452\n",
      "请输入一个整数：n = 234\n",
      "请输入一个整数：n = 243\n",
      "请输入一个整数：n = 243\n",
      "总和为：929\n"
     ]
    },
    {
     "data": {
      "text/plain": [
       "0"
      ]
     },
     "execution_count": 52,
     "metadata": {},
     "output_type": "execute_result"
    }
   ],
   "source": [
    "// 读入整数并执行加法运算（输入 0 则结束）\n",
    "\n",
    "// int main()\n",
    "// {\n",
    "//     int sum = 0;\n",
    "//     int n;\n",
    "\n",
    "//     do\n",
    "//     {\n",
    "//         cout << \"请输入一个整数：\";\n",
    "//         cin >> n;\n",
    "//         sum += n;\n",
    "//     } while (n != 0);\n",
    "\n",
    "//     cout << \"总和为：\" << sum << endl;\n",
    "// }\n",
    "\n",
    "// 读入整数并执行加法运算（输入 0 则结束）,输入的整数个数也是需要输入的\n",
    "\n",
    "int main()\n",
    "{\n",
    "    int sum = 0;\n",
    "    int n;\n",
    "    int count = 0;\n",
    "\n",
    "    cout << \"请输入整数个数：\";\n",
    "    cin >> count;\n",
    "\n",
    "    cout << \"预计输入\" << count << \"个整数：\";\n",
    "\n",
    "    for (int i = 0; i < count; i++)\n",
    "    {\n",
    "        cout << \"请输入一个整数：\";\n",
    "        cin >> n;\n",
    "\n",
    "        cout << \"n = \" << n << endl;\n",
    "        if (n == 0)\n",
    "        {\n",
    "            break;\n",
    "        }\n",
    "\n",
    "        if ((sum + n) > 1000) // 限制总和不超过1000\n",
    "        {\n",
    "\n",
    "            break;\n",
    "        }\n",
    "\n",
    "        sum += n;\n",
    "    }\n",
    "\n",
    "    cout << \"总和为：\" << sum << endl;\n",
    "}\n",
    "\n",
    "\n",
    "\n",
    "main()"
   ]
  },
  {
   "cell_type": "markdown",
   "metadata": {},
   "source": [
    "在 C++ 中，`goto` 语句后面可以跟任何你自定义的标签名，它不限于使用 `Exit` 这个词。标签可以是除了C++关键字以外的任何有效的标识符。因此，你可以使用 `xit` 或任何其他名字作为你的跳转目标，只要这个标签在相同的函数内被定义了。\n",
    "\n",
    "例如，如果你想使用 `xit` 作为标签，你的代码可以这样写：\n",
    "\n",
    "```cpp\n",
    "#include <iostream>\n",
    "\n",
    "int main() {\n",
    "    int n;          // 要相加的整数的个数\n",
    "    std::cout << \"对整数执行加法运算。\\n\";\n",
    "    std::cout << \"要相加的整数的个数：\";\n",
    "    std::cin >> n;\n",
    "    std::cout << \"输入9999则强制结束。\\n\";\n",
    "\n",
    "    int sum = 0;    // 运算结果\n",
    "    for (int i = 0; i < n; i++) {\n",
    "        int t;\n",
    "        std::cout << \"整数：\";\n",
    "        std::cin >> t;\n",
    "        if (t == 9999)\n",
    "            goto xit;  // 使用自定义标签\n",
    "        sum += t;\n",
    "    }\n",
    "    std::cout << \"运算结果是\" << sum << \"。\\n\";\n",
    "\n",
    "xit:    ;  // 自定义标签\n",
    "}\n",
    "```\n",
    "\n",
    "在这个例子中，当输入9999时，程序将执行 `goto xit;` 语句，跳转到同一函数中定义的 `xit` 标签处。这样的跳转可以用于控制流的非线性路径，但要注意，过度或不恰当地使用 `goto` 可能会使程序难以理解和维护，因此一般推荐尽可能使用其他结构化的控制流语句（如循环和条件语句）来替代。"
   ]
  },
  {
   "cell_type": "code",
   "execution_count": 2,
   "metadata": {
    "vscode": {
     "languageId": "cpp"
    }
   },
   "outputs": [],
   "source": [
    "\n",
    "\n",
    "#include <iostream>\n",
    "\n",
    "using namespace std;\n"
   ]
  },
  {
   "cell_type": "code",
   "execution_count": 7,
   "metadata": {
    "vscode": {
     "languageId": "cpp"
    }
   },
   "outputs": [
    {
     "name": "stdout",
     "output_type": "stream",
     "text": [
      "对整数执行加法运算。\n",
      "要相加的整数的个数：输入9999则强制结束。\n",
      "整数：强制结束。\n"
     ]
    },
    {
     "data": {
      "text/plain": [
       "0"
      ]
     },
     "execution_count": 7,
     "metadata": {},
     "output_type": "execute_result"
    }
   ],
   "source": [
    "// 读入整数并执行加法运算（输入9999则强制结束）\n",
    "\n",
    "int main()\n",
    "{\n",
    "\tint n;\t\t\t// 要相加的整数的个数\n",
    "\tcout << \"对整数执行加法运算。\\n\";\n",
    "\tcout << \"要相加的整数的个数：\";\n",
    "\tcin >> n;\n",
    "\tcout << \"输入9999则强制结束。\\n\";\n",
    "\n",
    "\tint sum = 0;\t// 运算结果\n",
    "\tfor (int i = 0; i < n; i++) {\n",
    "\t\tint t;\n",
    "\t\tcout << \"整数：\";\n",
    "\t\tcin >> t;\n",
    "\t\tif (t == 9999)\n",
    "\t\t\tgoto Exit;\n",
    "\t\tsum += t;\n",
    "\t}\n",
    "\tcout << \"运算结果是\" << sum << \"。\\n\";\n",
    "\n",
    "Exit:\n",
    "\t\tcout << \"强制结束。\\n\";\n",
    "\t\t;\n",
    "}\n",
    "\n",
    "main()"
   ]
  },
  {
   "cell_type": "markdown",
   "metadata": {},
   "source": [
    "在 C++ 中，标签（如在 `goto` 语句中使用的 `Exit`）通常位于其所在行的最左侧，没有缩进。这是一种编程风格上的选择，目的是为了让标签在代码中更加突出和易于识别。将标签放在最左侧有助于快速区分代码的结构控制部分和常规的执行代码块。\n",
    "\n",
    "这种风格有几个好处：\n",
    "1. **可读性提高**：标签独立于代码块，清楚地显示程序中的跳转点，让读者一目了然。\n",
    "2. **维护性改善**：当需要修改或查找标签时，因为它们在视觉上与其他代码区分开，所以查找和修改都相对容易。\n",
    "\n",
    "虽然将标签放在最左侧是常见的做法，但这并不是强制的规则。在某些代码样式中，标签可能会与其后的代码具有相同的缩进级别，这取决于团队或项目的具体编码规范。\n",
    "\n",
    "总之，如何放置标签主要取决于你或你的团队选择的代码风格指南，但将其放在最左侧是为了增强代码的清晰度和易于维护性。"
   ]
  },
  {
   "cell_type": "code",
   "execution_count": 9,
   "metadata": {
    "vscode": {
     "languageId": "cpp"
    }
   },
   "outputs": [
    {
     "name": "stdout",
     "output_type": "stream",
     "text": [
      "请输入一个正整数：面积为32的长方形的边长为：\n",
      "1 * 32\n",
      "2 * 16\n",
      "4 * 8\n"
     ]
    },
    {
     "data": {
      "text/plain": [
       "0"
      ]
     },
     "execution_count": 9,
     "metadata": {},
     "output_type": "execute_result"
    }
   ],
   "source": [
    "// 列举面积为n且长和宽为整数的长方形的边长\n",
    "\n",
    "int main()\n",
    "{\n",
    "    int n;\n",
    "\n",
    "    cout << \"请输入一个正整数：\";\n",
    "    cin >> n;\n",
    "    cout << \"面积为\" << n << \"的长方形的边长为：\" << endl;\n",
    "\n",
    "    for (int i = 1; (i*i) <= n; i++)\n",
    "    {\n",
    "        if (n % i == 0)\n",
    "        {\n",
    "            cout << i << \" * \" << n / i << endl;\n",
    "        }\n",
    "    }\n",
    "}\n",
    "\n",
    "main()\n"
   ]
  },
  {
   "cell_type": "code",
   "execution_count": 1,
   "metadata": {
    "vscode": {
     "languageId": "cpp"
    }
   },
   "outputs": [],
   "source": [
    "// summary\n",
    "\n",
    "#include <iomanip>\n",
    "#include <iostream>\n",
    "\n",
    "using namespace std;\n"
   ]
  },
  {
   "cell_type": "code",
   "execution_count": 2,
   "metadata": {
    "vscode": {
     "languageId": "cpp"
    }
   },
   "outputs": [
    {
     "name": "stdout",
     "output_type": "stream",
     "text": [
      "正整数值:4 5\n",
      "3 6\n",
      "2 7\n",
      "1 8\n",
      "0 9\n",
      "长和宽为整数且面积为\"4\"的长方形的边长：\n",
      "1 * 4\n",
      "2 * 2\n",
      "'''''''\n",
      "'''''''\n",
      "'''''''\n",
      "'''''''\n",
      "'''''''\n"
     ]
    },
    {
     "data": {
      "text/plain": [
       "0"
      ]
     },
     "execution_count": 2,
     "metadata": {},
     "output_type": "execute_result"
    }
   ],
   "source": [
    "\n",
    "\n",
    "int main()\n",
    "{\n",
    "\tint x;\n",
    "\tdo {\n",
    "\t\tcout << \"正整数值:\";\n",
    "\t\tcin >> x;\n",
    "\t} while (x <= 0);\n",
    "\n",
    "\tint y = x;\n",
    "\tint z = x;\n",
    "\twhile (y >= 0)\n",
    "\t\tcout << y-- << \" \" << ++z << '\\n';\n",
    "\n",
    "\tcout << \"长和宽为整数且面积为\\\"\" << x\n",
    "\t\t << \"\\\"的长方形的边长：\\n\";\n",
    "\tfor (int i = 1; i < x; i++) {\n",
    "\t\tif (i * i > x) break;\t\t// break语句\n",
    "\t\tif (x % i != 0) continue;\t// continue语句\n",
    "\t\tcout << i << \" * \" << x / i << '\\n';\n",
    "\t}\n",
    "\n",
    "\tfor (int i = 1; i <= 5; i++) {\n",
    "\t\tfor (int j = 1; j <= 7; j++)\n",
    "\t\t\tcout << '\\'';\n",
    "\t\tcout << '\\n';\n",
    "\t}\n",
    "}\n",
    "\n",
    "main()"
   ]
  }
 ],
 "metadata": {
  "kernelspec": {
   "display_name": "C++17",
   "language": "C++17",
   "name": "xcpp17"
  },
  "language_info": {
   "codemirror_mode": "text/x-c++src",
   "file_extension": ".cpp",
   "mimetype": "text/x-c++src",
   "name": "c++",
   "version": "17"
  }
 },
 "nbformat": 4,
 "nbformat_minor": 2
}
