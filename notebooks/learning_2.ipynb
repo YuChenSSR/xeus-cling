{
 "cells": [
  {
   "cell_type": "markdown",
   "metadata": {
    "vscode": {
     "languageId": "cpp"
    }
   },
   "source": [
    "# 程序流的循环"
   ]
  },
  {
   "cell_type": "code",
   "execution_count": 1,
   "metadata": {
    "vscode": {
     "languageId": "cpp"
    }
   },
   "outputs": [],
   "source": [
    "#include <iostream>\n",
    "\n",
    "using namespace std;\n"
   ]
  },
  {
   "cell_type": "code",
   "execution_count": 7,
   "metadata": {
    "vscode": {
     "languageId": "cpp"
    }
   },
   "outputs": [],
   "source": [
    "// 显示读入的月份是什么季节,可以循环任意次\n",
    "#include <string>\n",
    "int main()\n",
    "{\n",
    "    string retry;\n",
    "    do\n",
    "    {\n",
    "        int month;\n",
    "        cout << \"请输入月份：\\n\";\n",
    "        cin >> month;\n",
    "\n",
    "        cout << \"该月份是\" << month << \"月，属于\";\n",
    "        if (month < 1 || month > 12)\n",
    "        {\n",
    "            cout << \"输入错误！\" << endl;\n",
    "            continue;\n",
    "        }\n",
    "        if (month >= 3 && month <= 5)\n",
    "        {\n",
    "            cout << \"春季\" << endl;\n",
    "        }\n",
    "        else if (month >= 6 && month <= 8)\n",
    "        {\n",
    "            cout << \"夏季\" << endl;\n",
    "        }\n",
    "        else if (month >= 9 && month <= 11)\n",
    "        {\n",
    "            cout << \"秋季\" << endl;\n",
    "        }\n",
    "        else\n",
    "        {\n",
    "            cout << \"冬季\" << endl;\n",
    "        }\n",
    "        cout << \"是否继续？(yes/no)\";\n",
    "        cin >> retry;\n",
    "    } while (retry == \"yes\");\n",
    "}"
   ]
  },
  {
   "cell_type": "code",
   "execution_count": 8,
   "metadata": {
    "vscode": {
     "languageId": "cpp"
    }
   },
   "outputs": [
    {
     "name": "stdout",
     "output_type": "stream",
     "text": [
      "请输入月份：\n",
      "该月份是8月，属于夏季\n",
      "是否继续？(yes/no)"
     ]
    },
    {
     "data": {
      "text/plain": [
       "0"
      ]
     },
     "execution_count": 8,
     "metadata": {},
     "output_type": "execute_result"
    }
   ],
   "source": [
    "main()"
   ]
  },
  {
   "cell_type": "code",
   "execution_count": 13,
   "metadata": {
    "vscode": {
     "languageId": "cpp"
    }
   },
   "outputs": [],
   "source": [
    "// 猜数游戏,猜一个0~99之间的数，直到猜中为止\n",
    "#include <cstdlib>\n",
    "#include <ctime>\n",
    "\n",
    "int main()\n",
    "{\n",
    "    srand(time(0));\n",
    "    int number = rand() % 100;\n",
    "    int guess;\n",
    "\n",
    "    do\n",
    "    {\n",
    "        cout << \"请输入你猜的数字：\\n\";\n",
    "        cout << \"一个0~99之间的数：\";\n",
    "        cin >> guess;\n",
    "\n",
    "        cout << \"你猜的数字是：\" << guess << endl;\n",
    "\n",
    "        if (guess > number)\n",
    "        {\n",
    "            cout << \"猜大了！\" << endl;\n",
    "        }\n",
    "        else if (guess < number)\n",
    "        {\n",
    "            cout << \"猜小了！\" << endl;\n",
    "        }\n",
    "\n",
    "    } while (guess != number);\n",
    "\n",
    "    cout << \"恭喜你，猜对了！\" << endl;\n",
    "}"
   ]
  },
  {
   "cell_type": "code",
   "execution_count": 15,
   "metadata": {
    "vscode": {
     "languageId": "cpp"
    }
   },
   "outputs": [
    {
     "name": "stdout",
     "output_type": "stream",
     "text": [
      "请输入你猜的数字：\n",
      "一个0~99之间的数：你猜的数字是：50\n",
      "猜大了！\n",
      "请输入你猜的数字：\n",
      "一个0~99之间的数：你猜的数字是：30\n",
      "猜大了！\n",
      "请输入你猜的数字：\n",
      "一个0~99之间的数：你猜的数字是：20\n",
      "猜大了！\n",
      "请输入你猜的数字：\n",
      "一个0~99之间的数：你猜的数字是：10\n",
      "猜大了！\n",
      "请输入你猜的数字：\n",
      "一个0~99之间的数：你猜的数字是：5\n",
      "猜小了！\n",
      "请输入你猜的数字：\n",
      "一个0~99之间的数：你猜的数字是：7\n",
      "猜小了！\n",
      "请输入你猜的数字：\n",
      "一个0~99之间的数：你猜的数字是：8\n",
      "猜小了！\n",
      "请输入你猜的数字：\n",
      "一个0~99之间的数：你猜的数字是：9\n",
      "恭喜你，猜对了！\n"
     ]
    },
    {
     "data": {
      "text/plain": [
       "0"
      ]
     },
     "execution_count": 15,
     "metadata": {},
     "output_type": "execute_result"
    }
   ],
   "source": [
    "main()"
   ]
  },
  {
   "cell_type": "code",
   "execution_count": 18,
   "metadata": {
    "vscode": {
     "languageId": "cpp"
    }
   },
   "outputs": [],
   "source": [
    "// 从正整数倒数到0\n",
    "\n",
    "int main()\n",
    "{\n",
    "    int n;\n",
    "    cout << \"请输入一个正整数：\";\n",
    "    \n",
    "    do\n",
    "    {\n",
    "        cin >> n;\n",
    "        if (n <= 0)\n",
    "        {\n",
    "            cout << \"输入错误，请重新输入：\";\n",
    "        }\n",
    "    } while (n <= 0);\n",
    "\n",
    "    for (int i = n; i >= 0; i--)\n",
    "    {\n",
    "        cout << i << \" \";\n",
    "    }\n",
    "    cout << endl;\n",
    "}"
   ]
  },
  {
   "cell_type": "code",
   "execution_count": 19,
   "metadata": {
    "vscode": {
     "languageId": "cpp"
    }
   },
   "outputs": [
    {
     "name": "stdout",
     "output_type": "stream",
     "text": [
      "请输入一个正整数：输入错误，请重新输入：9 8 7 6 5 4 3 2 1 0 \n"
     ]
    },
    {
     "data": {
      "text/plain": [
       "0"
      ]
     },
     "execution_count": 19,
     "metadata": {},
     "output_type": "execute_result"
    }
   ],
   "source": [
    "main()"
   ]
  },
  {
   "cell_type": "markdown",
   "metadata": {},
   "source": [
    "`x++,x--` 使用了递增运算符和递减运算符"
   ]
  },
  {
   "cell_type": "code",
   "execution_count": 29,
   "metadata": {
    "vscode": {
     "languageId": "cpp"
    }
   },
   "outputs": [
    {
     "name": "stdout",
     "output_type": "stream",
     "text": [
      "original x = 1\n",
      "x = 0, y = 0\n"
     ]
    }
   ],
   "source": [
    "int x, y;\n",
    "\n",
    "x = 1;\n",
    "\n",
    "cout << \"original x = \" << x << endl;\n",
    "\n",
    "int chosen_key = 4;\n",
    "// y = x++;\n",
    "// y = ++x;\n",
    "// y = x--;\n",
    "// y = --x;\n",
    "switch (chosen_key){\n",
    "    case 1:\n",
    "        y = x++;\n",
    "        break;\n",
    "    case 2:\n",
    "        y = ++x;\n",
    "        break;\n",
    "    case 3:\n",
    "        y = x--;\n",
    "        break;\n",
    "    case 4:\n",
    "        y = --x;\n",
    "        break;\n",
    "    default:\n",
    "        break;\n",
    "}\n",
    "\n",
    "cout << \"x = \" << x << \", y = \" << y << endl;"
   ]
  },
  {
   "cell_type": "code",
   "execution_count": 34,
   "metadata": {
    "vscode": {
     "languageId": "cpp"
    }
   },
   "outputs": [],
   "source": [
    "// 显示输入整数的个数的*\n",
    "\n",
    "int main()\n",
    "{\n",
    "    int n;\n",
    "    cout << \"请输入一个正整数：\";\n",
    "    cin >> n;\n",
    "\n",
    "    cout << \"the number of * is \" << n << endl;\n",
    "    if (n <= 0)\n",
    "    {\n",
    "        cout << \"输入错误！\" << endl;\n",
    "        return 0;\n",
    "    }\n",
    "\n",
    "    // for (int i = 0; i < n; i++)\n",
    "    for (int i = 1; i <= n; i++)\n",
    "    {\n",
    "        cout << \"*\";\n",
    "    }\n",
    "    cout << endl;\n",
    "}"
   ]
  },
  {
   "cell_type": "code",
   "execution_count": 36,
   "metadata": {
    "vscode": {
     "languageId": "cpp"
    }
   },
   "outputs": [
    {
     "name": "stdout",
     "output_type": "stream",
     "text": [
      "请输入一个正整数：the number of * is -4\n",
      "输入错误！\n"
     ]
    },
    {
     "data": {
      "text/plain": [
       "0"
      ]
     },
     "execution_count": 36,
     "metadata": {},
     "output_type": "execute_result"
    }
   ],
   "source": [
    "main()"
   ]
  },
  {
   "cell_type": "code",
   "execution_count": null,
   "metadata": {
    "vscode": {
     "languageId": "cpp"
    }
   },
   "outputs": [],
   "source": []
  }
 ],
 "metadata": {
  "kernelspec": {
   "display_name": "C++17",
   "language": "C++17",
   "name": "xcpp17"
  },
  "language_info": {
   "codemirror_mode": "text/x-c++src",
   "file_extension": ".cpp",
   "mimetype": "text/x-c++src",
   "name": "c++",
   "version": "17"
  }
 },
 "nbformat": 4,
 "nbformat_minor": 2
}
