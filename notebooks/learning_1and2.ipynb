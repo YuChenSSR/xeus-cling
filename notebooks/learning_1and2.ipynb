{
 "cells": [
  {
   "cell_type": "code",
   "execution_count": 2,
   "metadata": {
    "vscode": {
     "languageId": "cpp"
    }
   },
   "outputs": [],
   "source": [
    "// 在画面上输出\n",
    "\n",
    "#include <iostream>\n",
    "\n",
    "using namespace std;\n",
    "\n"
   ]
  },
  {
   "cell_type": "code",
   "execution_count": 3,
   "metadata": {
    "vscode": {
     "languageId": "cpp"
    }
   },
   "outputs": [],
   "source": [
    "// #include <iostream> // Include for I/O operations\n",
    "\n",
    "int main()\n",
    "{\n",
    "    const double PI = 3.1416;   // 圆周率\n",
    "    int r;                      // 半径\n",
    "\n",
    "    cout << \"半径：\";            // 提示输入半径\n",
    "    cin >> r;                    // 读入半径\n",
    "\n",
    "    cout << \"周长是\" << (2 * PI * r) << \"。\\n\";       // 周长\n",
    "    cout << \"面积是\" << (PI * r * r) << \"。\\n\";       // 面积\n",
    "}\n"
   ]
  },
  {
   "cell_type": "code",
   "execution_count": 4,
   "metadata": {
    "vscode": {
     "languageId": "cpp"
    }
   },
   "outputs": [
    {
     "name": "stdout",
     "output_type": "stream",
     "text": [
      "半径：周长是25.1328。\n",
      "面积是50.2656。\n"
     ]
    },
    {
     "data": {
      "text/plain": [
       "0"
      ]
     },
     "execution_count": 4,
     "metadata": {},
     "output_type": "execute_result"
    }
   ],
   "source": [
    "main()"
   ]
  },
  {
   "cell_type": "code",
   "execution_count": 5,
   "metadata": {
    "vscode": {
     "languageId": "cpp"
    }
   },
   "outputs": [],
   "source": [
    "int main()\n",
    "{\n",
    "    int n;\n",
    "\n",
    "    cout << \"请输入一个整数：\";\n",
    "    cin >> n;\n",
    "\n",
    "    if (n>0)\n",
    "        cout << \"这个数是正数。\\n\";\n",
    "    else if (n<0)\n",
    "        cout << \"这个数是负数。\\n\";\n",
    "    else\n",
    "        cout << \"这个数是0。\\n\";\n",
    "}"
   ]
  },
  {
   "cell_type": "code",
   "execution_count": 6,
   "metadata": {
    "vscode": {
     "languageId": "cpp"
    }
   },
   "outputs": [
    {
     "name": "stdout",
     "output_type": "stream",
     "text": [
      "请输入一个整数：这个数是正数。\n"
     ]
    },
    {
     "data": {
      "text/plain": [
       "0"
      ]
     },
     "execution_count": 6,
     "metadata": {},
     "output_type": "execute_result"
    }
   ],
   "source": [
    "main()"
   ]
  },
  {
   "cell_type": "code",
   "execution_count": 7,
   "metadata": {
    "vscode": {
     "languageId": "cpp"
    }
   },
   "outputs": [
    {
     "name": "stdout",
     "output_type": "stream",
     "text": [
      "a 小于 b。"
     ]
    }
   ],
   "source": [
    "int a=10, b=20, c=15, d=5;\n",
    "\n",
    "if (a < b) cout << \"a 小于 b。\";\n"
   ]
  },
  {
   "cell_type": "code",
   "execution_count": 8,
   "metadata": {
    "vscode": {
     "languageId": "cpp"
    }
   },
   "outputs": [],
   "source": [
    "if (c > d){} else b = 3;"
   ]
  },
  {
   "cell_type": "code",
   "execution_count": 9,
   "metadata": {
    "vscode": {
     "languageId": "cpp"
    }
   },
   "outputs": [],
   "source": [
    "//  two input integers are equal?\n",
    "\n",
    "int main()\n",
    "{\n",
    "    int a, b;\n",
    "\n",
    "    cout << \"请输入两个整数：\";\n",
    "    cin >> a >> b;\n",
    "\n",
    "    if (a == b)\n",
    "        cout << \"这两个数相等。\\n\";\n",
    "    else\n",
    "        cout << \"这两个数不相等。\\n\";\n",
    "}"
   ]
  },
  {
   "cell_type": "code",
   "execution_count": 10,
   "metadata": {
    "vscode": {
     "languageId": "cpp"
    }
   },
   "outputs": [
    {
     "name": "stdout",
     "output_type": "stream",
     "text": [
      "请输入两个整数：这两个数相等。\n"
     ]
    },
    {
     "data": {
      "text/plain": [
       "0"
      ]
     },
     "execution_count": 10,
     "metadata": {},
     "output_type": "execute_result"
    }
   ],
   "source": [
    "main()"
   ]
  },
  {
   "cell_type": "code",
   "execution_count": 11,
   "metadata": {
    "vscode": {
     "languageId": "cpp"
    }
   },
   "outputs": [],
   "source": [
    "// input integer is 0 or not?\n",
    "\n",
    "int main()\n",
    "{\n",
    "    int n;\n",
    "\n",
    "    cout << \"请输入一个整数：\";\n",
    "    cin >> n;\n",
    "\n",
    "    if (!n)\n",
    "        cout << \"这个数是0。\\n\";\n",
    "    else\n",
    "        cout << \"这个数不是0。\\n\";\n",
    "}"
   ]
  },
  {
   "cell_type": "code",
   "execution_count": 12,
   "metadata": {
    "vscode": {
     "languageId": "cpp"
    }
   },
   "outputs": [
    {
     "name": "stdout",
     "output_type": "stream",
     "text": [
      "请输入一个整数：这个数不是0。\n"
     ]
    },
    {
     "data": {
      "text/plain": [
       "0"
      ]
     },
     "execution_count": 12,
     "metadata": {},
     "output_type": "execute_result"
    }
   ],
   "source": [
    "main()"
   ]
  },
  {
   "cell_type": "code",
   "execution_count": 13,
   "metadata": {
    "vscode": {
     "languageId": "cpp"
    }
   },
   "outputs": [],
   "source": [
    "// judge the input integer is positive or not, and judge the input integer is even or not,show the result\n",
    "\n",
    "int main()\n",
    "{\n",
    "    int n;\n",
    "\n",
    "    cout << \"请输入一个整数：\\n\";\n",
    "    cin >> n;\n",
    "\n",
    "    if (n > 0)\n",
    "    {\n",
    "        cout << \"这个数是正数。\\n\";\n",
    "        if (n % 2 == 0)\n",
    "            cout << \"这个数是偶数。\\n\";\n",
    "        else\n",
    "            cout << \"这个数是奇数。\\n\";\n",
    "    }\n",
    "    else\n",
    "        cout << \"\\a这个数不是正数。\\n\";\n",
    "}"
   ]
  },
  {
   "cell_type": "code",
   "execution_count": 14,
   "metadata": {
    "vscode": {
     "languageId": "cpp"
    }
   },
   "outputs": [
    {
     "name": "stdout",
     "output_type": "stream",
     "text": [
      "请输入一个整数：\n",
      "这个数是正数。\n",
      "这个数是偶数。\n"
     ]
    },
    {
     "data": {
      "text/plain": [
       "0"
      ]
     },
     "execution_count": 14,
     "metadata": {},
     "output_type": "execute_result"
    }
   ],
   "source": [
    "main()"
   ]
  },
  {
   "cell_type": "code",
   "execution_count": 15,
   "metadata": {
    "vscode": {
     "languageId": "cpp"
    }
   },
   "outputs": [
    {
     "name": "stdout",
     "output_type": "stream",
     "text": [
      "这个数不是0。\n"
     ]
    }
   ],
   "source": [
    "int n = 4;\n",
    "\n",
    "if (n==0){\n",
    "\n",
    "}\n",
    "else \n",
    "    cout << \"这个数不是0。\\n\";\n"
   ]
  },
  {
   "cell_type": "code",
   "execution_count": 16,
   "metadata": {
    "vscode": {
     "languageId": "cpp"
    }
   },
   "outputs": [
    {
     "name": "stderr",
     "output_type": "stream",
     "text": [
      "input_line_33:4:40: warning: implicit conversion from 'double' to 'int' changes value from 2.78 to 2 [-Wliteral-conversion]\n",
      "cout << \"expression value is \" << (x = 2.78); // 对表达式求值,\n",
      "                                     ~ ^~~~\n"
     ]
    },
    {
     "name": "stdout",
     "output_type": "stream",
     "text": [
      "expression value is 2"
     ]
    },
    {
     "data": {
      "text/plain": [
       "@0x7f91ef6c0de0"
      ]
     },
     "execution_count": 16,
     "metadata": {},
     "output_type": "execute_result"
    }
   ],
   "source": [
    "int x = 5;\n",
    "// x = 2.78; // 对表达式求值,可得到int型的值2\n",
    "\n",
    "\n",
    "cout << \"expression value is \" << (x = 2.78); // 对表达式求值,\n"
   ]
  },
  {
   "cell_type": "code",
   "execution_count": 17,
   "metadata": {
    "vscode": {
     "languageId": "cpp"
    }
   },
   "outputs": [
    {
     "name": "stderr",
     "output_type": "stream",
     "text": [
      "input_line_35:2:6: warning: implicit conversion from 'double' to 'int' changes value from 2.9 to 2 [-Wliteral-conversion]\n",
      " x = 2.9\n",
      "   ~ ^~~\n"
     ]
    },
    {
     "data": {
      "text/plain": [
       "2"
      ]
     },
     "execution_count": 17,
     "metadata": {},
     "output_type": "execute_result"
    }
   ],
   "source": [
    "x = 2.9"
   ]
  },
  {
   "cell_type": "code",
   "execution_count": 18,
   "metadata": {
    "vscode": {
     "languageId": "cpp"
    }
   },
   "outputs": [
    {
     "name": "stderr",
     "output_type": "stream",
     "text": [
      "input_line_37:10:12: warning: if statement has empty body [-Wempty-body]\n",
      "if (n > 0) ; //  if 语句：当 n > 0 时执行空语句（什么也不做）可能是错误输入的分号\n",
      "           ^\n",
      "input_line_37:10:12: note: put the semicolon on a separate line to silence this warning\n"
     ]
    },
    {
     "name": "stdout",
     "output_type": "stream",
     "text": [
      "这个数是真的正数。\n"
     ]
    },
    {
     "data": {
      "text/plain": [
       "@0x7f91ef6c0de0"
      ]
     },
     "execution_count": 18,
     "metadata": {},
     "output_type": "execute_result"
    }
   ],
   "source": [
    "// 仅有分号，它也是一个像 样的表达式语句，这样的语句称为空语句（null statement）\n",
    ";\n",
    "\n",
    "n = -4;\n",
    "if (n > 0)\n",
    "    cout << \"这个数是正数。\\n\";\n",
    "else\n",
    "    ; // 空语句\n",
    "\n",
    "// 请注意不要在 if 语句的“( 条件 )”后面误写空语句。例如：\n",
    "if (n > 0) ; //  if 语句：当 n > 0 时执行空语句（什么也不做）可能是错误输入的分号\n",
    "    cout << \"这个数是真的正数。\\n\";  // 与 if 语句无关：必定执行的表达式语句"
   ]
  },
  {
   "cell_type": "markdown",
   "metadata": {},
   "source": [
    "请思考在何种条件下语句1 和语句2 会被执行。 \n",
    "```cpp\n",
    "if (x == 1) \n",
    "    if (y == 1) \n",
    "        语句 1 \n",
    "else \n",
    "    语句 2\n",
    "```"
   ]
  },
  {
   "cell_type": "markdown",
   "metadata": {},
   "source": [
    "在你提供的代码中，存在一个经典的“悬挂else”问题。在 C++ 中（和许多其他语言中），`else` 分支总是与最近的未配对的 `if` 语句相关联。因此，这段代码的解析方式会导致一些可能不符合初衷的行为。\n",
    "\n",
    "### 代码逻辑解析\n",
    "这段代码实际上按照如下结构被解析：\n",
    "\n",
    "```cpp\n",
    "if (x == 1) {\n",
    "    if (y == 1) {\n",
    "        语句 1;\n",
    "    }\n",
    "} else {\n",
    "    语句 2;\n",
    "}\n",
    "```\n",
    "\n",
    "### 条件分析\n",
    "根据上述解析，我们可以确定在以下情况下各个语句的执行条件：\n",
    "\n",
    "- **语句 1**：当 `x == 1` 且 `y == 1` 时，`语句 1` 将被执行。\n",
    "- **语句 2**：仅当 `x != 1` 时，`语句 2` 将被执行。\n",
    "\n",
    "这意味着：\n",
    "\n",
    "1. 当 `x` 等于 1 并且 `y` 也等于 1 时，只有 `语句 1` 会执行。\n",
    "2. 当 `x` 等于 1 但 `y` 不等于 1 时，没有语句会被执行。\n",
    "3. 当 `x` 不等于 1 时，不论 `y` 的值如何，`语句 2` 会被执行。\n",
    "\n",
    "### 建议\n",
    "为了避免这类混淆，建议在使用多层 `if` 语句时总是使用花括号 `{}` 来明确代码块的范围。这不仅可以提高代码的可读性，也可以减少因悬挂 `else` 导致的逻辑错误。例如：\n",
    "\n",
    "```cpp\n",
    "if (x == 1) {\n",
    "    if (y == 1) {\n",
    "        语句 1;\n",
    "    }\n",
    "} else {\n",
    "    语句 2;\n",
    "}\n",
    "```\n",
    "\n",
    "这样编写可以确保每个 `if` 和 `else` 的配对清晰无误。"
   ]
  },
  {
   "cell_type": "code",
   "execution_count": 24,
   "metadata": {
    "vscode": {
     "languageId": "cpp"
    }
   },
   "outputs": [
    {
     "name": "stderr",
     "output_type": "stream",
     "text": [
      "input_line_44:7:1: warning: add explicit braces to avoid dangling else [-Wdangling-else]\n",
      "else       // 这个 else 与 if (y == 1) 匹配,而不是与 if (x == 1) 匹配\n",
      "^\n"
     ]
    },
    {
     "name": "stdout",
     "output_type": "stream",
     "text": [
      "x 不是 1。\n"
     ]
    }
   ],
   "source": [
    "int x = 1;\n",
    "int y = 2;\n",
    "\n",
    "if (x == 1)\n",
    "    if (y == 1)\n",
    "        cout << \"x 和 y 都是 1。\\n\";\n",
    "else       // 这个 else 与 if (y == 1) 匹配,而不是与 if (x == 1) 匹配\n",
    "    cout << \"x 不是 1。\\n\";\n"
   ]
  },
  {
   "cell_type": "code",
   "execution_count": 25,
   "metadata": {
    "vscode": {
     "languageId": "cpp"
    }
   },
   "outputs": [],
   "source": [
    "// judge the input integer is 1 digit, 2 digits or more than 2 digits\n",
    "\n",
    "int main()\n",
    "{\n",
    "    int n;\n",
    "\n",
    "    cout << \"请输入一个整数：\";\n",
    "    cin >> n;\n",
    "\n",
    "    if (n >= -9 && n <= 9)\n",
    "        cout << \"这个数是1位数。\\n\";\n",
    "    else if (n >= -99 && n <= 99)\n",
    "        cout << \"这个数是2位数。\\n\";\n",
    "    else\n",
    "        cout << \"这个数是3位数或更多位数。\\n\";\n",
    "}"
   ]
  },
  {
   "cell_type": "code",
   "execution_count": 26,
   "metadata": {
    "vscode": {
     "languageId": "cpp"
    }
   },
   "outputs": [
    {
     "name": "stdout",
     "output_type": "stream",
     "text": [
      "请输入一个整数：这个数是2位数。\n"
     ]
    },
    {
     "data": {
      "text/plain": [
       "0"
      ]
     },
     "execution_count": 26,
     "metadata": {},
     "output_type": "execute_result"
    }
   ],
   "source": [
    "main()"
   ]
  },
  {
   "cell_type": "code",
   "execution_count": 27,
   "metadata": {
    "vscode": {
     "languageId": "cpp"
    }
   },
   "outputs": [],
   "source": [
    "// judge the input month  in which season, and show the result\n",
    "\n",
    "int main()\n",
    "{\n",
    "    int month;\n",
    "\n",
    "    cout << \"请输入月份：\";\n",
    "    cin >> month;\n",
    "\n",
    "    if (month >= 3 && month <= 5) // 3月、4月、5月 春季\n",
    "        cout << \"这个月在春季。\\n\";\n",
    "    else if (month >= 6 && month <= 8)  // 6月、7月、8月 夏季\n",
    "        cout << \"这个月在夏季。\\n\";\n",
    "    else if (month >= 9 && month <= 11)  // 9月、10月、11月  秋季\n",
    "        cout << \"这个月在秋季。\\n\";\n",
    "    else if (month == 12 || month == 1 || month == 2)  // 12月、1月、2月 冬季\n",
    "        cout << \"这个月在冬季。\\n\";\n",
    "    else\n",
    "        cout << \"这个月份不存在。\\n\";\n",
    "}"
   ]
  },
  {
   "cell_type": "code",
   "execution_count": 30,
   "metadata": {
    "vscode": {
     "languageId": "cpp"
    }
   },
   "outputs": [
    {
     "name": "stdout",
     "output_type": "stream",
     "text": [
      "请输入月份：这个月在冬季。\n"
     ]
    },
    {
     "data": {
      "text/plain": [
       "0"
      ]
     },
     "execution_count": 30,
     "metadata": {},
     "output_type": "execute_result"
    }
   ],
   "source": [
    "main()"
   ]
  },
  {
   "cell_type": "code",
   "execution_count": 33,
   "metadata": {
    "vscode": {
     "languageId": "cpp"
    }
   },
   "outputs": [],
   "source": [
    "// show two input integers which is smaller\n",
    "\n",
    "int main()\n",
    "{\n",
    "    int a, b;\n",
    "\n",
    "    cout << \"请输入两个整数：\";\n",
    "    cin >> a >> b;\n",
    "\n",
    "    // if (a < b)\n",
    "    //     cout << \"较小的数是\" << a << \"。\\n\";\n",
    "    // else\n",
    "    //     cout << \"较小的数是\" << b << \"。\\n\";\n",
    "\n",
    "    // 使用条件运算符\n",
    "    cout << \"较小的数是\" << (a < b ? a : b) << \"。\\n\";\n",
    "}"
   ]
  },
  {
   "cell_type": "code",
   "execution_count": 34,
   "metadata": {
    "vscode": {
     "languageId": "cpp"
    }
   },
   "outputs": [
    {
     "name": "stdout",
     "output_type": "stream",
     "text": [
      "请输入两个整数：较小的数是3。\n"
     ]
    },
    {
     "data": {
      "text/plain": [
       "0"
      ]
     },
     "execution_count": 34,
     "metadata": {},
     "output_type": "execute_result"
    }
   ],
   "source": [
    "main()"
   ]
  },
  {
   "cell_type": "code",
   "execution_count": 35,
   "metadata": {
    "vscode": {
     "languageId": "cpp"
    }
   },
   "outputs": [],
   "source": [
    "// show the three inpout integers which is the biggest\n",
    "\n",
    "int main()\n",
    "{\n",
    "    int a, b, c;\n",
    "\n",
    "    cout << \"请输入三个整数：\";\n",
    "    cin >> a >> b >> c;\n",
    "\n",
    "    int max_left2 = a > b ? a : b;\n",
    "    int max_3 = max_left2 > c ? max_left2 : c;\n",
    "\n",
    "    cout << \"最大的数是\" << max_3 << \"。\\n\";\n",
    "}"
   ]
  },
  {
   "cell_type": "code",
   "execution_count": 36,
   "metadata": {
    "vscode": {
     "languageId": "cpp"
    }
   },
   "outputs": [
    {
     "name": "stdout",
     "output_type": "stream",
     "text": [
      "请输入三个整数：最大的数是63。\n"
     ]
    },
    {
     "data": {
      "text/plain": [
       "0"
      ]
     },
     "execution_count": 36,
     "metadata": {},
     "output_type": "execute_result"
    }
   ],
   "source": [
    "main()"
   ]
  },
  {
   "cell_type": "code",
   "execution_count": 37,
   "metadata": {
    "vscode": {
     "languageId": "cpp"
    }
   },
   "outputs": [],
   "source": [
    "// show two input integers which is bigger, and which is smaller\n",
    "\n",
    "int main()\n",
    "{\n",
    "    int a, b;\n",
    "\n",
    "    cout << \"请输入两个整数：\";\n",
    "    cin >> a >> b;\n",
    "\n",
    "    int min = a < b ? a : b;\n",
    "    int max = a > b ? a : b;\n",
    "\n",
    "    cout << \"较小的数是\" << min << \"。\\n\";\n",
    "    cout << \"较大的数是\" << max << \"。\\n\";\n",
    "}"
   ]
  },
  {
   "cell_type": "code",
   "execution_count": 38,
   "metadata": {
    "vscode": {
     "languageId": "cpp"
    }
   },
   "outputs": [
    {
     "name": "stdout",
     "output_type": "stream",
     "text": [
      "请输入两个整数：较小的数是334。\n",
      "较大的数是423。\n"
     ]
    },
    {
     "data": {
      "text/plain": [
       "0"
      ]
     },
     "execution_count": 38,
     "metadata": {},
     "output_type": "execute_result"
    }
   ],
   "source": [
    "main()"
   ]
  },
  {
   "cell_type": "code",
   "execution_count": 39,
   "metadata": {
    "vscode": {
     "languageId": "cpp"
    }
   },
   "outputs": [
    {
     "data": {
      "text/plain": [
       "20"
      ]
     },
     "execution_count": 39,
     "metadata": {},
     "output_type": "execute_result"
    }
   ],
   "source": [
    "int a = 10, b = 20, c = 30;\n",
    "\n",
    "c = (a, b); // 逗号运算符的结果是最后一个表达式的值，即 b 的值 20\n",
    "\n",
    "c"
   ]
  },
  {
   "cell_type": "code",
   "execution_count": 40,
   "metadata": {
    "vscode": {
     "languageId": "cpp"
    }
   },
   "outputs": [],
   "source": [
    "// show two input integers in ascending order\n",
    "\n",
    "int main()\n",
    "{\n",
    "    int a, b;\n",
    "\n",
    "    cout << \"请输入两个整数：\";\n",
    "    cin >> a >> b;\n",
    "\n",
    "    if (a > b)\n",
    "    {\n",
    "        int t = a;\n",
    "        a = b;\n",
    "        b = t;\n",
    "    }\n",
    "\n",
    "    cout << \"按升序排列为\" << a << \"、\" << b << \"。\\n\";\n",
    "}"
   ]
  },
  {
   "cell_type": "code",
   "execution_count": 41,
   "metadata": {
    "vscode": {
     "languageId": "cpp"
    }
   },
   "outputs": [
    {
     "name": "stdout",
     "output_type": "stream",
     "text": [
      "请输入两个整数：按升序排列为34、299。\n"
     ]
    },
    {
     "data": {
      "text/plain": [
       "0"
      ]
     },
     "execution_count": 41,
     "metadata": {},
     "output_type": "execute_result"
    }
   ],
   "source": [
    "main()"
   ]
  },
  {
   "cell_type": "code",
   "execution_count": 42,
   "metadata": {
    "vscode": {
     "languageId": "cpp"
    }
   },
   "outputs": [],
   "source": [
    "// show the input integer if  it can be divided by 10, show the remainder\n",
    "\n",
    "int main()\n",
    "{\n",
    "    int n;\n",
    "\n",
    "    cout << \"请输入一个整数：\";\n",
    "    cin >> n;\n",
    "\n",
    "    if (int r = n % 10) // 除以10的余数\n",
    "        cout << \"它不能被10整除，余数是\" << r << \"。\\n\";\n",
    "    else\n",
    "        cout << \"它可以被10整除。\\n\";\n",
    "}"
   ]
  },
  {
   "cell_type": "code",
   "execution_count": 44,
   "metadata": {
    "vscode": {
     "languageId": "cpp"
    }
   },
   "outputs": [
    {
     "name": "stdout",
     "output_type": "stream",
     "text": [
      "请输入一个整数：它不能被10整除，余数是1。\n"
     ]
    },
    {
     "data": {
      "text/plain": [
       "0"
      ]
     },
     "execution_count": 44,
     "metadata": {},
     "output_type": "execute_result"
    }
   ],
   "source": [
    "main()"
   ]
  },
  {
   "cell_type": "code",
   "execution_count": 46,
   "metadata": {
    "vscode": {
     "languageId": "cpp"
    }
   },
   "outputs": [],
   "source": [
    "// show the input real number if it can be divided by 10, show the remainder\n",
    "\n",
    "#include <iostream>\n",
    "#include <cmath>\n",
    "\n",
    "// using namespace std; have been added in the first cell\n",
    "\n",
    "int main()\n",
    "{\n",
    "    double x;\n",
    "\n",
    "    cout << \"请输入一个实数：\";\n",
    "    cin >> x;\n",
    "\n",
    "    if (double r = fmod(x, 10.0)) // 除以10的余数\n",
    "        cout << \"它不能被10整除，余数是\" << r << \"。\\n\";\n",
    "    else\n",
    "        cout << \"它可以被10整除。\\n\";\n",
    "}\n",
    "\n"
   ]
  },
  {
   "cell_type": "code",
   "execution_count": 49,
   "metadata": {
    "vscode": {
     "languageId": "cpp"
    }
   },
   "outputs": [
    {
     "name": "stdout",
     "output_type": "stream",
     "text": [
      "请输入一个实数：它不能被10整除，余数是-5.4。\n"
     ]
    },
    {
     "data": {
      "text/plain": [
       "0"
      ]
     },
     "execution_count": 49,
     "metadata": {},
     "output_type": "execute_result"
    }
   ],
   "source": [
    "main()"
   ]
  },
  {
   "cell_type": "code",
   "execution_count": 50,
   "metadata": {
    "vscode": {
     "languageId": "cpp"
    }
   },
   "outputs": [],
   "source": [
    "// 根据输入整数,显示猜拳手势\n",
    "\n",
    "int main()\n",
    "{\n",
    "    int hand;\n",
    "\n",
    "    cout << \"石头剪刀布猜拳开始！！\\n\";\n",
    "    cout << \"0...石头  1...剪刀  2...布\\n\";\n",
    "    cout << \"你出什么手势呢：\";\n",
    "    cin >> hand;\n",
    "\n",
    "    switch (hand) {\n",
    "        case 0: \n",
    "            cout << \"你出了石头。\\n\"; \n",
    "            break;\n",
    "        case 1: \n",
    "            cout << \"你出了剪刀。\\n\"; \n",
    "            break;\n",
    "        case 2: \n",
    "            cout << \"你出了布。\\n\"; \n",
    "            break;\n",
    "        default: \n",
    "            cout << \"别乱出手势！！\\n\"; \n",
    "            break;\n",
    "    }\n",
    "}"
   ]
  },
  {
   "cell_type": "code",
   "execution_count": 53,
   "metadata": {
    "vscode": {
     "languageId": "cpp"
    }
   },
   "outputs": [
    {
     "name": "stdout",
     "output_type": "stream",
     "text": [
      "石头剪刀布猜拳开始！！\n",
      "0...石头  1...剪刀  2...布\n",
      "你出什么手势呢：你出了布。\n"
     ]
    },
    {
     "data": {
      "text/plain": [
       "0"
      ]
     },
     "execution_count": 53,
     "metadata": {},
     "output_type": "execute_result"
    }
   ],
   "source": [
    "main()"
   ]
  },
  {
   "cell_type": "code",
   "execution_count": 54,
   "metadata": {
    "vscode": {
     "languageId": "cpp"
    }
   },
   "outputs": [],
   "source": [
    "// 判断是否输入的年份为闰年\n",
    "\n",
    "int main()\n",
    "{\n",
    "    int year;\n",
    "\n",
    "    cout << \"请输入年份：\";\n",
    "    cin >> year;\n",
    "\n",
    "    if ((year % 4 == 0 && year % 100 != 0) || year % 400 == 0)\n",
    "        cout << \"这是闰年。\\n\";\n",
    "    else\n",
    "        cout << \"这不是闰年。\\n\";\n",
    "}"
   ]
  },
  {
   "cell_type": "code",
   "execution_count": 55,
   "metadata": {
    "vscode": {
     "languageId": "cpp"
    }
   },
   "outputs": [
    {
     "name": "stdout",
     "output_type": "stream",
     "text": [
      "请输入年份：这是闰年。\n"
     ]
    },
    {
     "data": {
      "text/plain": [
       "0"
      ]
     },
     "execution_count": 55,
     "metadata": {},
     "output_type": "execute_result"
    }
   ],
   "source": [
    "main()"
   ]
  },
  {
   "cell_type": "code",
   "execution_count": 60,
   "metadata": {
    "vscode": {
     "languageId": "cpp"
    }
   },
   "outputs": [],
   "source": [
    "// 判断今年开始,下一个闰年是哪一年(包括今年)\n",
    "// 根据系统或者网络,得到今年的年份\n",
    "\n",
    "#include <iostream>\n",
    "#include <ctime>\n",
    "\n",
    "int main() {\n",
    "    // 获取当前系统时间\n",
    "    time_t now = time(0);\n",
    "    // 转换为本地时间\n",
    "    tm *ltm = localtime(&now);\n",
    "    // 获取当前年份，注意tm_year字段给出的是从1900年起的年数\n",
    "    int year = 1900 + ltm->tm_year;\n",
    "\n",
    "    std::cout << \"今年是哪一年呢：\" << year << \"年。\\n\";\n",
    "\n",
    "    // 计算下一个闰年\n",
    "    while (!((year % 4 == 0 && year % 100 != 0) || year % 400 == 0)) {\n",
    "        year++;\n",
    "    }\n",
    "\n",
    "    std::cout << \"下一个闰年是\" << year << \"年。\\n\";\n",
    "    return 0;\n",
    "}\n",
    "\n"
   ]
  },
  {
   "cell_type": "code",
   "execution_count": 61,
   "metadata": {
    "vscode": {
     "languageId": "cpp"
    }
   },
   "outputs": [
    {
     "name": "stdout",
     "output_type": "stream",
     "text": [
      "今年是哪一年呢：2024年。\n",
      "下一个闰年是2024年。\n"
     ]
    },
    {
     "data": {
      "text/plain": [
       "0"
      ]
     },
     "execution_count": 61,
     "metadata": {},
     "output_type": "execute_result"
    }
   ],
   "source": [
    "main()"
   ]
  },
  {
   "cell_type": "markdown",
   "metadata": {},
   "source": [
    "因为 #include 是执行预处理指令的特别语句,并不是关键字。 另外,# 和 include 是各自独立的。因此,# 和 include 不必紧靠在一起。也就是说,在它们之间 键入空格或制表符也是可以的。"
   ]
  },
  {
   "cell_type": "code",
   "execution_count": 64,
   "metadata": {
    "vscode": {
     "languageId": "cpp"
    }
   },
   "outputs": [
    {
     "data": {
      "text/plain": [
       "2"
      ]
     },
     "execution_count": 64,
     "metadata": {},
     "output_type": "execute_result"
    }
   ],
   "source": [
    "int include;\n",
    "include = 2;\n",
    "\n",
    "include"
   ]
  },
  {
   "cell_type": "code",
   "execution_count": null,
   "metadata": {
    "vscode": {
     "languageId": "cpp"
    }
   },
   "outputs": [],
   "source": []
  }
 ],
 "metadata": {
  "kernelspec": {
   "display_name": "C++17",
   "language": "C++17",
   "name": "xcpp17"
  },
  "language_info": {
   "codemirror_mode": "text/x-c++src",
   "file_extension": ".cpp",
   "mimetype": "text/x-c++src",
   "name": "C++17",
   "version": "17"
  }
 },
 "nbformat": 4,
 "nbformat_minor": 2
}
